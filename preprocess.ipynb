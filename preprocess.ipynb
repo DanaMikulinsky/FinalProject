{
 "cells": [
  {
   "metadata": {
    "ExecuteTime": {
     "end_time": "2024-10-14T19:03:03.079321Z",
     "start_time": "2024-10-14T19:03:03.071785Z"
    }
   },
   "cell_type": "code",
   "source": [
    "from DBHandler import DBHandler\n",
    "\n",
    "import google.generativeai as genai\n",
    "\n",
    "# semantic chunking imports\n",
    "from semantic_router.splitters import RollingWindowSplitter\n",
    "from semantic_router.encoders import CohereEncoder, OpenAIEncoder\n",
    "from semantic_router.utils.logger import logger\n",
    "\n",
    "logger.setLevel(\"WARNING\")  # reduce logs from splitter\n",
    "import warnings\n",
    "warnings.filterwarnings(\"ignore\")\n",
    "\n",
    "from typing import Union\n",
    "\n",
    "import os\n",
    "from dotenv import load_dotenv\n",
    "load_dotenv()\n"
   ],
   "id": "36b6dd3e56ccff54",
   "outputs": [
    {
     "data": {
      "text/plain": [
       "True"
      ]
     },
     "execution_count": 10,
     "metadata": {},
     "output_type": "execute_result"
    }
   ],
   "execution_count": 10
  },
  {
   "metadata": {
    "ExecuteTime": {
     "end_time": "2024-10-14T18:56:41.468763Z",
     "start_time": "2024-10-14T18:56:41.287611Z"
    }
   },
   "cell_type": "code",
   "source": [
    "genai.configure(api_key=os.getenv('GOOGLE_API_KEY'))\n",
    "handler = DBHandler('maccabi')\n"
   ],
   "id": "7eae7ce83cdb8ff2",
   "outputs": [],
   "execution_count": 2
  },
  {
   "cell_type": "code",
   "id": "initial_id",
   "metadata": {
    "collapsed": true,
    "ExecuteTime": {
     "end_time": "2024-10-14T17:32:12.558960Z",
     "start_time": "2024-10-14T17:32:12.518026Z"
    }
   },
   "source": [
    "def semantic_chunking(encoder: Union[type(CohereEncoder), type(OpenAIEncoder())], directory_path: str, score_threshold: float = 0.5) -> list:\n",
    "\t\"\"\"\n",
    "    Use the semantic chunking to split the documents into semantic chunks\n",
    "    Args:\n",
    "        encoder: an embedding model to use for the semantic chunking\n",
    "        directory_path (str): path to the directory containing the documents\n",
    "        score_threshold (float): the score threshold for the encoder below which the split is made, between 0 and 1\n",
    "    Returns:\n",
    "        splits (list): list of the semantic chunks\n",
    "    \"\"\"\n",
    "\tencoder.score_threshold = score_threshold\n",
    "\tsplitter = RollingWindowSplitter(\n",
    "\t\t# Todo: adjust the parameters according to the dataset\n",
    "\t\tencoder=encoder,\n",
    "\t\tdynamic_threshold=False,\n",
    "\t\tmin_split_tokens=100,\n",
    "\t\tmax_split_tokens=400,\n",
    "\t\twindow_size=5,\n",
    "\t\tplot_splits=True,\n",
    "\t\tenable_statistics=True\n",
    "\t)\n",
    "\n",
    "\tsplits = []\n",
    "\tfor file_name in os.listdir(directory_path):\n",
    "\t\tprint(file_name)\n",
    "\t\tfile = open(f'{directory_path}/{file_name}', \"r\")\n",
    "\t\texample_faq = file.read()\n",
    "\t\tfile.close()\n",
    "\n",
    "\t\tcurrent_splits = splitter([example_faq])\n",
    "\t\tcomplete_current_splits = []\n",
    "\n",
    "\t\tfor i in range(len(current_splits)):\n",
    "\t\t\t# for more context, add 200 chars from the previous and next splits\n",
    "\t\t\tif i == 0:\n",
    "\t\t\t\tcomplete_current_splits.append(' '.join(current_splits[i].docs + current_splits[i + 1].docs[:200]))\n",
    "\t\t\telif i + 1 == len(current_splits):\n",
    "\t\t\t\tcomplete_current_splits.append(' '.join(current_splits[i - 1].docs[-200:] + current_splits[i].docs))\n",
    "\t\t\telse:\n",
    "\t\t\t\tcomplete_current_splits.append(' '.join(\n",
    "\t\t\t\t\tcurrent_splits[i - 1].docs[-200:] + current_splits[i].docs + current_splits[i + 1].docs[:200]))\n",
    "\n",
    "\t\tsplits.extend(complete_current_splits)\n",
    "\treturn splits\n",
    "\n",
    "\n",
    "def google_embedding(text: str, model: str = 'models/text-embedding-004') -> list:\n",
    "\t\"\"\"\n",
    "\tUse the Google Embedding API to embed the text\n",
    "\tArgs:\n",
    "\t\ttext (str): the text to embed\n",
    "\t\tmodel (str): the name of the model to use for the embedding, either 'models/text-embedding-004' or 'models/embedding-001'\n",
    "\tReturns:\n",
    "\t\tembedding (list): the embedding vector of the text\n",
    "\tRaises:\n",
    "\t\tException: if there is an error in embedding the text\n",
    "\t\"\"\"\n",
    "\ttry:\n",
    "\t\tembedding = genai.embed_content(model=model, content=text, task_type='retrieval_document')\n",
    "\texcept Exception as e:\n",
    "\t\traise Exception(f'Error in embedding the text: {e}')\n",
    "\t\t\n",
    "\treturn embedding['embedding']\n",
    "\n",
    "\n",
    "def create_chunks(encoder: Union[type(CohereEncoder), type(OpenAIEncoder())], directory_path: str, score_threshold: float = 0.5, model: str = 'models/text-embedding-004') -> list:\n",
    "\t\"\"\"\n",
    "\tCreate the chunks of the documents and embed them\n",
    "\tArgs:\n",
    "\t\tencoder: an embedding model to use for the semantic chunking\n",
    "\t\tdirectory_path (str): path to the directory containing the documents\n",
    "\t\tscore_threshold (float): the score threshold for the encoder below which the split is made, between 0 and 1\n",
    "\t\tmodel (str): the name of the model to use for the embedding, either 'models/text-embedding-004' or 'models/embedding-001'\n",
    "\tReturns:\n",
    "\t\tchunks (list): list of the chunks with their embeddings\n",
    "\t\"\"\"\n",
    "\tsplits = semantic_chunking(encoder, directory_path, score_threshold)\n",
    "\t\n",
    "\tchunks = []\n",
    "\tfor split in splits:\n",
    "\t\tembedding = google_embedding(split, model)\n",
    "\t\tchunk = {\n",
    "\t\t\t'text': split,\n",
    "\t\t\t'embedding': embedding\n",
    "\t\t}\n",
    "\t\tchunks.append(chunk)\n",
    "\t\t\n",
    "\treturn chunks\n",
    "\n",
    "# chunks = create_chunks(CohereEncoder(), 'testing_files', 0.5, 'models/text-embedding-004')\n",
    "# handler.update('embeddings', chunks)"
   ],
   "outputs": [],
   "execution_count": 50
  },
  {
   "metadata": {},
   "cell_type": "code",
   "outputs": [],
   "execution_count": null,
   "source": "",
   "id": "9f858a083ef1f540"
  }
 ],
 "metadata": {
  "kernelspec": {
   "display_name": "Python 3",
   "language": "python",
   "name": "python3"
  },
  "language_info": {
   "codemirror_mode": {
    "name": "ipython",
    "version": 2
   },
   "file_extension": ".py",
   "mimetype": "text/x-python",
   "name": "python",
   "nbconvert_exporter": "python",
   "pygments_lexer": "ipython2",
   "version": "2.7.6"
  }
 },
 "nbformat": 4,
 "nbformat_minor": 5
}
