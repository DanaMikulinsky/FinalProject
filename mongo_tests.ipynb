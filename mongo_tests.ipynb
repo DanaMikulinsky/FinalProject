{
 "cells": [
  {
   "metadata": {
    "ExecuteTime": {
     "end_time": "2024-10-14T15:17:50.899965Z",
     "start_time": "2024-10-14T15:17:50.849855Z"
    }
   },
   "cell_type": "code",
   "source": [
    "from pymongo import MongoClient\n",
    "\n",
    "import os\n",
    "from dotenv import load_dotenv\n",
    "load_dotenv()\n"
   ],
   "id": "ec710063d549c562",
   "outputs": [
    {
     "data": {
      "text/plain": [
       "True"
      ]
     },
     "execution_count": 1,
     "metadata": {},
     "output_type": "execute_result"
    }
   ],
   "execution_count": 1
  },
  {
   "metadata": {
    "ExecuteTime": {
     "end_time": "2024-10-14T15:17:51.665558Z",
     "start_time": "2024-10-14T15:17:51.662781Z"
    }
   },
   "cell_type": "code",
   "source": [
    "db_constants = {'connection_string': os.getenv('MONGODB_CONNECTION_STRING'),\n",
    "\t\t\t\t'embeddings_db': 'embeddings',\n",
    "\t\t\t\t'embeddings_collection': 'clusters',\n",
    "\t\t\t\t'histories_db': 'chat_histories',\n",
    "\t\t\t\t'user_id': '0000'}\n",
    "\n",
    "example_history = [\n",
    "{'role': 'user', 'content': 'What is the capital of France?'},\n",
    "{'role': 'chatbot', 'content': 'The capital of France is Paris.'},\n",
    "{'role': 'user', 'content': \"And what is it's population?\"},\n",
    "]"
   ],
   "id": "b981a4e6379b2280",
   "outputs": [],
   "execution_count": 2
  },
  {
   "cell_type": "code",
   "id": "initial_id",
   "metadata": {
    "collapsed": true,
    "ExecuteTime": {
     "end_time": "2024-10-14T15:17:53.311894Z",
     "start_time": "2024-10-14T15:17:53.308591Z"
    }
   },
   "source": [
    "def get_chat_history(db_constants):\n",
    "    client = MongoClient(db_constants['connection_string'])\n",
    "    collection = client[db_constants['histories_db']][db_constants['user_id']]\n",
    "    messages = collection.find()\n",
    "    # Format the messages in the desired 'Rule: Content' format\n",
    "    formatted_messages = [f\"{message['role']}: {message['content']}\" for message in messages]\n",
    "    return formatted_messages\n",
    "\n",
    "\n",
    "def update_chat_history(db_constants, message):\n",
    "    client = MongoClient(db_constants['connection_string'])\n",
    "    collection = client[db_constants['histories_db']][db_constants['user_id']]\n",
    "    collection.insert_one(message)\n",
    "\n",
    "\n",
    "def reset_chat_history(db_constants):\n",
    "    client = MongoClient(db_constants['connection_string'])\n",
    "    collection = client[db_constants['histories_db']][db_constants['user_id']]\n",
    "    collection.delete_many({})\n",
    "\n"
   ],
   "outputs": [],
   "execution_count": 4
  },
  {
   "metadata": {
    "ExecuteTime": {
     "end_time": "2024-10-14T15:17:57.364749Z",
     "start_time": "2024-10-14T15:17:56.072187Z"
    }
   },
   "cell_type": "code",
   "source": "get_chat_history(db_constants)",
   "id": "a3a653e90fd32a01",
   "outputs": [
    {
     "data": {
      "text/plain": [
       "['user: What is the capital of France?',\n",
       " 'chatbot: The capital of France is Paris.',\n",
       " \"user: And what is it's population?\"]"
      ]
     },
     "execution_count": 5,
     "metadata": {},
     "output_type": "execute_result"
    }
   ],
   "execution_count": 5
  },
  {
   "metadata": {
    "ExecuteTime": {
     "end_time": "2024-10-14T13:27:00.669597Z",
     "start_time": "2024-10-14T13:26:59.536594Z"
    }
   },
   "cell_type": "code",
   "source": "update_chat_history(db_constants, example_history[2])",
   "id": "61ef51efa88b96c",
   "outputs": [],
   "execution_count": 14
  },
  {
   "metadata": {},
   "cell_type": "code",
   "outputs": [],
   "execution_count": null,
   "source": "",
   "id": "e89bb3dbaa6d7dc6"
  }
 ],
 "metadata": {
  "kernelspec": {
   "display_name": "Python 3",
   "language": "python",
   "name": "python3"
  },
  "language_info": {
   "codemirror_mode": {
    "name": "ipython",
    "version": 2
   },
   "file_extension": ".py",
   "mimetype": "text/x-python",
   "name": "python",
   "nbconvert_exporter": "python",
   "pygments_lexer": "ipython2",
   "version": "2.7.6"
  }
 },
 "nbformat": 4,
 "nbformat_minor": 5
}
