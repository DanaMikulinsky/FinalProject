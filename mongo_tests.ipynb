{
 "cells": [
  {
   "metadata": {
    "ExecuteTime": {
     "end_time": "2024-10-14T18:51:12.473482Z",
     "start_time": "2024-10-14T18:51:12.466648Z"
    }
   },
   "cell_type": "code",
   "source": [
    "from pymongo import MongoClient\n",
    "from pymongo.results import InsertOneResult, InsertManyResult\n",
    "from pymongo.errors import BulkWriteError\n",
    "\n",
    "from typing import Union\n",
    "\n",
    "import os\n",
    "from dotenv import load_dotenv\n",
    "load_dotenv()\n"
   ],
   "id": "ec710063d549c562",
   "outputs": [
    {
     "data": {
      "text/plain": [
       "True"
      ]
     },
     "execution_count": 57,
     "metadata": {},
     "output_type": "execute_result"
    }
   ],
   "execution_count": 57
  },
  {
   "metadata": {
    "ExecuteTime": {
     "end_time": "2024-10-14T18:51:39.545197Z",
     "start_time": "2024-10-14T18:51:39.541601Z"
    }
   },
   "cell_type": "code",
   "source": [
    "example_history = [\n",
    "{'role': 'user', 'content': 'What is the capital of France?'},\n",
    "{'role': 'chatbot', 'content': 'The capital of France is Paris.'},\n",
    "{'role': 'user', 'content': 'And what is its population?'},\n",
    "]"
   ],
   "id": "b981a4e6379b2280",
   "outputs": [],
   "execution_count": 64
  },
  {
   "cell_type": "code",
   "id": "initial_id",
   "metadata": {
    "collapsed": true,
    "ExecuteTime": {
     "end_time": "2024-10-14T16:07:32.662452Z",
     "start_time": "2024-10-14T16:07:32.657010Z"
    }
   },
   "source": [
    "def get_chat_history(db_constants: dict) -> list:\n",
    "    \"\"\"\n",
    "    Get the chat history from the database\n",
    "    Args:\n",
    "        db_constants (dict): A dictionary containing the database connection string and the user ID\n",
    "    Returns:\n",
    "        list: A list of strings containing the chat history in the format 'role: content'\n",
    "    Raises:\n",
    "        Exception: If an error occurs while trying to get the chat history\n",
    "    \"\"\"\n",
    "    try:\n",
    "        client = MongoClient(db_constants['connection_string'])\n",
    "        collection = client[db_constants['histories_db']][db_constants['user_id']]\n",
    "        messages = collection.find()\n",
    "    except Exception as e:\n",
    "        raise f'An error occurred while trying to get the chat history: {e}'\n",
    "    \n",
    "    # Format the messages in the desired 'role: content' format\n",
    "    formatted_messages = [f\"{message['role']}: {message['content']}\" for message in messages]\n",
    "    return formatted_messages\n",
    "\n",
    "\n",
    "def update_chat_history(db_constants: dict, message: Union[dict, list]) -> Union[InsertOneResult, InsertManyResult]:\n",
    "    \"\"\"\n",
    "    Update the chat history in the database\n",
    "    Args:\n",
    "        db_constants (dict): A dictionary containing the database connection string and the user ID\n",
    "        message (dict or list): A dictionary or a list of dictionaries containing the messages to be added to the chat history\n",
    "    Returns:\n",
    "        InsertOneResult or InsertManyResult: The ID of the inserted document or a list of IDs of the inserted documents\n",
    "    Raises:\n",
    "        ValueError: If the message is not a dictionary or a list of dictionaries\n",
    "        Exception: If an error occurs while trying to update the chat history\n",
    "    \"\"\"\n",
    "    try:\n",
    "        client = MongoClient(db_constants['connection_string'])\n",
    "        collection = client[db_constants['histories_db']][db_constants['user_id']]\n",
    "        if isinstance(message, dict):\n",
    "            result = collection.insert_one(message)\n",
    "        elif isinstance(message, list):\n",
    "            result = collection.insert_many(message)\n",
    "        else:\n",
    "            raise ValueError('Message must be a dictionary or a list of dictionaries.')\n",
    "    except Exception as e:\n",
    "        raise f'An error occurred while trying to update the chat history: {e}'\n",
    "    \n",
    "    return result\n",
    "    \n",
    "\n",
    "def reset_chat_history(db_constants: dict):\n",
    "    \"\"\"\n",
    "    Delete all the chat history from the collection\n",
    "    Args:\n",
    "        db_constants (dict): A dictionary containing the database connection string and the user ID\n",
    "    Raises:\n",
    "        Exception: If an error occurs while trying to reset the chat history\n",
    "    \"\"\"\n",
    "    client = MongoClient(db_constants['connection_string'])\n",
    "    collection = client[db_constants['histories_db']][db_constants['user_id']]\n",
    "    try:\n",
    "        collection.delete_many({})\n",
    "    except Exception as e:\n",
    "        raise f'An error occurred while trying to reset the chat history: {e}'\n",
    "    \n",
    "    "
   ],
   "outputs": [],
   "execution_count": 16
  },
  {
   "metadata": {
    "ExecuteTime": {
     "end_time": "2024-10-14T18:51:19.166544Z",
     "start_time": "2024-10-14T18:51:19.157532Z"
    }
   },
   "cell_type": "code",
   "source": [
    "\n",
    "\n",
    "class DBHandler:\n",
    "    def __init__(self, user_id: str, connection_string: Union[str, None] = None):\n",
    "        \"\"\"\n",
    "        Initialize the DBHandler class\n",
    "        Args:\n",
    "            user_id (str): The name of the collection containing the chat histories\n",
    "            connection_string (str): The connection string to the MongoDB database\n",
    "        \"\"\"\n",
    "        # constants\n",
    "        self.embeddings_db = 'embeddings'\n",
    "        self.histories_db = 'histories'\n",
    "        \n",
    "        if not connection_string:\n",
    "            connection_string = os.getenv('MONGODB_CONNECTION_STRING')\n",
    "        try:\n",
    "             if not connection_string or not isinstance(connection_string, str):\n",
    "                raise ValueError('Connection string must be a non-empty string.')\n",
    "             else: \n",
    "                self.client = MongoClient(connection_string)\n",
    "        except Exception as e:\n",
    "            raise f'An error occurred while trying to connect to the database: {e}'\n",
    "        \n",
    "        self.embeddings_collection = self.client[self.embeddings_db][user_id]\n",
    "        self.history_collection = self.client[self.histories_db][user_id]\n",
    "        \n",
    "    def get_history(self) -> list:\n",
    "        \"\"\"\n",
    "        Get the chat history from the database\n",
    "        Returns:\n",
    "            list: A list of strings containing the chat history in the format 'role: content'\n",
    "        Raises:\n",
    "            Exception: If an error occurs while trying to get the chat history\n",
    "        \"\"\"\n",
    "        try:\n",
    "            messages = self.history_collection.find()\n",
    "        except Exception as e:\n",
    "            raise f'An error occurred while trying to get the chat history: {e}'\n",
    "        \n",
    "        # Format the messages in the desired 'role: content' format\n",
    "        formatted_messages = [f\"{message['role']}: {message['content']}\" for message in messages]\n",
    "        return formatted_messages\n",
    "    \n",
    "    def update(self, db: str, items: Union[dict, list]) -> Union[InsertOneResult, InsertManyResult]:\n",
    "        \"\"\"\n",
    "        Update the chat history in the database\n",
    "        Args:\n",
    "            db (str): The name of the db to update, either 'embeddings' or 'history'\n",
    "            items (dict or list): A dictionary or a list of dictionaries containing the items to be added to the collection\n",
    "        Returns:\n",
    "            InsertOneResult or InsertManyResult: The ID of the inserted document or a list of IDs of the inserted documents\n",
    "        Raises:\n",
    "            ValueError: If the message is not a dictionary or a list of dictionaries\n",
    "            Exception: If an error occurs while trying to update the chat history\n",
    "        \"\"\"\n",
    "        if db == 'embeddings':\n",
    "            collection = self.embeddings_collection\n",
    "        elif db == 'history':\n",
    "            collection = self.history_collection\n",
    "        else:\n",
    "            raise ValueError('The db must be either \"embeddings\" or \"history\".')\n",
    "        \n",
    "        try:\n",
    "            if isinstance(items, dict):\n",
    "                result = collection.insert_one(items)\n",
    "            elif isinstance(items, list):\n",
    "                result = collection.insert_many(items)\n",
    "            else:\n",
    "                raise ValueError('items must be a dictionary or a list of dictionaries.')\n",
    "        except BulkWriteError as bwe:\n",
    "            raise RuntimeError(f'Duplicate key error occurred: {bwe.details}')\n",
    "        except Exception as e:\n",
    "            raise RuntimeError(f'An error occurred while trying to update the chat history: {str(e)}')\n",
    "\n",
    "        return result\n",
    "    \n",
    "    def reset_history(self):\n",
    "        \"\"\"\n",
    "        Delete all the chat history from the collection\n",
    "        Raises:\n",
    "            Exception: If an error occurs while trying to reset the chat history\n",
    "        \"\"\"\n",
    "        try:\n",
    "            self.history_collection.delete_many({})\n",
    "        except Exception as e:\n",
    "            raise f'An error occurred while trying to reset the chat history: {e}'\n",
    "        \n",
    "        "
   ],
   "id": "b2bdf7d9b14050c6",
   "outputs": [],
   "execution_count": 59
  },
  {
   "metadata": {
    "ExecuteTime": {
     "end_time": "2024-10-14T18:51:20.284316Z",
     "start_time": "2024-10-14T18:51:20.237621Z"
    }
   },
   "cell_type": "code",
   "source": "handler = DBHandler('maccabi')",
   "id": "f1d47dc3cd41473",
   "outputs": [],
   "execution_count": 60
  },
  {
   "metadata": {
    "ExecuteTime": {
     "end_time": "2024-10-14T18:51:42.416267Z",
     "start_time": "2024-10-14T18:51:42.293076Z"
    }
   },
   "cell_type": "code",
   "source": "handler.update(db='history', items=example_history)",
   "id": "cc53c2b4998b210d",
   "outputs": [
    {
     "data": {
      "text/plain": [
       "InsertManyResult([ObjectId('670d683e416706117c59b39c'), ObjectId('670d683e416706117c59b39d'), ObjectId('670d683e416706117c59b39e')], acknowledged=True)"
      ]
     },
     "execution_count": 65,
     "metadata": {},
     "output_type": "execute_result"
    }
   ],
   "execution_count": 65
  },
  {
   "metadata": {
    "ExecuteTime": {
     "end_time": "2024-10-14T18:51:44.452013Z",
     "start_time": "2024-10-14T18:51:44.334833Z"
    }
   },
   "cell_type": "code",
   "source": "handler.get_history()",
   "id": "fb944467b0bf7469",
   "outputs": [
    {
     "data": {
      "text/plain": [
       "['user: What is the capital of France?',\n",
       " 'chatbot: The capital of France is Paris.',\n",
       " 'user: And what is its population?',\n",
       " 'user: What is the capital of France?',\n",
       " 'chatbot: The capital of France is Paris.',\n",
       " 'user: And what is its population?',\n",
       " 'user: What is the capital of France?',\n",
       " 'chatbot: The capital of France is Paris.',\n",
       " 'user: And what is its population?']"
      ]
     },
     "execution_count": 66,
     "metadata": {},
     "output_type": "execute_result"
    }
   ],
   "execution_count": 66
  },
  {
   "metadata": {
    "ExecuteTime": {
     "end_time": "2024-10-14T18:38:45.651488Z",
     "start_time": "2024-10-14T18:38:45.534271Z"
    }
   },
   "cell_type": "code",
   "source": "handler.reset_history()",
   "id": "8078659a2620fc7d",
   "outputs": [],
   "execution_count": 48
  },
  {
   "metadata": {},
   "cell_type": "code",
   "outputs": [],
   "execution_count": null,
   "source": "",
   "id": "609809ac9cd2e5c"
  }
 ],
 "metadata": {
  "kernelspec": {
   "display_name": "Python 3",
   "language": "python",
   "name": "python3"
  },
  "language_info": {
   "codemirror_mode": {
    "name": "ipython",
    "version": 2
   },
   "file_extension": ".py",
   "mimetype": "text/x-python",
   "name": "python",
   "nbconvert_exporter": "python",
   "pygments_lexer": "ipython2",
   "version": "2.7.6"
  }
 },
 "nbformat": 4,
 "nbformat_minor": 5
}
