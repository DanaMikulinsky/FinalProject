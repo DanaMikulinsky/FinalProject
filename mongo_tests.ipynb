{
 "cells": [
  {
   "metadata": {},
   "cell_type": "code",
   "source": [
    "from pymongo import MongoClient\n",
    "\n",
    "import os\n",
    "from dotenv import load_dotenv\n",
    "load_dotenv()\n"
   ],
   "id": "ec710063d549c562",
   "outputs": [],
   "execution_count": null
  },
  {
   "metadata": {
    "ExecuteTime": {
     "end_time": "2024-10-06T15:59:19.027682Z",
     "start_time": "2024-10-06T15:59:19.023551Z"
    }
   },
   "cell_type": "code",
   "source": [
    "db_constants = {'connection_string': os.getenv('MONGODB_CONNECTION_STRING'),\n",
    "\t\t\t\t'embeddings_db': 'embeddings',\n",
    "\t\t\t\t'embeddings_collection': 'clusters',\n",
    "\t\t\t\t'histories_db': 'chat_histories',\n",
    "\t\t\t\t'user_id': '0000'}\n",
    "\n",
    "example_history = [\n",
    "{\"role\": \"user\", \"content\": \"What is the capital of France?\"},\n",
    "{\"role\": \"chatbot\", \"content\": \"The capital of France is Paris.\"},\n",
    "{\"role\": \"user\", \"content\": \"And what is it's population?\"},\n",
    "]"
   ],
   "id": "b981a4e6379b2280",
   "outputs": [],
   "execution_count": 38
  },
  {
   "metadata": {
    "ExecuteTime": {
     "end_time": "2024-10-06T15:59:19.851393Z",
     "start_time": "2024-10-06T15:59:19.847826Z"
    }
   },
   "cell_type": "code",
   "source": [
    "message = {'Rule': 'User',\n",
    "           'Content': 'Hiiii'}\n"
   ],
   "id": "80d0890519620cc9",
   "outputs": [],
   "execution_count": 39
  },
  {
   "cell_type": "code",
   "id": "initial_id",
   "metadata": {
    "collapsed": true,
    "ExecuteTime": {
     "end_time": "2024-10-06T15:59:21.563658Z",
     "start_time": "2024-10-06T15:59:21.558345Z"
    }
   },
   "source": [
    "def get_chat_history(db_constants, user_id):\n",
    "    client = MongoClient(db_constants['connection_string'])\n",
    "    collection = client[db_constants['histories_db']][db_constants[user_id]]\n",
    "    messages = collection.find()\n",
    "    # Format the messages in the desired 'Rule: Content' format\n",
    "    formatted_messages = [f\"{message['Rule']}: {message['Content']}\" for message in messages]\n",
    "    return formatted_messages\n",
    "\n",
    "\n",
    "def update_chat_history(db_constants, user_id, message):\n",
    "    client = MongoClient(db_constants['connection_string'])\n",
    "    collection = client[db_constants['histories_db']][db_constants[user_id]]\n",
    "    collection.insert_one(message)\n",
    "\n",
    "\n",
    "def reset_chat_history(db_constants, user_id):\n",
    "    client = MongoClient(db_constants['connection_string'])\n",
    "    collection = client[db_constants['histories_db']][db_constants[user_id]]\n",
    "    collection.delete_many({})\n",
    "\n"
   ],
   "outputs": [],
   "execution_count": 40
  },
  {
   "metadata": {
    "ExecuteTime": {
     "end_time": "2024-10-06T16:28:25.366580Z",
     "start_time": "2024-10-06T16:28:25.301731Z"
    }
   },
   "cell_type": "code",
   "source": [
    "for message in example_history:\n",
    "    update_chat_history(db_constants, '0000', message)\n",
    "    \n",
    "    "
   ],
   "id": "f27f709520fca277",
   "outputs": [
    {
     "ename": "KeyError",
     "evalue": "'0000'",
     "output_type": "error",
     "traceback": [
      "\u001B[0;31m---------------------------------------------------------------------------\u001B[0m",
      "\u001B[0;31mKeyError\u001B[0m                                  Traceback (most recent call last)",
      "Cell \u001B[0;32mIn[46], line 2\u001B[0m\n\u001B[1;32m      1\u001B[0m \u001B[38;5;28;01mfor\u001B[39;00m message \u001B[38;5;129;01min\u001B[39;00m example_history:\n\u001B[0;32m----> 2\u001B[0m     \u001B[43mupdate_chat_history\u001B[49m\u001B[43m(\u001B[49m\u001B[43mdb_constants\u001B[49m\u001B[43m,\u001B[49m\u001B[43m \u001B[49m\u001B[38;5;124;43m'\u001B[39;49m\u001B[38;5;124;43m0000\u001B[39;49m\u001B[38;5;124;43m'\u001B[39;49m\u001B[43m,\u001B[49m\u001B[43m \u001B[49m\u001B[43mmessage\u001B[49m\u001B[43m)\u001B[49m\n",
      "Cell \u001B[0;32mIn[40], line 12\u001B[0m, in \u001B[0;36mupdate_chat_history\u001B[0;34m(db_constants, user_id, message)\u001B[0m\n\u001B[1;32m     10\u001B[0m \u001B[38;5;28;01mdef\u001B[39;00m \u001B[38;5;21mupdate_chat_history\u001B[39m(db_constants, user_id, message):\n\u001B[1;32m     11\u001B[0m     client \u001B[38;5;241m=\u001B[39m MongoClient(db_constants[\u001B[38;5;124m'\u001B[39m\u001B[38;5;124mconnection_string\u001B[39m\u001B[38;5;124m'\u001B[39m])\n\u001B[0;32m---> 12\u001B[0m     collection \u001B[38;5;241m=\u001B[39m client[db_constants[\u001B[38;5;124m'\u001B[39m\u001B[38;5;124mhistories_db\u001B[39m\u001B[38;5;124m'\u001B[39m]][\u001B[43mdb_constants\u001B[49m\u001B[43m[\u001B[49m\u001B[43muser_id\u001B[49m\u001B[43m]\u001B[49m]\n\u001B[1;32m     13\u001B[0m     collection\u001B[38;5;241m.\u001B[39minsert_one(message)\n",
      "\u001B[0;31mKeyError\u001B[0m: '0000'"
     ]
    }
   ],
   "execution_count": 46
  },
  {
   "metadata": {
    "ExecuteTime": {
     "end_time": "2024-10-06T16:22:06.815930Z",
     "start_time": "2024-10-06T16:22:05.285162Z"
    }
   },
   "cell_type": "code",
   "source": [
    "client = MongoClient(db_constants['connection_string'])\n",
    "collection = client[db_constants['histories_db']]['0000']\n",
    "collection.insert_one(example_history[0])"
   ],
   "id": "5ae8bb72c787b921",
   "outputs": [
    {
     "data": {
      "text/plain": [
       "InsertOneResult(ObjectId('6702b92d137caee9f6cc8484'), acknowledged=True)"
      ]
     },
     "execution_count": 45,
     "metadata": {},
     "output_type": "execute_result"
    }
   ],
   "execution_count": 45
  },
  {
   "metadata": {},
   "cell_type": "code",
   "outputs": [],
   "execution_count": null,
   "source": "",
   "id": "3c9ef636d26b1c76"
  }
 ],
 "metadata": {
  "kernelspec": {
   "display_name": "Python 3",
   "language": "python",
   "name": "python3"
  },
  "language_info": {
   "codemirror_mode": {
    "name": "ipython",
    "version": 2
   },
   "file_extension": ".py",
   "mimetype": "text/x-python",
   "name": "python",
   "nbconvert_exporter": "python",
   "pygments_lexer": "ipython2",
   "version": "2.7.6"
  }
 },
 "nbformat": 4,
 "nbformat_minor": 5
}
