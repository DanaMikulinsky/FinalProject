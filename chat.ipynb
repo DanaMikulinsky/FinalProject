{
 "cells": [
  {
   "cell_type": "code",
   "id": "initial_id",
   "metadata": {
    "collapsed": true,
    "ExecuteTime": {
     "end_time": "2024-10-20T15:35:42.017189Z",
     "start_time": "2024-10-20T15:35:41.452589Z"
    }
   },
   "source": [
    "from pipeline.DBHandler import DBHandler\n",
    "from pipeline.Chatbot import Chatbot"
   ],
   "outputs": [],
   "execution_count": 1
  },
  {
   "metadata": {
    "ExecuteTime": {
     "end_time": "2024-10-20T15:35:55.409015Z",
     "start_time": "2024-10-20T15:35:55.337092Z"
    }
   },
   "cell_type": "code",
   "source": [
    "db_handler = DBHandler(org_id='maccabi', user_id='saar')\n",
    "chat = Chatbot(db_handler, style='emoji')"
   ],
   "id": "d9628e82edeb3bf2",
   "outputs": [],
   "execution_count": 6
  },
  {
   "metadata": {
    "ExecuteTime": {
     "end_time": "2024-10-20T14:36:56.737055Z",
     "start_time": "2024-10-20T14:36:56.730157Z"
    }
   },
   "cell_type": "code",
   "source": "chat.__repr__()",
   "id": "5a95b2c460b54a95",
   "outputs": [
    {
     "data": {
      "text/plain": [
       "'Chat(org_id=maccabi, user_id=saar, llm_model_name=models/gemini-1.5-flash,embedding_model_name=models/text-embedding-004)'"
      ]
     },
     "execution_count": 6,
     "metadata": {},
     "output_type": "execute_result"
    }
   ],
   "execution_count": 6
  },
  {
   "metadata": {},
   "cell_type": "code",
   "source": [
    "response = chat.answer_question('Can you explain the process of terminating a pregnancy?')\n",
    "print(response)"
   ],
   "id": "2f8556433244caaf",
   "outputs": [],
   "execution_count": null
  },
  {
   "metadata": {},
   "cell_type": "code",
   "source": [
    "response = chat.answer_question('What are the conditions that must be met so maccabi will cover the cost of the process?')\n",
    "print(response)"
   ],
   "id": "3f57d9f1c6278043",
   "outputs": [],
   "execution_count": null
  },
  {
   "metadata": {
    "ExecuteTime": {
     "end_time": "2024-10-20T15:36:00.174534Z",
     "start_time": "2024-10-20T15:35:57.121704Z"
    }
   },
   "cell_type": "code",
   "source": [
    "response = chat.answer_question('What is the biggest planet in the solar system?')\n",
    "print(response)"
   ],
   "id": "7b6a3ee7a08554a9",
   "outputs": [
    {
     "name": "stdout",
     "output_type": "stream",
     "text": [
      "Jupiter 🪐 is the biggest planet in our solar system! It's a gas giant, meaning it's mostly made up of gas, and it's so big that all the other planets could fit inside it! 🤯\n"
     ]
    }
   ],
   "execution_count": 7
  },
  {
   "metadata": {
    "ExecuteTime": {
     "end_time": "2024-10-20T15:36:05.340293Z",
     "start_time": "2024-10-20T15:36:03.262627Z"
    }
   },
   "cell_type": "code",
   "source": [
    "response = chat.answer_question('Where can I eat good sushi in Haifa?')\n",
    "print(response)"
   ],
   "id": "c31aa2aca8f915c8",
   "outputs": [
    {
     "name": "stdout",
     "output_type": "stream",
     "text": [
      "I can't answer that question.\n"
     ]
    }
   ],
   "execution_count": 8
  },
  {
   "metadata": {
    "ExecuteTime": {
     "end_time": "2024-10-20T15:36:08.962013Z",
     "start_time": "2024-10-20T15:36:07.069608Z"
    }
   },
   "cell_type": "code",
   "source": [
    "response = chat.answer_question('Who is Assaf Granit?')\n",
    "print(response)"
   ],
   "id": "c9dc734e4b783dee",
   "outputs": [
    {
     "name": "stdout",
     "output_type": "stream",
     "text": [
      "I'm unable to answer that question.\n"
     ]
    }
   ],
   "execution_count": 9
  },
  {
   "metadata": {},
   "cell_type": "markdown",
   "source": "### Test tzizo questions",
   "id": "955881431934adb6"
  },
  {
   "metadata": {
    "ExecuteTime": {
     "end_time": "2024-10-20T14:37:08.856764Z",
     "start_time": "2024-10-20T14:37:05.405110Z"
    }
   },
   "cell_type": "code",
   "source": [
    "response = chat.answer_question('What is the quarterly cost to visit a specialist?')\n",
    "print(response)"
   ],
   "id": "7bf99d1a705505c2",
   "outputs": [
    {
     "name": "stdout",
     "output_type": "stream",
     "text": [
      "The quarterly cost to visit a specialist is 36₪.\n"
     ]
    }
   ],
   "execution_count": 7
  },
  {
   "metadata": {},
   "cell_type": "code",
   "source": [
    "response = chat.answer_question('And how is it charged?')\n",
    "print(response)"
   ],
   "id": "4ded165462d35d9b",
   "outputs": [],
   "execution_count": null
  },
  {
   "metadata": {},
   "cell_type": "code",
   "source": [
    "response = chat.answer_question('Can I come to a maccabi health institutions with my dog?')\n",
    "print(response)"
   ],
   "id": "e5101f950c4d016",
   "outputs": [],
   "execution_count": null
  },
  {
   "metadata": {
    "ExecuteTime": {
     "end_time": "2024-10-20T15:36:38.902607Z",
     "start_time": "2024-10-20T15:36:36.835343Z"
    }
   },
   "cell_type": "code",
   "source": [
    "response = chat.answer_question('Can I come to a health institutions with a service animal?')\n",
    "print(response)"
   ],
   "id": "c98e43f7c2c4c0a3",
   "outputs": [
    {
     "name": "stdout",
     "output_type": "stream",
     "text": [
      "Yes, you can! 🏥  It's totally cool to bring your service animal to most health institutions. 🐶  Just make sure you have the right documentation and follow any specific guidelines for the place you're visiting. 😉\n"
     ]
    }
   ],
   "execution_count": 16
  },
  {
   "metadata": {},
   "cell_type": "code",
   "source": [
    "response = chat.answer_question('A Family doctor')\n",
    "print(response)"
   ],
   "id": "95441dfc88d1c76e",
   "outputs": [],
   "execution_count": null
  },
  {
   "metadata": {
    "ExecuteTime": {
     "end_time": "2024-10-20T15:36:43.014065Z",
     "start_time": "2024-10-20T15:36:41.142476Z"
    }
   },
   "cell_type": "code",
   "source": [
    "response = chat.answer_question('Is there a treatment of eating disorders in Holon?')\n",
    "print(response)"
   ],
   "id": "8042a08031208284",
   "outputs": [
    {
     "name": "stdout",
     "output_type": "stream",
     "text": [
      "The information provided doesn't mention if there's treatment for eating disorders in Holon.\n"
     ]
    }
   ],
   "execution_count": 17
  },
  {
   "metadata": {
    "ExecuteTime": {
     "end_time": "2024-10-20T15:38:35.165456Z",
     "start_time": "2024-10-20T15:38:32.349247Z"
    }
   },
   "cell_type": "code",
   "source": [
    "response = chat.answer_question('Where can I get an eating disorders treatment? give me a list')\n",
    "print(response)"
   ],
   "id": "ab7de67d8b2a5d85",
   "outputs": [
    {
     "name": "stdout",
     "output_type": "stream",
     "text": [
      "You can find treatment for eating disorders at these locations: \n",
      "\n",
      "* **Haifa Bnei Zion Child and Adolescent Health Clinic:** Montefiore 19A, 04-8359970\n",
      "* **Haifa Rambam Clinic for adults, children and youth:** The Second Ascension 8, 04-7773143\n",
      "* **Nahariya Galilee Medical Center Child and Family Guidance Unit:** On Route 89, 04-9107107\n",
      "* **Safed Ziv The Array for the Care of Children and Youth - Day Care:** Rambam Road, 04-6828475\n",
      "* **Kfar Saba Serenity Citrus Center - Clinic for adults, children and youth:** Valley of the Patient 5, 09-7946250\n",
      "* **Perdesiya Lev Hasharon Combination therapy for adults:** Zorn 2, Computer Corner 8, Polag, 09-8345666\n",
      "* **Petah Tikva Schneider Outpatient Department for Juvenile and Children:** Kaplan 14, 03-9253253 \n",
      "\n",
      "Remember, it's super important to seek help if you're struggling. These clinics are here to help you get back on track! 💪\n"
     ]
    }
   ],
   "execution_count": 23
  },
  {
   "metadata": {
    "ExecuteTime": {
     "end_time": "2024-10-20T15:38:54.829357Z",
     "start_time": "2024-10-20T15:38:52.964709Z"
    }
   },
   "cell_type": "code",
   "source": [
    "response = chat.answer_question('In Holon?')\n",
    "print(response)"
   ],
   "id": "9a3268ba23dac205",
   "outputs": [
    {
     "name": "stdout",
     "output_type": "stream",
     "text": [
      "I'm sorry, but I don't have information on eating disorder treatment centers specifically in Holon. 🤔\n"
     ]
    }
   ],
   "execution_count": 26
  },
  {
   "metadata": {},
   "cell_type": "code",
   "outputs": [],
   "execution_count": null,
   "source": "",
   "id": "37b658bc949f9ff1"
  }
 ],
 "metadata": {
  "kernelspec": {
   "display_name": "Python 3",
   "language": "python",
   "name": "python3"
  },
  "language_info": {
   "codemirror_mode": {
    "name": "ipython",
    "version": 2
   },
   "file_extension": ".py",
   "mimetype": "text/x-python",
   "name": "python",
   "nbconvert_exporter": "python",
   "pygments_lexer": "ipython2",
   "version": "2.7.6"
  }
 },
 "nbformat": 4,
 "nbformat_minor": 5
}
