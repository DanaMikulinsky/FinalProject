{
 "cells": [
  {
   "cell_type": "code",
   "id": "initial_id",
   "metadata": {
    "collapsed": true,
    "ExecuteTime": {
     "end_time": "2024-10-24T17:51:02.551997Z",
     "start_time": "2024-10-24T17:51:02.089204Z"
    }
   },
   "source": [
    "from backend.pipeline.DBHandler import DBHandler\n",
    "from backend.pipeline.Chatbot import Chatbot"
   ],
   "outputs": [],
   "execution_count": 1
  },
  {
   "metadata": {
    "ExecuteTime": {
     "end_time": "2024-10-24T17:51:26.724662Z",
     "start_time": "2024-10-24T17:51:25.550188Z"
    }
   },
   "cell_type": "code",
   "source": [
    "db_handler = DBHandler(org_id='maccabi', user_id='saar')\n",
    "chat = Chatbot(db_handler, style='')"
   ],
   "id": "d9628e82edeb3bf2",
   "outputs": [],
   "execution_count": 5
  },
  {
   "metadata": {
    "ExecuteTime": {
     "end_time": "2024-10-24T10:58:04.712854Z",
     "start_time": "2024-10-24T10:58:02.596107Z"
    }
   },
   "cell_type": "code",
   "source": [
    "response = chat.answer_question('What is the capital of France?')\n",
    "print(response)"
   ],
   "id": "48d91db7b219f11b",
   "outputs": [
    {
     "name": "stdout",
     "output_type": "stream",
     "text": [
      "I'm sorry, but I can't find information about France's capital city in this text.  🤔 Could you tell me more about what you're looking for? 😊\n"
     ]
    }
   ],
   "execution_count": 23
  },
  {
   "metadata": {},
   "cell_type": "code",
   "source": [
    "response = chat.answer_question('Can you explain the process of terminating a pregnancy?')\n",
    "print(response)"
   ],
   "id": "2f8556433244caaf",
   "outputs": [],
   "execution_count": null
  },
  {
   "metadata": {},
   "cell_type": "code",
   "source": [
    "response = chat.answer_question('What are the conditions that must be met so maccabi will cover the cost of the process?')\n",
    "print(response)"
   ],
   "id": "3f57d9f1c6278043",
   "outputs": [],
   "execution_count": null
  },
  {
   "metadata": {
    "ExecuteTime": {
     "end_time": "2024-10-23T08:53:29.081031Z",
     "start_time": "2024-10-23T08:53:26.303351Z"
    }
   },
   "cell_type": "code",
   "source": [
    "response = chat.answer_question('What is the biggest planet in the solar system?')\n",
    "print(response)"
   ],
   "id": "7b6a3ee7a08554a9",
   "outputs": [
    {
     "name": "stdout",
     "output_type": "stream",
     "text": [
      "I can't answer that question 😕.  This information is about healthcare providers, not planets.  Do you want to know more about the healthcare providers listed here?  Maybe you want to know about the *biggest* hospital instead? 🏥\n"
     ]
    }
   ],
   "execution_count": 9
  },
  {
   "metadata": {
    "ExecuteTime": {
     "end_time": "2024-10-23T08:48:53.576547Z",
     "start_time": "2024-10-23T08:48:51.264879Z"
    }
   },
   "cell_type": "code",
   "source": [
    "response = chat.answer_question('Where can I eat good sushi in Haifa?')\n",
    "print(response)"
   ],
   "id": "c31aa2aca8f915c8",
   "outputs": [
    {
     "name": "stdout",
     "output_type": "stream",
     "text": [
      "I am unable to answer your question. I do not have information about restaurants in Haifa.\n"
     ]
    }
   ],
   "execution_count": 15
  },
  {
   "metadata": {
    "ExecuteTime": {
     "end_time": "2024-10-23T08:48:57.069861Z",
     "start_time": "2024-10-23T08:48:54.764293Z"
    }
   },
   "cell_type": "code",
   "source": [
    "response = chat.answer_question('Who is Assaf Granit?')\n",
    "print(response)"
   ],
   "id": "c9dc734e4b783dee",
   "outputs": [
    {
     "name": "stdout",
     "output_type": "stream",
     "text": [
      "I need more information to answer your question. Please provide more context about who Assaf Granit is.\n"
     ]
    }
   ],
   "execution_count": 16
  },
  {
   "metadata": {},
   "cell_type": "markdown",
   "source": "### Test tzizo questions",
   "id": "955881431934adb6"
  },
  {
   "metadata": {
    "ExecuteTime": {
     "end_time": "2024-10-23T08:53:40.925076Z",
     "start_time": "2024-10-23T08:53:38.939432Z"
    }
   },
   "cell_type": "code",
   "source": [
    "response = chat.answer_question('What is the quarterly cost to visit a specialist?')\n",
    "print(response)"
   ],
   "id": "7bf99d1a705505c2",
   "outputs": [
    {
     "name": "stdout",
     "output_type": "stream",
     "text": [
      "The quarterly cost to visit a specialist is 36₪!  🤑 That's awesome, right?\n"
     ]
    }
   ],
   "execution_count": 10
  },
  {
   "metadata": {
    "ExecuteTime": {
     "end_time": "2024-10-23T08:53:49.037741Z",
     "start_time": "2024-10-23T08:53:46.988709Z"
    }
   },
   "cell_type": "code",
   "source": [
    "response = chat.answer_question('And how is it charged?')\n",
    "print(response)"
   ],
   "id": "4ded165462d35d9b",
   "outputs": [
    {
     "name": "stdout",
     "output_type": "stream",
     "text": [
      "I need a little more info to answer your question! 🤔 What type of specialist are you looking for? 🤔 Let me know, and I'll be happy to help! 😄\n"
     ]
    }
   ],
   "execution_count": 11
  },
  {
   "metadata": {
    "ExecuteTime": {
     "end_time": "2024-10-23T08:49:07.805120Z",
     "start_time": "2024-10-23T08:49:05.881354Z"
    }
   },
   "cell_type": "code",
   "source": [
    "response = chat.answer_question('Can I come to a maccabi health institutions with my dog?')\n",
    "print(response)"
   ],
   "id": "e5101f950c4d016",
   "outputs": [
    {
     "name": "stdout",
     "output_type": "stream",
     "text": [
      "You can bring your dog if it is a service animal and you are a Maccabi member.\n"
     ]
    }
   ],
   "execution_count": 19
  },
  {
   "metadata": {
    "ExecuteTime": {
     "end_time": "2024-10-23T08:49:12.316049Z",
     "start_time": "2024-10-23T08:49:10.168838Z"
    }
   },
   "cell_type": "code",
   "source": [
    "response = chat.answer_question('Can I come to a health institutions with a service animal?')\n",
    "print(response)"
   ],
   "id": "c98e43f7c2c4c0a3",
   "outputs": [
    {
     "name": "stdout",
     "output_type": "stream",
     "text": [
      "You can bring a service animal to most health institutions, but not places like surgical rooms, dialysis rooms, oncological clinics, or clinics for people with immunodeficiency.\n"
     ]
    }
   ],
   "execution_count": 20
  },
  {
   "metadata": {
    "ExecuteTime": {
     "end_time": "2024-10-23T08:50:09.532992Z",
     "start_time": "2024-10-23T08:50:07.626126Z"
    }
   },
   "cell_type": "code",
   "source": [
    "response = chat.answer_question('A Family doctor')\n",
    "print(response)"
   ],
   "id": "95441dfc88d1c76e",
   "outputs": [
    {
     "name": "stdout",
     "output_type": "stream",
     "text": [
      "I can't answer that question. The provided information is only about hospitals and clinics, not family doctors.\n"
     ]
    }
   ],
   "execution_count": 28
  },
  {
   "metadata": {
    "ExecuteTime": {
     "end_time": "2024-10-23T08:50:05.490871Z",
     "start_time": "2024-10-23T08:50:03.487654Z"
    }
   },
   "cell_type": "code",
   "source": [
    "response = chat.answer_question('Is there a treatment of eating disorders in Holon?')\n",
    "print(response)"
   ],
   "id": "8042a08031208284",
   "outputs": [
    {
     "name": "stdout",
     "output_type": "stream",
     "text": [
      "The information provided does not include details about treatment for eating disorders in Holon.\n"
     ]
    }
   ],
   "execution_count": 27
  },
  {
   "metadata": {
    "ExecuteTime": {
     "end_time": "2024-10-20T15:57:58.911635Z",
     "start_time": "2024-10-20T15:57:56.217659Z"
    }
   },
   "cell_type": "code",
   "source": [
    "response = chat.answer_question('Where can I get an eating disorders treatment? give me a list')\n",
    "print(response)"
   ],
   "id": "ab7de67d8b2a5d85",
   "outputs": [
    {
     "name": "stdout",
     "output_type": "stream",
     "text": [
      "For eating disorder care, don't despair! \n",
      "Here's a list, so you can share:\n",
      "\n",
      "* Bnei Zion, in Haifa, you can find,\n",
      "  A clinic for children, of every kind. \n",
      "* Rambam, also in Haifa, is a great place,\n",
      "  For adults and children, to find grace.\n",
      "* Galilee Medical Center, in Nahariya,\n",
      "  Can guide your journey, with care, you see.\n",
      "* Ziv, in Safed, a helpful hand,\n",
      "  For youth and children, throughout the land.\n",
      "* Serenity Citrus Center, in Kfar Saba,\n",
      "  With love and support, it's a great java!\n",
      "* Lev Hasharon, in Perdesiya, too,\n",
      "  For adults, they'll help you through.\n",
      "* Schneider Outpatient Department, in Petah Tikva,\n",
      "  For juvenile and children, they'll make you feel spry-va!\n"
     ]
    }
   ],
   "execution_count": 20
  },
  {
   "metadata": {
    "ExecuteTime": {
     "end_time": "2024-10-20T15:58:15.969826Z",
     "start_time": "2024-10-20T15:58:14.036699Z"
    }
   },
   "cell_type": "code",
   "source": [
    "response = chat.answer_question('In Holon?')\n",
    "print(response)"
   ],
   "id": "9a3268ba23dac205",
   "outputs": [
    {
     "name": "stdout",
     "output_type": "stream",
     "text": [
      "Holon's not on the list, I'm afraid, \n",
      "But for eating disorder help, don't be dismayed! \n",
      "Let's see what's close by, a fun little quest,\n",
      "And find you the best, put your mind at rest!\n"
     ]
    }
   ],
   "execution_count": 21
  },
  {
   "metadata": {},
   "cell_type": "code",
   "outputs": [],
   "execution_count": null,
   "source": "",
   "id": "37b658bc949f9ff1"
  }
 ],
 "metadata": {
  "kernelspec": {
   "display_name": "Python 3",
   "language": "python",
   "name": "python3"
  },
  "language_info": {
   "codemirror_mode": {
    "name": "ipython",
    "version": 2
   },
   "file_extension": ".py",
   "mimetype": "text/x-python",
   "name": "python",
   "nbconvert_exporter": "python",
   "pygments_lexer": "ipython2",
   "version": "2.7.6"
  }
 },
 "nbformat": 4,
 "nbformat_minor": 5
}
