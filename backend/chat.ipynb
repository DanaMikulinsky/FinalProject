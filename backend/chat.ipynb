{
 "cells": [
  {
   "cell_type": "code",
   "id": "initial_id",
   "metadata": {
    "collapsed": true,
    "ExecuteTime": {
     "end_time": "2024-10-23T08:48:09.735472Z",
     "start_time": "2024-10-23T08:48:09.729904Z"
    }
   },
   "source": [
    "from backend.pipeline.DBHandler import DBHandler\n",
    "from backend.pipeline.Chatbot import Chatbot"
   ],
   "outputs": [],
   "execution_count": 7
  },
  {
   "metadata": {
    "ExecuteTime": {
     "end_time": "2024-10-23T08:48:10.415460Z",
     "start_time": "2024-10-23T08:48:10.369652Z"
    }
   },
   "cell_type": "code",
   "source": [
    "db_handler = DBHandler(org_id='maccabi', user_id='saar')\n",
    "# chat = Chatbot(db_handler, style='rhymes')"
   ],
   "id": "d9628e82edeb3bf2",
   "outputs": [],
   "execution_count": 8
  },
  {
   "metadata": {
    "ExecuteTime": {
     "end_time": "2024-10-23T08:48:27.899611Z",
     "start_time": "2024-10-23T08:48:27.896883Z"
    }
   },
   "cell_type": "code",
   "source": "isinstance(db_handler, DBHandler)",
   "id": "acf6c713ccf4c834",
   "outputs": [
    {
     "data": {
      "text/plain": [
       "True"
      ]
     },
     "execution_count": 12,
     "metadata": {},
     "output_type": "execute_result"
    }
   ],
   "execution_count": 12
  },
  {
   "metadata": {
    "ExecuteTime": {
     "end_time": "2024-10-23T08:48:29.161224Z",
     "start_time": "2024-10-23T08:48:28.989680Z"
    }
   },
   "cell_type": "code",
   "source": "chat = Chatbot(db_handler, style='rhymes')",
   "id": "5a95b2c460b54a95",
   "outputs": [],
   "execution_count": 13
  },
  {
   "metadata": {},
   "cell_type": "code",
   "source": [
    "response = chat.answer_question('Can you explain the process of terminating a pregnancy?')\n",
    "print(response)"
   ],
   "id": "2f8556433244caaf",
   "outputs": [],
   "execution_count": null
  },
  {
   "metadata": {},
   "cell_type": "code",
   "source": [
    "response = chat.answer_question('What are the conditions that must be met so maccabi will cover the cost of the process?')\n",
    "print(response)"
   ],
   "id": "3f57d9f1c6278043",
   "outputs": [],
   "execution_count": null
  },
  {
   "metadata": {
    "ExecuteTime": {
     "end_time": "2024-10-20T15:57:23.413448Z",
     "start_time": "2024-10-20T15:57:20.553679Z"
    }
   },
   "cell_type": "code",
   "source": [
    "response = chat.answer_question('What is the biggest planet in the solar system?')\n",
    "print(response)"
   ],
   "id": "7b6a3ee7a08554a9",
   "outputs": [
    {
     "name": "stdout",
     "output_type": "stream",
     "text": [
      "Jupiter, the giant, is the biggest, you see, \n",
      "A gas giant, so large, it's a sight to believe!\n"
     ]
    }
   ],
   "execution_count": 14
  },
  {
   "metadata": {
    "ExecuteTime": {
     "end_time": "2024-10-20T15:57:25.585119Z",
     "start_time": "2024-10-20T15:57:23.415756Z"
    }
   },
   "cell_type": "code",
   "source": [
    "response = chat.answer_question('Where can I eat good sushi in Haifa?')\n",
    "print(response)"
   ],
   "id": "c31aa2aca8f915c8",
   "outputs": [
    {
     "name": "stdout",
     "output_type": "stream",
     "text": [
      "I can't help you with finding sushi in Haifa.  I'm just a health care provider's assistant, so my knowledge is limited, you see!  Maybe try a search online, it's the best way to find a good meal, don't you agree?  You'll be eating sushi in no time, it will be a real treat!\n"
     ]
    }
   ],
   "execution_count": 15
  },
  {
   "metadata": {
    "ExecuteTime": {
     "end_time": "2024-10-20T15:57:27.742882Z",
     "start_time": "2024-10-20T15:57:25.586667Z"
    }
   },
   "cell_type": "code",
   "source": [
    "response = chat.answer_question('Who is Assaf Granit?')\n",
    "print(response)"
   ],
   "id": "c9dc734e4b783dee",
   "outputs": [
    {
     "name": "stdout",
     "output_type": "stream",
     "text": [
      "I can't tell you about Assaf Granit,\n",
      "I'm just a helper,  no information I can emit. \n",
      "I'm here for medical needs, not a biographical spree,\n",
      "So if you have a question, tell it to me!\n"
     ]
    }
   ],
   "execution_count": 16
  },
  {
   "metadata": {},
   "cell_type": "markdown",
   "source": "### Test tzizo questions",
   "id": "955881431934adb6"
  },
  {
   "metadata": {
    "ExecuteTime": {
     "end_time": "2024-10-20T14:37:08.856764Z",
     "start_time": "2024-10-20T14:37:05.405110Z"
    }
   },
   "cell_type": "code",
   "source": [
    "response = chat.answer_question('What is the quarterly cost to visit a specialist?')\n",
    "print(response)"
   ],
   "id": "7bf99d1a705505c2",
   "outputs": [
    {
     "name": "stdout",
     "output_type": "stream",
     "text": [
      "The quarterly cost to visit a specialist is 36₪.\n"
     ]
    }
   ],
   "execution_count": 7
  },
  {
   "metadata": {},
   "cell_type": "code",
   "source": [
    "response = chat.answer_question('And how is it charged?')\n",
    "print(response)"
   ],
   "id": "4ded165462d35d9b",
   "outputs": [],
   "execution_count": null
  },
  {
   "metadata": {},
   "cell_type": "code",
   "source": [
    "response = chat.answer_question('Can I come to a maccabi health institutions with my dog?')\n",
    "print(response)"
   ],
   "id": "e5101f950c4d016",
   "outputs": [],
   "execution_count": null
  },
  {
   "metadata": {
    "ExecuteTime": {
     "end_time": "2024-10-20T15:57:38.954529Z",
     "start_time": "2024-10-20T15:57:36.909198Z"
    }
   },
   "cell_type": "code",
   "source": [
    "response = chat.answer_question('Can I come to a health institutions with a service animal?')\n",
    "print(response)"
   ],
   "id": "c98e43f7c2c4c0a3",
   "outputs": [
    {
     "name": "stdout",
     "output_type": "stream",
     "text": [
      "If your furry friend is by your side,\n",
      "You're welcome in, there's no need to hide.\n",
      "With a service animal, you're free to roam,\n",
      "In most of the places you call home.\n"
     ]
    }
   ],
   "execution_count": 17
  },
  {
   "metadata": {
    "ExecuteTime": {
     "end_time": "2024-10-20T15:57:44.544042Z",
     "start_time": "2024-10-20T15:57:42.392705Z"
    }
   },
   "cell_type": "code",
   "source": [
    "response = chat.answer_question('A Family doctor')\n",
    "print(response)"
   ],
   "id": "95441dfc88d1c76e",
   "outputs": [
    {
     "name": "stdout",
     "output_type": "stream",
     "text": [
      "You can come in, don't you fret, \n",
      "With your service animal, we'll make it a set! \n",
      "Just keep in mind, some places are off-limits,\n",
      "But most of the time, it's a win-win, no gimmicks!\n"
     ]
    }
   ],
   "execution_count": 18
  },
  {
   "metadata": {
    "ExecuteTime": {
     "end_time": "2024-10-20T15:57:56.215932Z",
     "start_time": "2024-10-20T15:57:53.665020Z"
    }
   },
   "cell_type": "code",
   "source": [
    "response = chat.answer_question('Is there a treatment of eating disorders in Holon?')\n",
    "print(response)"
   ],
   "id": "8042a08031208284",
   "outputs": [
    {
     "name": "stdout",
     "output_type": "stream",
     "text": [
      "Holon's a town with charm and grace, \n",
      "But for eating disorder treatment, you need to find another place! \n",
      "The details provided don't mention Holon's name, \n",
      "But don't despair, there's no need to play a guessing game! \n",
      "Let's explore other locations, where help you'll surely find, \n",
      "A place to heal and leave worries behind! \n",
      "Tell me, what other cities or towns would you like to explore? \n",
      "We'll discover treatment options, and learn even more!\n"
     ]
    }
   ],
   "execution_count": 19
  },
  {
   "metadata": {
    "ExecuteTime": {
     "end_time": "2024-10-20T15:57:58.911635Z",
     "start_time": "2024-10-20T15:57:56.217659Z"
    }
   },
   "cell_type": "code",
   "source": [
    "response = chat.answer_question('Where can I get an eating disorders treatment? give me a list')\n",
    "print(response)"
   ],
   "id": "ab7de67d8b2a5d85",
   "outputs": [
    {
     "name": "stdout",
     "output_type": "stream",
     "text": [
      "For eating disorder care, don't despair! \n",
      "Here's a list, so you can share:\n",
      "\n",
      "* Bnei Zion, in Haifa, you can find,\n",
      "  A clinic for children, of every kind. \n",
      "* Rambam, also in Haifa, is a great place,\n",
      "  For adults and children, to find grace.\n",
      "* Galilee Medical Center, in Nahariya,\n",
      "  Can guide your journey, with care, you see.\n",
      "* Ziv, in Safed, a helpful hand,\n",
      "  For youth and children, throughout the land.\n",
      "* Serenity Citrus Center, in Kfar Saba,\n",
      "  With love and support, it's a great java!\n",
      "* Lev Hasharon, in Perdesiya, too,\n",
      "  For adults, they'll help you through.\n",
      "* Schneider Outpatient Department, in Petah Tikva,\n",
      "  For juvenile and children, they'll make you feel spry-va!\n"
     ]
    }
   ],
   "execution_count": 20
  },
  {
   "metadata": {
    "ExecuteTime": {
     "end_time": "2024-10-20T15:58:15.969826Z",
     "start_time": "2024-10-20T15:58:14.036699Z"
    }
   },
   "cell_type": "code",
   "source": [
    "response = chat.answer_question('In Holon?')\n",
    "print(response)"
   ],
   "id": "9a3268ba23dac205",
   "outputs": [
    {
     "name": "stdout",
     "output_type": "stream",
     "text": [
      "Holon's not on the list, I'm afraid, \n",
      "But for eating disorder help, don't be dismayed! \n",
      "Let's see what's close by, a fun little quest,\n",
      "And find you the best, put your mind at rest!\n"
     ]
    }
   ],
   "execution_count": 21
  },
  {
   "metadata": {},
   "cell_type": "code",
   "outputs": [],
   "execution_count": null,
   "source": "",
   "id": "37b658bc949f9ff1"
  }
 ],
 "metadata": {
  "kernelspec": {
   "display_name": "Python 3",
   "language": "python",
   "name": "python3"
  },
  "language_info": {
   "codemirror_mode": {
    "name": "ipython",
    "version": 2
   },
   "file_extension": ".py",
   "mimetype": "text/x-python",
   "name": "python",
   "nbconvert_exporter": "python",
   "pygments_lexer": "ipython2",
   "version": "2.7.6"
  }
 },
 "nbformat": 4,
 "nbformat_minor": 5
}
