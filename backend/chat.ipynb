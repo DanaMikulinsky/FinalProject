{
 "cells": [
  {
   "cell_type": "code",
   "id": "initial_id",
   "metadata": {
    "collapsed": true,
    "ExecuteTime": {
     "end_time": "2024-10-27T12:50:46.917187Z",
     "start_time": "2024-10-27T12:50:42.523448Z"
    }
   },
   "source": [
    "from backend.pipeline.DBHandler import DBHandler\n",
    "from backend.pipeline.Chatbot import Chatbot"
   ],
   "outputs": [],
   "execution_count": 1
  },
  {
   "metadata": {
    "ExecuteTime": {
     "end_time": "2024-10-27T13:17:32.019328Z",
     "start_time": "2024-10-27T13:17:30.153092Z"
    }
   },
   "cell_type": "code",
   "source": [
    "db_handler = DBHandler(org_id='s_maccabi_emb1', user_id='Guest')\n",
    "db_handler.reset_history()\n",
    "chat = Chatbot(db_handler, style='')\n",
    "# you can choose between no style and ['kids', 'elderly', 'emoji', 'rhymes']"
   ],
   "id": "d9628e82edeb3bf2",
   "outputs": [],
   "execution_count": 17
  },
  {
   "metadata": {
    "ExecuteTime": {
     "end_time": "2024-10-27T12:50:52.620752Z",
     "start_time": "2024-10-27T12:50:50.941867Z"
    }
   },
   "cell_type": "code",
   "source": [
    "response = chat.answer_question('What is the capital of France?')\n",
    "print(response)"
   ],
   "id": "48d91db7b219f11b",
   "outputs": [
    {
     "name": "stdout",
     "output_type": "stream",
     "text": [
      "This is out of my scope.\n"
     ]
    }
   ],
   "execution_count": 3
  },
  {
   "metadata": {
    "ExecuteTime": {
     "end_time": "2024-10-27T12:47:54.681796Z",
     "start_time": "2024-10-27T12:47:52.611781Z"
    }
   },
   "cell_type": "code",
   "source": [
    "response = chat.answer_question('Can you explain the process of terminating a pregnancy?')\n",
    "print(response)"
   ],
   "id": "2f8556433244caaf",
   "outputs": [
    {
     "name": "stdout",
     "output_type": "stream",
     "text": [
      "Termination of pregnancy is a medical procedure done in a hospital to stop the course of pregnancy. It requires approval from a commission on termination of pregnancy.\n"
     ]
    }
   ],
   "execution_count": 4
  },
  {
   "metadata": {
    "ExecuteTime": {
     "end_time": "2024-10-27T12:48:10.951263Z",
     "start_time": "2024-10-27T12:48:09.192461Z"
    }
   },
   "cell_type": "code",
   "source": [
    "response = chat.answer_question('What are the conditions that must be met so maccabi will cover the cost of the process?')\n",
    "print(response)"
   ],
   "id": "3f57d9f1c6278043",
   "outputs": [
    {
     "name": "stdout",
     "output_type": "stream",
     "text": [
      "Maccabi will cover the cost of terminating a pregnancy if you have the approval of a commission for termination of pregnancy.\n"
     ]
    }
   ],
   "execution_count": 5
  },
  {
   "metadata": {
    "ExecuteTime": {
     "end_time": "2024-10-27T12:57:35.118211Z",
     "start_time": "2024-10-27T12:57:33.317915Z"
    }
   },
   "cell_type": "code",
   "source": [
    "response = chat.answer_question('What is the biggest planet in the solar system?')\n",
    "print(response)"
   ],
   "id": "7b6a3ee7a08554a9",
   "outputs": [
    {
     "name": "stdout",
     "output_type": "stream",
     "text": [
      "This information is about healthcare services and entitlements, not about astronomy.  I can't answer your question.\n"
     ]
    }
   ],
   "execution_count": 4
  },
  {
   "metadata": {},
   "cell_type": "code",
   "source": [
    "response = chat.answer_question('Where can I eat good sushi in Haifa?')\n",
    "print(response)"
   ],
   "id": "c31aa2aca8f915c8",
   "outputs": [],
   "execution_count": null
  },
  {
   "metadata": {},
   "cell_type": "code",
   "source": [
    "response = chat.answer_question('Who is Assaf Granit?')\n",
    "print(response)"
   ],
   "id": "c9dc734e4b783dee",
   "outputs": [],
   "execution_count": null
  },
  {
   "metadata": {},
   "cell_type": "markdown",
   "source": "### Test questions",
   "id": "955881431934adb6"
  },
  {
   "metadata": {
    "ExecuteTime": {
     "end_time": "2024-10-27T13:17:43.610018Z",
     "start_time": "2024-10-27T13:17:41.686250Z"
    }
   },
   "cell_type": "code",
   "source": [
    "chat.db_handler.reset_history()\n",
    "response = chat.answer_question('What is the quarterly cost to visit a denatal specialist?')\n",
    "print(response)"
   ],
   "id": "7bf99d1a705505c2",
   "outputs": [
    {
     "name": "stdout",
     "output_type": "stream",
     "text": [
      "The quarterly deductible for a visit to a specialist is 36₪.\n"
     ]
    }
   ],
   "execution_count": 18
  },
  {
   "metadata": {
    "ExecuteTime": {
     "end_time": "2024-10-27T13:01:17.491645Z",
     "start_time": "2024-10-27T13:01:15.262025Z"
    }
   },
   "cell_type": "code",
   "source": [
    "response = chat.answer_question('And what if i visit 3 specialists?')\n",
    "print(response)"
   ],
   "id": "c4600301754a2ef",
   "outputs": [
    {
     "name": "stdout",
     "output_type": "stream",
     "text": [
      "The cost depends on whether the specialist is a dietitian or a doctor.  If you see 3 dietitians or 3 doctors, the quarterly cost will be NIS 91.50 (3 x 30.50).  If you see 2 dietitians and 1 doctor, the quarterly cost will be NIS 61.00 (2 x 30.50). Please let me know which specialists you are seeing to calculate the exact cost.\n"
     ]
    }
   ],
   "execution_count": 16
  },
  {
   "metadata": {
    "ExecuteTime": {
     "end_time": "2024-10-27T12:58:21.473678Z",
     "start_time": "2024-10-27T12:58:19.650812Z"
    }
   },
   "cell_type": "code",
   "source": [
    "response = chat.answer_question('And how is it charged?')\n",
    "print(response)"
   ],
   "id": "4ded165462d35d9b",
   "outputs": [
    {
     "name": "stdout",
     "output_type": "stream",
     "text": [
      "A quarterly deductible of NIS 30.50 will be charged if the treatment includes visits with a dietitian or doctor.\n"
     ]
    }
   ],
   "execution_count": 6
  },
  {
   "metadata": {
    "ExecuteTime": {
     "end_time": "2024-10-27T12:58:33.660809Z",
     "start_time": "2024-10-27T12:58:31.734759Z"
    }
   },
   "cell_type": "code",
   "source": [
    "response = chat.answer_question('Can I come to a maccabi health institutions with my dog?')\n",
    "print(response)"
   ],
   "id": "e5101f950c4d016",
   "outputs": [
    {
     "name": "stdout",
     "output_type": "stream",
     "text": [
      "Yes, you can bring your service dog to a Maccabi health institution.\n"
     ]
    }
   ],
   "execution_count": 7
  },
  {
   "metadata": {},
   "cell_type": "code",
   "source": [
    "response = chat.answer_question('Can I come to a health institutions with a service animal?')\n",
    "print(response)"
   ],
   "id": "c98e43f7c2c4c0a3",
   "outputs": [],
   "execution_count": null
  },
  {
   "metadata": {},
   "cell_type": "code",
   "source": [
    "response = chat.answer_question('A Family doctor')\n",
    "print(response)"
   ],
   "id": "95441dfc88d1c76e",
   "outputs": [],
   "execution_count": null
  },
  {
   "metadata": {},
   "cell_type": "code",
   "source": [
    "response = chat.answer_question('Is there a treatment of eating disorders in Holon?')\n",
    "print(response)"
   ],
   "id": "8042a08031208284",
   "outputs": [],
   "execution_count": null
  },
  {
   "metadata": {},
   "cell_type": "code",
   "source": [
    "response = chat.answer_question('Where can I get an eating disorders treatment? give me a list')\n",
    "print(response)"
   ],
   "id": "ab7de67d8b2a5d85",
   "outputs": [],
   "execution_count": null
  },
  {
   "metadata": {},
   "cell_type": "code",
   "source": [
    "response = chat.answer_question('In Holon?')\n",
    "print(response)"
   ],
   "id": "9a3268ba23dac205",
   "outputs": [],
   "execution_count": null
  },
  {
   "metadata": {},
   "cell_type": "code",
   "source": "",
   "id": "37b658bc949f9ff1",
   "outputs": [],
   "execution_count": null
  }
 ],
 "metadata": {
  "kernelspec": {
   "display_name": "Python 3",
   "language": "python",
   "name": "python3"
  },
  "language_info": {
   "codemirror_mode": {
    "name": "ipython",
    "version": 2
   },
   "file_extension": ".py",
   "mimetype": "text/x-python",
   "name": "python",
   "nbconvert_exporter": "python",
   "pygments_lexer": "ipython2",
   "version": "2.7.6"
  }
 },
 "nbformat": 4,
 "nbformat_minor": 5
}
