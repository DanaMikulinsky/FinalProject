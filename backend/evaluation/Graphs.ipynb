{
 "cells": [
  {
   "cell_type": "code",
   "id": "initial_id",
   "metadata": {
    "collapsed": true,
    "ExecuteTime": {
     "end_time": "2024-10-26T11:16:21.681202Z",
     "start_time": "2024-10-26T11:16:15.819927Z"
    }
   },
   "source": [
    "import pandas as pd\n",
    "import numpy as np\n",
    "import matplotlib.pyplot as plt"
   ],
   "outputs": [],
   "execution_count": 2
  },
  {
   "metadata": {
    "ExecuteTime": {
     "end_time": "2024-10-26T11:34:44.519882Z",
     "start_time": "2024-10-26T11:34:44.467097Z"
    }
   },
   "cell_type": "code",
   "source": "results = pd.read_csv('result.csv')",
   "id": "ef8da7086c3c1301",
   "outputs": [],
   "execution_count": 47
  },
  {
   "metadata": {
    "ExecuteTime": {
     "end_time": "2024-10-26T11:34:44.873765Z",
     "start_time": "2024-10-26T11:34:44.865769Z"
    }
   },
   "cell_type": "code",
   "source": "results = results.drop(columns=[\"retriever_scores\", \"Unnamed: 14\"])",
   "id": "b6ae5bbdb6051b69",
   "outputs": [],
   "execution_count": 48
  },
  {
   "metadata": {
    "ExecuteTime": {
     "end_time": "2024-10-26T11:34:45.258993Z",
     "start_time": "2024-10-26T11:34:45.231260Z"
    }
   },
   "cell_type": "code",
   "source": "results.head()",
   "id": "a0e569be3bbc2b03",
   "outputs": [
    {
     "data": {
      "text/plain": [
       "     style embedding_type search_method          llm_name   \n",
       "0  neutral           emb1   approximate  gemini-1.5-flash  \\\n",
       "1  neutral           emb1   approximate  gemini-1.5-flash   \n",
       "2  neutral           emb1   approximate  gemini-1.5-flash   \n",
       "3  neutral           emb1   approximate  gemini-1.5-flash   \n",
       "4  neutral           emb1   approximate  gemini-1.5-flash   \n",
       "\n",
       "                                            question   \n",
       "0      Where Psychodiagnostic diagnosis is provided?  \\\n",
       "1  How much Examination and treatment for vision ...   \n",
       "2  Does doctor's referral is necessary to do a te...   \n",
       "3  Who is eligible to transportation for treatmen...   \n",
       "4       Where can I vaccinate my baby for \"Pent-up\"?   \n",
       "\n",
       "                                         true_answer   \n",
       "0                 At Maccabi Mental Health Clinics.   \\\n",
       "1  The price varies depending on the medical inst...   \n",
       "2                  A doctor's referral is necessary.   \n",
       "3  Children and youth members of the Maccabi are ...   \n",
       "4  At milk drop stations of Maccabi\\nIf your vill...   \n",
       "\n",
       "                                      chatbot_answer  cosine_similarity   \n",
       "0                  At Maccabi Mental Health Clinics.           1.000000  \\\n",
       "1  The cost varies depending on the medical insti...           0.773616   \n",
       "2                  A doctor's referral is necessary.           1.000000   \n",
       "3  Children and youth members of Maccabi who are ...           0.885274   \n",
       "4  You can get the \"Pent-up\" vaccine at Maccabi m...           0.833643   \n",
       "\n",
       "   correctness_score  faithfulness_score  precision  recall       f1  \n",
       "0           0.666667            0.690966        0.4     1.0  0.57143  \n",
       "1           0.257872            0.706106        0.6     1.0  0.75000  \n",
       "2           0.666667            0.628516        0.2     1.0  0.33333  \n",
       "3           0.406202            0.739675        0.8     1.0  0.88889  \n",
       "4           0.444548            0.823279        0.2     1.0  0.33333  "
      ],
      "text/html": [
       "<div>\n",
       "<style scoped>\n",
       "    .dataframe tbody tr th:only-of-type {\n",
       "        vertical-align: middle;\n",
       "    }\n",
       "\n",
       "    .dataframe tbody tr th {\n",
       "        vertical-align: top;\n",
       "    }\n",
       "\n",
       "    .dataframe thead th {\n",
       "        text-align: right;\n",
       "    }\n",
       "</style>\n",
       "<table border=\"1\" class=\"dataframe\">\n",
       "  <thead>\n",
       "    <tr style=\"text-align: right;\">\n",
       "      <th></th>\n",
       "      <th>style</th>\n",
       "      <th>embedding_type</th>\n",
       "      <th>search_method</th>\n",
       "      <th>llm_name</th>\n",
       "      <th>question</th>\n",
       "      <th>true_answer</th>\n",
       "      <th>chatbot_answer</th>\n",
       "      <th>cosine_similarity</th>\n",
       "      <th>correctness_score</th>\n",
       "      <th>faithfulness_score</th>\n",
       "      <th>precision</th>\n",
       "      <th>recall</th>\n",
       "      <th>f1</th>\n",
       "    </tr>\n",
       "  </thead>\n",
       "  <tbody>\n",
       "    <tr>\n",
       "      <th>0</th>\n",
       "      <td>neutral</td>\n",
       "      <td>emb1</td>\n",
       "      <td>approximate</td>\n",
       "      <td>gemini-1.5-flash</td>\n",
       "      <td>Where Psychodiagnostic diagnosis is provided?</td>\n",
       "      <td>At Maccabi Mental Health Clinics.</td>\n",
       "      <td>At Maccabi Mental Health Clinics.</td>\n",
       "      <td>1.000000</td>\n",
       "      <td>0.666667</td>\n",
       "      <td>0.690966</td>\n",
       "      <td>0.4</td>\n",
       "      <td>1.0</td>\n",
       "      <td>0.57143</td>\n",
       "    </tr>\n",
       "    <tr>\n",
       "      <th>1</th>\n",
       "      <td>neutral</td>\n",
       "      <td>emb1</td>\n",
       "      <td>approximate</td>\n",
       "      <td>gemini-1.5-flash</td>\n",
       "      <td>How much Examination and treatment for vision ...</td>\n",
       "      <td>The price varies depending on the medical inst...</td>\n",
       "      <td>The cost varies depending on the medical insti...</td>\n",
       "      <td>0.773616</td>\n",
       "      <td>0.257872</td>\n",
       "      <td>0.706106</td>\n",
       "      <td>0.6</td>\n",
       "      <td>1.0</td>\n",
       "      <td>0.75000</td>\n",
       "    </tr>\n",
       "    <tr>\n",
       "      <th>2</th>\n",
       "      <td>neutral</td>\n",
       "      <td>emb1</td>\n",
       "      <td>approximate</td>\n",
       "      <td>gemini-1.5-flash</td>\n",
       "      <td>Does doctor's referral is necessary to do a te...</td>\n",
       "      <td>A doctor's referral is necessary.</td>\n",
       "      <td>A doctor's referral is necessary.</td>\n",
       "      <td>1.000000</td>\n",
       "      <td>0.666667</td>\n",
       "      <td>0.628516</td>\n",
       "      <td>0.2</td>\n",
       "      <td>1.0</td>\n",
       "      <td>0.33333</td>\n",
       "    </tr>\n",
       "    <tr>\n",
       "      <th>3</th>\n",
       "      <td>neutral</td>\n",
       "      <td>emb1</td>\n",
       "      <td>approximate</td>\n",
       "      <td>gemini-1.5-flash</td>\n",
       "      <td>Who is eligible to transportation for treatmen...</td>\n",
       "      <td>Children and youth members of the Maccabi are ...</td>\n",
       "      <td>Children and youth members of Maccabi who are ...</td>\n",
       "      <td>0.885274</td>\n",
       "      <td>0.406202</td>\n",
       "      <td>0.739675</td>\n",
       "      <td>0.8</td>\n",
       "      <td>1.0</td>\n",
       "      <td>0.88889</td>\n",
       "    </tr>\n",
       "    <tr>\n",
       "      <th>4</th>\n",
       "      <td>neutral</td>\n",
       "      <td>emb1</td>\n",
       "      <td>approximate</td>\n",
       "      <td>gemini-1.5-flash</td>\n",
       "      <td>Where can I vaccinate my baby for \"Pent-up\"?</td>\n",
       "      <td>At milk drop stations of Maccabi\\nIf your vill...</td>\n",
       "      <td>You can get the \"Pent-up\" vaccine at Maccabi m...</td>\n",
       "      <td>0.833643</td>\n",
       "      <td>0.444548</td>\n",
       "      <td>0.823279</td>\n",
       "      <td>0.2</td>\n",
       "      <td>1.0</td>\n",
       "      <td>0.33333</td>\n",
       "    </tr>\n",
       "  </tbody>\n",
       "</table>\n",
       "</div>"
      ]
     },
     "execution_count": 49,
     "metadata": {},
     "output_type": "execute_result"
    }
   ],
   "execution_count": 49
  },
  {
   "metadata": {},
   "cell_type": "code",
   "source": [
    "# Compare between styles (4 graphs per metric)\n",
    "# LLM + EMBED + SEARCH : \n",
    "# EMBED + SEARCH : precision, recall, f1"
   ],
   "id": "41d71ffd8809130a",
   "outputs": [],
   "execution_count": null
  },
  {
   "metadata": {
    "ExecuteTime": {
     "end_time": "2024-10-26T11:30:57.417513Z",
     "start_time": "2024-10-26T11:30:57.406878Z"
    }
   },
   "cell_type": "code",
   "source": [
    "# Retriever Comparison\n",
    "# Don't care about style and llm_name\n",
    "\n",
    "retriever_results = "
   ],
   "id": "2763dd95515216fa",
   "outputs": [],
   "execution_count": 32
  },
  {
   "metadata": {},
   "cell_type": "code",
   "outputs": [],
   "execution_count": null,
   "source": "",
   "id": "2ed00a8e0e166b04"
  }
 ],
 "metadata": {
  "kernelspec": {
   "display_name": "Python 3",
   "language": "python",
   "name": "python3"
  },
  "language_info": {
   "codemirror_mode": {
    "name": "ipython",
    "version": 2
   },
   "file_extension": ".py",
   "mimetype": "text/x-python",
   "name": "python",
   "nbconvert_exporter": "python",
   "pygments_lexer": "ipython2",
   "version": "2.7.6"
  }
 },
 "nbformat": 4,
 "nbformat_minor": 5
}
