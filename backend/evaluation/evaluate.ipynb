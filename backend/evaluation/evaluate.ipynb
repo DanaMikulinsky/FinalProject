{
 "cells": [
  {
   "cell_type": "code",
   "id": "initial_id",
   "metadata": {
    "collapsed": true,
    "ExecuteTime": {
     "end_time": "2024-10-20T15:25:21.624870Z",
     "start_time": "2024-10-20T15:25:14.508773Z"
    }
   },
   "source": [
    "import pandas as pd\n",
    "import transformers\n",
    "transformers.logging.set_verbosity_error()\n",
    "from evaluation import Evaluator\n",
    "from pipeline.DBHandler import DBHandler"
   ],
   "outputs": [
    {
     "name": "stdout",
     "output_type": "stream",
     "text": [
      "sagemaker.config INFO - Not applying SDK defaults from location: /etc/xdg/sagemaker/config.yaml\n",
      "sagemaker.config INFO - Not applying SDK defaults from location: /home/student/.config/sagemaker/config.yaml\n"
     ]
    }
   ],
   "execution_count": 1
  },
  {
   "metadata": {
    "ExecuteTime": {
     "end_time": "2024-10-20T15:25:21.630256Z",
     "start_time": "2024-10-20T15:25:21.626646Z"
    }
   },
   "cell_type": "code",
   "source": [
    "def get_ground_truth_data(gt_file=\"../data/FAQ.xlsx\"):\n",
    "    # Load ground truth data from a file\n",
    "    data = pd.read_excel(gt_file)\n",
    "    QA_list = []\n",
    "    for i, row in data.iterrows():\n",
    "        if i == 3:\n",
    "            break\n",
    "        QA_list.append((row[\"question\"], row[\"answer\"]))\n",
    "    return QA_list"
   ],
   "id": "f8bf99d8cc48403",
   "outputs": [],
   "execution_count": 2
  },
  {
   "metadata": {
    "ExecuteTime": {
     "end_time": "2024-10-20T15:25:39.073486Z",
     "start_time": "2024-10-20T15:25:22.842953Z"
    }
   },
   "cell_type": "code",
   "source": [
    "ground_truth_data = get_ground_truth_data()\n",
    "db_handler = DBHandler(org_id='maccabi', user_id='evaluator')\n",
    "evaluator = Evaluator(db_handler)\n",
    "results = evaluator.evaluate(ground_truth_data)"
   ],
   "id": "130a1b2518ca9041",
   "outputs": [
    {
     "name": "stderr",
     "output_type": "stream",
     "text": [
      "/home/student/finalProject/evaluation/evaluation.py:32: FutureWarning: The behavior of DataFrame concatenation with empty or all-NA entries is deprecated. In a future version, this will no longer exclude empty or all-NA columns when determining the result dtypes. To retain the old behavior, exclude the relevant entries before the concat operation.\n",
      "  results = pd.concat([results, enrty_to_add], ignore_index=True)\n"
     ]
    }
   ],
   "execution_count": 3
  },
  {
   "metadata": {
    "ExecuteTime": {
     "end_time": "2024-10-20T15:25:40.737736Z",
     "start_time": "2024-10-20T15:25:40.678369Z"
    }
   },
   "cell_type": "code",
   "source": [
    "pd.set_option('display.max_colwidth',1)\n",
    "results.to_csv(\"results.csv\")\n",
    "results.head(10)"
   ],
   "id": "bab0f9708fa48fc0",
   "outputs": [
    {
     "data": {
      "text/plain": [
       "                                                                                                         question  \\\n",
       "0  Who is eligible to transportation for treatments and examinations for dialysis patients up to 18 years of age?   \n",
       "1  How much Examination and treatment for vision focus cost?                                                        \n",
       "2  Where Psychodiagnostic diagnosis is provided?                                                                    \n",
       "\n",
       "                                                                                                                                                                                                                                                                                                                                                                                                                                                                                                                                                                                                                                                                                      true_answer  \\\n",
       "0  Children and youth members of the Maccabi are dialysis patients who are not yet 18 years old, traveling for treatment in a hospital, at a dedicated dialysis institute for children. Eligibility for dialysis patients under the age of 18                                                                                                                                                                                                                                                                                                                                                                                                                                                       \n",
       "1  The price varies depending on the medical institution that performs the tests and treatments\\n At the Maccabi Eye Institute in Assuta Shalom in Tel Aviv or with therapists who have an agreement with Maccabi - 72₪ deductible for evaluation tests, 55₪ deductible for each orthopedic treatment.\\nIn a public hospital - Pledge with deduction of 72₪ deductible for evaluation tests and pledge with deduction of 55₪ deductible for each orthopedic treatment.\\nIn remote areas for patients who do not have an agreement with Maccabi - 50% reimbursement of the rate of the Ministry of Health and offset of a deductible of 72₪ for evaluation tests and 55₪ for orthopedic treatment.   \n",
       "2  At Maccabi Mental Health Clinics.                                                                                                                                                                                                                                                                                                                                                                                                                                                                                                                                                                                                                                                                \n",
       "\n",
       "                                                                                               chatbot_answer  \\\n",
       "0  Children and youth members of the Maccabi who are dialysis patients and not yet 18 years old are eligible.   \n",
       "1  The price varies depending on the medical institution that performs the tests and treatments.                \n",
       "2  At Maccabi Mental Health Clinics.                                                                            \n",
       "\n",
       "   cosine_similarity  correctness_score  faithfulness_score  \\\n",
       "0  0.898219           0.521628           0.760284             \n",
       "1  0.773442           0.257814           0.707909             \n",
       "2  1.000000           0.666667           0.743116             \n",
       "\n",
       "                                                                                         retriever_scores  \n",
       "0  {'precision': 0.4, 'recall': 1.0, 'f1_score': 0.5714285714285714, 'relevance_scores': [1, 1, 1, 1, 1]}  \n",
       "1  {'precision': 0.0, 'recall': 1.0, 'f1_score': 0.0, 'relevance_scores': [1, 1, 1, 1, 1]}                 \n",
       "2  {'precision': 0.6, 'recall': 1.0, 'f1_score': 0.75, 'relevance_scores': [1, 1, 1, 1, 1]}                "
      ],
      "text/html": [
       "<div>\n",
       "<style scoped>\n",
       "    .dataframe tbody tr th:only-of-type {\n",
       "        vertical-align: middle;\n",
       "    }\n",
       "\n",
       "    .dataframe tbody tr th {\n",
       "        vertical-align: top;\n",
       "    }\n",
       "\n",
       "    .dataframe thead th {\n",
       "        text-align: right;\n",
       "    }\n",
       "</style>\n",
       "<table border=\"1\" class=\"dataframe\">\n",
       "  <thead>\n",
       "    <tr style=\"text-align: right;\">\n",
       "      <th></th>\n",
       "      <th>question</th>\n",
       "      <th>true_answer</th>\n",
       "      <th>chatbot_answer</th>\n",
       "      <th>cosine_similarity</th>\n",
       "      <th>correctness_score</th>\n",
       "      <th>faithfulness_score</th>\n",
       "      <th>retriever_scores</th>\n",
       "    </tr>\n",
       "  </thead>\n",
       "  <tbody>\n",
       "    <tr>\n",
       "      <th>0</th>\n",
       "      <td>Who is eligible to transportation for treatments and examinations for dialysis patients up to 18 years of age?</td>\n",
       "      <td>Children and youth members of the Maccabi are dialysis patients who are not yet 18 years old, traveling for treatment in a hospital, at a dedicated dialysis institute for children. Eligibility for dialysis patients under the age of 18</td>\n",
       "      <td>Children and youth members of the Maccabi who are dialysis patients and not yet 18 years old are eligible.</td>\n",
       "      <td>0.898219</td>\n",
       "      <td>0.521628</td>\n",
       "      <td>0.760284</td>\n",
       "      <td>{'precision': 0.4, 'recall': 1.0, 'f1_score': 0.5714285714285714, 'relevance_scores': [1, 1, 1, 1, 1]}</td>\n",
       "    </tr>\n",
       "    <tr>\n",
       "      <th>1</th>\n",
       "      <td>How much Examination and treatment for vision focus cost?</td>\n",
       "      <td>The price varies depending on the medical institution that performs the tests and treatments\\n At the Maccabi Eye Institute in Assuta Shalom in Tel Aviv or with therapists who have an agreement with Maccabi - 72₪ deductible for evaluation tests, 55₪ deductible for each orthopedic treatment.\\nIn a public hospital - Pledge with deduction of 72₪ deductible for evaluation tests and pledge with deduction of 55₪ deductible for each orthopedic treatment.\\nIn remote areas for patients who do not have an agreement with Maccabi - 50% reimbursement of the rate of the Ministry of Health and offset of a deductible of 72₪ for evaluation tests and 55₪ for orthopedic treatment.</td>\n",
       "      <td>The price varies depending on the medical institution that performs the tests and treatments.</td>\n",
       "      <td>0.773442</td>\n",
       "      <td>0.257814</td>\n",
       "      <td>0.707909</td>\n",
       "      <td>{'precision': 0.0, 'recall': 1.0, 'f1_score': 0.0, 'relevance_scores': [1, 1, 1, 1, 1]}</td>\n",
       "    </tr>\n",
       "    <tr>\n",
       "      <th>2</th>\n",
       "      <td>Where Psychodiagnostic diagnosis is provided?</td>\n",
       "      <td>At Maccabi Mental Health Clinics.</td>\n",
       "      <td>At Maccabi Mental Health Clinics.</td>\n",
       "      <td>1.000000</td>\n",
       "      <td>0.666667</td>\n",
       "      <td>0.743116</td>\n",
       "      <td>{'precision': 0.6, 'recall': 1.0, 'f1_score': 0.75, 'relevance_scores': [1, 1, 1, 1, 1]}</td>\n",
       "    </tr>\n",
       "  </tbody>\n",
       "</table>\n",
       "</div>"
      ]
     },
     "execution_count": 4,
     "metadata": {},
     "output_type": "execute_result"
    }
   ],
   "execution_count": 4
  },
  {
   "metadata": {},
   "cell_type": "code",
   "outputs": [],
   "execution_count": null,
   "source": "",
   "id": "9e7462381a232a58"
  }
 ],
 "metadata": {
  "kernelspec": {
   "display_name": "Python 3",
   "language": "python",
   "name": "python3"
  },
  "language_info": {
   "codemirror_mode": {
    "name": "ipython",
    "version": 2
   },
   "file_extension": ".py",
   "mimetype": "text/x-python",
   "name": "python",
   "nbconvert_exporter": "python",
   "pygments_lexer": "ipython2",
   "version": "2.7.6"
  }
 },
 "nbformat": 4,
 "nbformat_minor": 5
}
