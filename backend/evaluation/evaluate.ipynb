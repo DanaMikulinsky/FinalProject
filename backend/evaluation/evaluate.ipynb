{
 "cells": [
  {
   "metadata": {},
   "cell_type": "markdown",
   "source": "# Evaluating the chatbot",
   "id": "ba863e86a3c1f395"
  },
  {
   "metadata": {},
   "cell_type": "markdown",
   "source": [
    "The ground truth data was manually created by the team and is stored in an Excel file. The file contains the following information:\n",
    "1. Question\n",
    "2. Correct answer\n",
    "3. The ID's of the relevant chunks that should be returned by the retriever"
   ],
   "id": "6fc862bb1271f871"
  },
  {
   "cell_type": "code",
   "id": "initial_id",
   "metadata": {
    "collapsed": true,
    "ExecuteTime": {
     "end_time": "2024-10-25T13:09:04.795065Z",
     "start_time": "2024-10-25T13:09:04.790815Z"
    }
   },
   "source": [
    "from backend.evaluation.Evaluator import Evaluator\n",
    "from backend.pipeline.DBHandler import DBHandler\n",
    "\n",
    "import pandas as pd\n",
    "import transformers\n",
    "from retrying import retry\n",
    "\n",
    "transformers.logging.set_verbosity_error()"
   ],
   "outputs": [],
   "execution_count": 56
  },
  {
   "metadata": {
    "ExecuteTime": {
     "end_time": "2024-10-25T13:09:04.799381Z",
     "start_time": "2024-10-25T13:09:04.796613Z"
    }
   },
   "cell_type": "code",
   "source": [
    "#@retry(stop_max_attempt_number=3, wait_fixed=60*1000)  # 3 attempts, 60 seconds between retries\n",
    "def get_ground_truth_data(emb, gt_file=\"./FAQ.xlsx\"):\n",
    "\t# Load ground truth data from a file\n",
    "\tdata = pd.read_excel(gt_file)\n",
    "\tQA_list = []\n",
    "\tfor i, row in data.iterrows():\n",
    "\t\trelevant_chunks_id = row[f\"relevant_chunks_id_{emb}\"].strip().split(\",\")\n",
    "\t\tQA_list.append((row[\"question\"], row[\"answer\"], relevant_chunks_id))\n",
    "\treturn QA_list\n"
   ],
   "id": "f8bf99d8cc48403",
   "outputs": [],
   "execution_count": 57
  },
  {
   "metadata": {
    "ExecuteTime": {
     "end_time": "2024-10-25T13:09:04.805774Z",
     "start_time": "2024-10-25T13:09:04.803010Z"
    }
   },
   "cell_type": "code",
   "source": [
    "def evaluate_chatbot(ground_truth_data, style, embedding_type, search_method, llm_name):\n",
    "\tdb_handler = DBHandler(org_id=f'maccabi_{embedding_type}', user_id='evaluator', search_method=search_method)\n",
    "\tevaluator = Evaluator(db_handler, style=style, llm_model_name=llm_name)\n",
    "\tresults = evaluator.evaluate(ground_truth_data)\n",
    "\tresults['style'] = style if style != '' else 'neutral'\n",
    "\tresults['embedding_type'] = embedding_type\n",
    "\tresults['search_method'] = search_method\n",
    "\tresults['llm_name'] = llm_name\n",
    "\treturn results"
   ],
   "id": "c115af7236ff8243",
   "outputs": [],
   "execution_count": 58
  },
  {
   "metadata": {},
   "cell_type": "markdown",
   "source": [
    "Evaluating the chatbot's answers with the ground truth data. Various configurations are tested:\n",
    "1. 3 llms\n",
    "2. 3 embedding types\n",
    "3. 2 search methods\n",
    "4. 5 styles"
   ],
   "id": "9d05a73ad7cd58b1"
  },
  {
   "metadata": {
    "ExecuteTime": {
     "end_time": "2024-10-25T13:09:34.733421Z",
     "start_time": "2024-10-25T13:09:04.816910Z"
    }
   },
   "cell_type": "code",
   "source": [
    "styles = ['', 'kids', 'elderly', 'emoji', 'rhymes']  # empty string means no style\n",
    "embedding_types = ['emb1',  # models/text-embedding-004\n",
    "\t\t\t\t   'emb2',  # models/embedding-001\n",
    "\t\t\t\t   'emb3']  # from HW1: SentenceTransformer('all-MiniLM-L6-v2')\n",
    "llm_names = ['gemini-1.5-flash',\n",
    "\t\t\t 'meta-llama/Meta-Llama-3.1-8B-Instruct-Turbo',\n",
    "\t\t\t 'mistralai/Mistral-7B-Instruct-v0.1']\n",
    "search_methods = ['approximate', 'exact']\n",
    "\n",
    "full_results = pd.DataFrame(\n",
    "\tcolumns=['style', 'embedding_type', 'search_method', 'llm_name', 'question', 'true_answer', 'chatbot_answer',\n",
    "\t\t\t 'cosine_similarity', 'correctness_score', 'faithfulness_score', 'retriever_scores'])\n",
    "\n",
    "for style in styles:\n",
    "\tstr_style = style if style != '' else 'neutral'\n",
    "\tprint(f\"Style: {str_style}\", end=\" | \")\n",
    "\tfor embedding_type in embedding_types:\n",
    "\t\tground_truth_data = get_ground_truth_data(embedding_type)\n",
    "\t\tprint(f\"embedding_type: {embedding_type}\", end=\" | \")\n",
    "\t\tfor llm_name in llm_names:\n",
    "\t\t\tprint(f\"llm_name: {llm_name}\", end=\" | \")\n",
    "\t\t\tfor search_method in search_methods:\n",
    "\t\t\t\tprint(f\"search_method: {search_method} | \", end=\" Status: \")\n",
    "\t\t\t\ttry:\n",
    "\t\t\t\t\tresults = evaluate_chatbot(ground_truth_data, style, embedding_type, search_method, llm_name)\n",
    "\t\t\t\t\tfull_results = pd.concat([full_results, results], ignore_index=True)\n",
    "\t\t\t\t\tfull_results.to_csv(\"full_results.csv\", index=False)  #re-save after each iteration to be safe :)\n",
    "\t\t\t\t\tprint(\"Done\")\n",
    "\t\t\t\texcept Exception as e:\n",
    "\t\t\t\t\tprint(f\"Configuration failed\")\n",
    "\t\t\t\t\tprint(f\"Error content: {e}\")\n",
    "\t\t\t\t\tcontinue"
   ],
   "id": "130a1b2518ca9041",
   "outputs": [
    {
     "name": "stdout",
     "output_type": "stream",
     "text": [
      "Style: neutral | embedding_type: emb1 | llm_name: gemini-1.5-flash | search_method: approximate |  Status: Configuration failed\n",
      "Error content: [E050] Can't find model 'en_core_web_sm'. It doesn't seem to be a Python package or a valid path to a data directory.\n",
      "search_method: exact |  Status: Configuration failed\n",
      "Error content: [E050] Can't find model 'en_core_web_sm'. It doesn't seem to be a Python package or a valid path to a data directory.\n",
      "llm_name: meta-llama/Meta-Llama-3.1-8B-Instruct-Turbo | search_method: approximate |  Status: Configuration failed\n",
      "Error content: [E050] Can't find model 'en_core_web_sm'. It doesn't seem to be a Python package or a valid path to a data directory.\n",
      "search_method: exact |  Status: Configuration failed\n",
      "Error content: [E050] Can't find model 'en_core_web_sm'. It doesn't seem to be a Python package or a valid path to a data directory.\n",
      "llm_name: mistralai/Mistral-7B-Instruct-v0.1 | search_method: approximate |  Status: Configuration failed\n",
      "Error content: [E050] Can't find model 'en_core_web_sm'. It doesn't seem to be a Python package or a valid path to a data directory.\n",
      "search_method: exact |  Status: Configuration failed\n",
      "Error content: [E050] Can't find model 'en_core_web_sm'. It doesn't seem to be a Python package or a valid path to a data directory.\n",
      "embedding_type: emb2 | llm_name: gemini-1.5-flash | search_method: approximate |  Status: Configuration failed\n",
      "Error content: [E050] Can't find model 'en_core_web_sm'. It doesn't seem to be a Python package or a valid path to a data directory.\n",
      "search_method: exact |  Status: Configuration failed\n",
      "Error content: [E050] Can't find model 'en_core_web_sm'. It doesn't seem to be a Python package or a valid path to a data directory.\n",
      "llm_name: meta-llama/Meta-Llama-3.1-8B-Instruct-Turbo | search_method: approximate |  Status: Configuration failed\n",
      "Error content: [E050] Can't find model 'en_core_web_sm'. It doesn't seem to be a Python package or a valid path to a data directory.\n",
      "search_method: exact |  Status: Configuration failed\n",
      "Error content: [E050] Can't find model 'en_core_web_sm'. It doesn't seem to be a Python package or a valid path to a data directory.\n",
      "llm_name: mistralai/Mistral-7B-Instruct-v0.1 | search_method: approximate |  Status: Configuration failed\n",
      "Error content: [E050] Can't find model 'en_core_web_sm'. It doesn't seem to be a Python package or a valid path to a data directory.\n",
      "search_method: exact |  Status: Configuration failed\n",
      "Error content: [E050] Can't find model 'en_core_web_sm'. It doesn't seem to be a Python package or a valid path to a data directory.\n",
      "embedding_type: emb3 | llm_name: gemini-1.5-flash | search_method: approximate |  Status: Configuration failed\n",
      "Error content: [E050] Can't find model 'en_core_web_sm'. It doesn't seem to be a Python package or a valid path to a data directory.\n",
      "search_method: exact |  Status: Configuration failed\n",
      "Error content: [E050] Can't find model 'en_core_web_sm'. It doesn't seem to be a Python package or a valid path to a data directory.\n",
      "llm_name: meta-llama/Meta-Llama-3.1-8B-Instruct-Turbo | search_method: approximate |  Status: Configuration failed\n",
      "Error content: [E050] Can't find model 'en_core_web_sm'. It doesn't seem to be a Python package or a valid path to a data directory.\n",
      "search_method: exact |  Status: Configuration failed\n",
      "Error content: [E050] Can't find model 'en_core_web_sm'. It doesn't seem to be a Python package or a valid path to a data directory.\n",
      "llm_name: mistralai/Mistral-7B-Instruct-v0.1 | search_method: approximate |  Status: Configuration failed\n",
      "Error content: [E050] Can't find model 'en_core_web_sm'. It doesn't seem to be a Python package or a valid path to a data directory.\n",
      "search_method: exact |  Status: "
     ]
    },
    {
     "ename": "KeyboardInterrupt",
     "evalue": "",
     "output_type": "error",
     "traceback": [
      "\u001B[0;31m---------------------------------------------------------------------------\u001B[0m",
      "\u001B[0;31mKeyboardInterrupt\u001B[0m                         Traceback (most recent call last)",
      "Cell \u001B[0;32mIn[59], line 25\u001B[0m\n\u001B[1;32m     23\u001B[0m \u001B[38;5;28mprint\u001B[39m(\u001B[38;5;124mf\u001B[39m\u001B[38;5;124m\"\u001B[39m\u001B[38;5;124msearch_method: \u001B[39m\u001B[38;5;132;01m{\u001B[39;00msearch_method\u001B[38;5;132;01m}\u001B[39;00m\u001B[38;5;124m | \u001B[39m\u001B[38;5;124m\"\u001B[39m, end\u001B[38;5;241m=\u001B[39m\u001B[38;5;124m\"\u001B[39m\u001B[38;5;124m Status: \u001B[39m\u001B[38;5;124m\"\u001B[39m)\n\u001B[1;32m     24\u001B[0m \u001B[38;5;28;01mtry\u001B[39;00m:\n\u001B[0;32m---> 25\u001B[0m \tresults \u001B[38;5;241m=\u001B[39m \u001B[43mevaluate_chatbot\u001B[49m\u001B[43m(\u001B[49m\u001B[43mground_truth_data\u001B[49m\u001B[43m,\u001B[49m\u001B[43m \u001B[49m\u001B[43mstyle\u001B[49m\u001B[43m,\u001B[49m\u001B[43m \u001B[49m\u001B[43membedding_type\u001B[49m\u001B[43m,\u001B[49m\u001B[43m \u001B[49m\u001B[43msearch_method\u001B[49m\u001B[43m,\u001B[49m\u001B[43m \u001B[49m\u001B[43mllm_name\u001B[49m\u001B[43m)\u001B[49m\n\u001B[1;32m     26\u001B[0m \tfull_results \u001B[38;5;241m=\u001B[39m pd\u001B[38;5;241m.\u001B[39mconcat([full_results, results], ignore_index\u001B[38;5;241m=\u001B[39m\u001B[38;5;28;01mTrue\u001B[39;00m)\n\u001B[1;32m     27\u001B[0m \tfull_results\u001B[38;5;241m.\u001B[39mto_csv(\u001B[38;5;124m\"\u001B[39m\u001B[38;5;124mfull_results.csv\u001B[39m\u001B[38;5;124m\"\u001B[39m, index\u001B[38;5;241m=\u001B[39m\u001B[38;5;28;01mFalse\u001B[39;00m)  \u001B[38;5;66;03m#re-save after each iteration to be safe :)\u001B[39;00m\n",
      "Cell \u001B[0;32mIn[58], line 2\u001B[0m, in \u001B[0;36mevaluate_chatbot\u001B[0;34m(ground_truth_data, style, embedding_type, search_method, llm_name)\u001B[0m\n\u001B[1;32m      1\u001B[0m \u001B[38;5;28;01mdef\u001B[39;00m \u001B[38;5;21mevaluate_chatbot\u001B[39m(ground_truth_data, style, embedding_type, search_method, llm_name):\n\u001B[0;32m----> 2\u001B[0m \tdb_handler \u001B[38;5;241m=\u001B[39m \u001B[43mDBHandler\u001B[49m\u001B[43m(\u001B[49m\u001B[43morg_id\u001B[49m\u001B[38;5;241;43m=\u001B[39;49m\u001B[38;5;124;43mf\u001B[39;49m\u001B[38;5;124;43m'\u001B[39;49m\u001B[38;5;124;43mmaccabi_\u001B[39;49m\u001B[38;5;132;43;01m{\u001B[39;49;00m\u001B[43membedding_type\u001B[49m\u001B[38;5;132;43;01m}\u001B[39;49;00m\u001B[38;5;124;43m'\u001B[39;49m\u001B[43m,\u001B[49m\u001B[43m \u001B[49m\u001B[43muser_id\u001B[49m\u001B[38;5;241;43m=\u001B[39;49m\u001B[38;5;124;43m'\u001B[39;49m\u001B[38;5;124;43mevaluator\u001B[39;49m\u001B[38;5;124;43m'\u001B[39;49m\u001B[43m,\u001B[49m\u001B[43m \u001B[49m\u001B[43msearch_method\u001B[49m\u001B[38;5;241;43m=\u001B[39;49m\u001B[43msearch_method\u001B[49m\u001B[43m)\u001B[49m\n\u001B[1;32m      3\u001B[0m \tevaluator \u001B[38;5;241m=\u001B[39m Evaluator(db_handler, style\u001B[38;5;241m=\u001B[39mstyle, llm_model_name\u001B[38;5;241m=\u001B[39mllm_name)\n\u001B[1;32m      4\u001B[0m \tresults \u001B[38;5;241m=\u001B[39m evaluator\u001B[38;5;241m.\u001B[39mevaluate(ground_truth_data)\n",
      "File \u001B[0;32m~/PycharmProjects/FinalProject/backend/pipeline/DBHandler.py:37\u001B[0m, in \u001B[0;36mDBHandler.__init__\u001B[0;34m(self, org_id, user_id, connection_string, search_method)\u001B[0m\n\u001B[1;32m     35\u001B[0m \t\t\u001B[38;5;28;01mraise\u001B[39;00m \u001B[38;5;167;01mValueError\u001B[39;00m(\u001B[38;5;124m'\u001B[39m\u001B[38;5;124mConnection string must be a non-empty string.\u001B[39m\u001B[38;5;124m'\u001B[39m)\n\u001B[1;32m     36\u001B[0m \t\u001B[38;5;28;01melse\u001B[39;00m:\n\u001B[0;32m---> 37\u001B[0m \t\t\u001B[38;5;28mself\u001B[39m\u001B[38;5;241m.\u001B[39mclient \u001B[38;5;241m=\u001B[39m \u001B[43mMongoClient\u001B[49m\u001B[43m(\u001B[49m\u001B[43mconnection_string\u001B[49m\u001B[43m)\u001B[49m\n\u001B[1;32m     38\u001B[0m \u001B[38;5;28;01mexcept\u001B[39;00m \u001B[38;5;167;01mException\u001B[39;00m \u001B[38;5;28;01mas\u001B[39;00m e:\n\u001B[1;32m     39\u001B[0m \t\u001B[38;5;28;01mraise\u001B[39;00m \u001B[38;5;124mf\u001B[39m\u001B[38;5;124m'\u001B[39m\u001B[38;5;124mAn error occurred while trying to connect to the database: \u001B[39m\u001B[38;5;132;01m{\u001B[39;00me\u001B[38;5;132;01m}\u001B[39;00m\u001B[38;5;124m'\u001B[39m\n",
      "File \u001B[0;32m/opt/anaconda3/envs/lab_project/lib/python3.10/site-packages/pymongo/synchronous/mongo_client.py:780\u001B[0m, in \u001B[0;36mMongoClient.__init__\u001B[0;34m(self, host, port, document_class, tz_aware, connect, type_registry, **kwargs)\u001B[0m\n\u001B[1;32m    776\u001B[0m \u001B[38;5;28;01mif\u001B[39;00m timeout \u001B[38;5;129;01mis\u001B[39;00m \u001B[38;5;129;01mnot\u001B[39;00m \u001B[38;5;28;01mNone\u001B[39;00m:\n\u001B[1;32m    777\u001B[0m     timeout \u001B[38;5;241m=\u001B[39m common\u001B[38;5;241m.\u001B[39mvalidate_timeout_or_none_or_zero(\n\u001B[1;32m    778\u001B[0m         keyword_opts\u001B[38;5;241m.\u001B[39mcased_key(\u001B[38;5;124m\"\u001B[39m\u001B[38;5;124mconnecttimeoutms\u001B[39m\u001B[38;5;124m\"\u001B[39m), timeout\n\u001B[1;32m    779\u001B[0m     )\n\u001B[0;32m--> 780\u001B[0m res \u001B[38;5;241m=\u001B[39m \u001B[43muri_parser\u001B[49m\u001B[38;5;241;43m.\u001B[39;49m\u001B[43mparse_uri\u001B[49m\u001B[43m(\u001B[49m\n\u001B[1;32m    781\u001B[0m \u001B[43m    \u001B[49m\u001B[43mentity\u001B[49m\u001B[43m,\u001B[49m\n\u001B[1;32m    782\u001B[0m \u001B[43m    \u001B[49m\u001B[43mport\u001B[49m\u001B[43m,\u001B[49m\n\u001B[1;32m    783\u001B[0m \u001B[43m    \u001B[49m\u001B[43mvalidate\u001B[49m\u001B[38;5;241;43m=\u001B[39;49m\u001B[38;5;28;43;01mTrue\u001B[39;49;00m\u001B[43m,\u001B[49m\n\u001B[1;32m    784\u001B[0m \u001B[43m    \u001B[49m\u001B[43mwarn\u001B[49m\u001B[38;5;241;43m=\u001B[39;49m\u001B[38;5;28;43;01mTrue\u001B[39;49;00m\u001B[43m,\u001B[49m\n\u001B[1;32m    785\u001B[0m \u001B[43m    \u001B[49m\u001B[43mnormalize\u001B[49m\u001B[38;5;241;43m=\u001B[39;49m\u001B[38;5;28;43;01mFalse\u001B[39;49;00m\u001B[43m,\u001B[49m\n\u001B[1;32m    786\u001B[0m \u001B[43m    \u001B[49m\u001B[43mconnect_timeout\u001B[49m\u001B[38;5;241;43m=\u001B[39;49m\u001B[43mtimeout\u001B[49m\u001B[43m,\u001B[49m\n\u001B[1;32m    787\u001B[0m \u001B[43m    \u001B[49m\u001B[43msrv_service_name\u001B[49m\u001B[38;5;241;43m=\u001B[39;49m\u001B[43msrv_service_name\u001B[49m\u001B[43m,\u001B[49m\n\u001B[1;32m    788\u001B[0m \u001B[43m    \u001B[49m\u001B[43msrv_max_hosts\u001B[49m\u001B[38;5;241;43m=\u001B[39;49m\u001B[43msrv_max_hosts\u001B[49m\u001B[43m,\u001B[49m\n\u001B[1;32m    789\u001B[0m \u001B[43m\u001B[49m\u001B[43m)\u001B[49m\n\u001B[1;32m    790\u001B[0m seeds\u001B[38;5;241m.\u001B[39mupdate(res[\u001B[38;5;124m\"\u001B[39m\u001B[38;5;124mnodelist\u001B[39m\u001B[38;5;124m\"\u001B[39m])\n\u001B[1;32m    791\u001B[0m username \u001B[38;5;241m=\u001B[39m res[\u001B[38;5;124m\"\u001B[39m\u001B[38;5;124musername\u001B[39m\u001B[38;5;124m\"\u001B[39m] \u001B[38;5;129;01mor\u001B[39;00m username\n",
      "File \u001B[0;32m/opt/anaconda3/envs/lab_project/lib/python3.10/site-packages/pymongo/uri_parser.py:559\u001B[0m, in \u001B[0;36mparse_uri\u001B[0;34m(uri, default_port, validate, warn, normalize, connect_timeout, srv_service_name, srv_max_hosts)\u001B[0m\n\u001B[1;32m    557\u001B[0m dns_resolver \u001B[38;5;241m=\u001B[39m _SrvResolver(fqdn, connect_timeout, srv_service_name, srv_max_hosts)\n\u001B[1;32m    558\u001B[0m nodes \u001B[38;5;241m=\u001B[39m dns_resolver\u001B[38;5;241m.\u001B[39mget_hosts()\n\u001B[0;32m--> 559\u001B[0m dns_options \u001B[38;5;241m=\u001B[39m \u001B[43mdns_resolver\u001B[49m\u001B[38;5;241;43m.\u001B[39;49m\u001B[43mget_options\u001B[49m\u001B[43m(\u001B[49m\u001B[43m)\u001B[49m\n\u001B[1;32m    560\u001B[0m \u001B[38;5;28;01mif\u001B[39;00m dns_options:\n\u001B[1;32m    561\u001B[0m     parsed_dns_options \u001B[38;5;241m=\u001B[39m split_options(dns_options, validate, warn, normalize)\n",
      "File \u001B[0;32m/opt/anaconda3/envs/lab_project/lib/python3.10/site-packages/pymongo/srv_resolver.py:94\u001B[0m, in \u001B[0;36m_SrvResolver.get_options\u001B[0;34m(self)\u001B[0m\n\u001B[1;32m     91\u001B[0m \u001B[38;5;28;01mfrom\u001B[39;00m \u001B[38;5;21;01mdns\u001B[39;00m \u001B[38;5;28;01mimport\u001B[39;00m resolver\n\u001B[1;32m     93\u001B[0m \u001B[38;5;28;01mtry\u001B[39;00m:\n\u001B[0;32m---> 94\u001B[0m     results \u001B[38;5;241m=\u001B[39m \u001B[43m_resolve\u001B[49m\u001B[43m(\u001B[49m\u001B[38;5;28;43mself\u001B[39;49m\u001B[38;5;241;43m.\u001B[39;49m\u001B[43m__fqdn\u001B[49m\u001B[43m,\u001B[49m\u001B[43m \u001B[49m\u001B[38;5;124;43m\"\u001B[39;49m\u001B[38;5;124;43mTXT\u001B[39;49m\u001B[38;5;124;43m\"\u001B[39;49m\u001B[43m,\u001B[49m\u001B[43m \u001B[49m\u001B[43mlifetime\u001B[49m\u001B[38;5;241;43m=\u001B[39;49m\u001B[38;5;28;43mself\u001B[39;49m\u001B[38;5;241;43m.\u001B[39;49m\u001B[43m__connect_timeout\u001B[49m\u001B[43m)\u001B[49m\n\u001B[1;32m     95\u001B[0m \u001B[38;5;28;01mexcept\u001B[39;00m (resolver\u001B[38;5;241m.\u001B[39mNoAnswer, resolver\u001B[38;5;241m.\u001B[39mNXDOMAIN):\n\u001B[1;32m     96\u001B[0m     \u001B[38;5;66;03m# No TXT records\u001B[39;00m\n\u001B[1;32m     97\u001B[0m     \u001B[38;5;28;01mreturn\u001B[39;00m \u001B[38;5;28;01mNone\u001B[39;00m\n",
      "File \u001B[0;32m/opt/anaconda3/envs/lab_project/lib/python3.10/site-packages/pymongo/srv_resolver.py:52\u001B[0m, in \u001B[0;36m_resolve\u001B[0;34m(*args, **kwargs)\u001B[0m\n\u001B[1;32m     48\u001B[0m \u001B[38;5;28;01mfrom\u001B[39;00m \u001B[38;5;21;01mdns\u001B[39;00m \u001B[38;5;28;01mimport\u001B[39;00m resolver\n\u001B[1;32m     50\u001B[0m \u001B[38;5;28;01mif\u001B[39;00m \u001B[38;5;28mhasattr\u001B[39m(resolver, \u001B[38;5;124m\"\u001B[39m\u001B[38;5;124mresolve\u001B[39m\u001B[38;5;124m\"\u001B[39m):\n\u001B[1;32m     51\u001B[0m     \u001B[38;5;66;03m# dnspython >= 2\u001B[39;00m\n\u001B[0;32m---> 52\u001B[0m     \u001B[38;5;28;01mreturn\u001B[39;00m \u001B[43mresolver\u001B[49m\u001B[38;5;241;43m.\u001B[39;49m\u001B[43mresolve\u001B[49m\u001B[43m(\u001B[49m\u001B[38;5;241;43m*\u001B[39;49m\u001B[43margs\u001B[49m\u001B[43m,\u001B[49m\u001B[43m \u001B[49m\u001B[38;5;241;43m*\u001B[39;49m\u001B[38;5;241;43m*\u001B[39;49m\u001B[43mkwargs\u001B[49m\u001B[43m)\u001B[49m\n\u001B[1;32m     53\u001B[0m \u001B[38;5;66;03m# dnspython 1.X\u001B[39;00m\n\u001B[1;32m     54\u001B[0m \u001B[38;5;28;01mreturn\u001B[39;00m resolver\u001B[38;5;241m.\u001B[39mquery(\u001B[38;5;241m*\u001B[39margs, \u001B[38;5;241m*\u001B[39m\u001B[38;5;241m*\u001B[39mkwargs)\n",
      "File \u001B[0;32m/opt/anaconda3/envs/lab_project/lib/python3.10/site-packages/dns/resolver.py:1564\u001B[0m, in \u001B[0;36mresolve\u001B[0;34m(qname, rdtype, rdclass, tcp, source, raise_on_no_answer, source_port, lifetime, search)\u001B[0m\n\u001B[1;32m   1544\u001B[0m \u001B[38;5;28;01mdef\u001B[39;00m \u001B[38;5;21mresolve\u001B[39m(\n\u001B[1;32m   1545\u001B[0m     qname: Union[dns\u001B[38;5;241m.\u001B[39mname\u001B[38;5;241m.\u001B[39mName, \u001B[38;5;28mstr\u001B[39m],\n\u001B[1;32m   1546\u001B[0m     rdtype: Union[dns\u001B[38;5;241m.\u001B[39mrdatatype\u001B[38;5;241m.\u001B[39mRdataType, \u001B[38;5;28mstr\u001B[39m] \u001B[38;5;241m=\u001B[39m dns\u001B[38;5;241m.\u001B[39mrdatatype\u001B[38;5;241m.\u001B[39mA,\n\u001B[0;32m   (...)\u001B[0m\n\u001B[1;32m   1553\u001B[0m     search: Optional[\u001B[38;5;28mbool\u001B[39m] \u001B[38;5;241m=\u001B[39m \u001B[38;5;28;01mNone\u001B[39;00m,\n\u001B[1;32m   1554\u001B[0m ) \u001B[38;5;241m-\u001B[39m\u001B[38;5;241m>\u001B[39m Answer:  \u001B[38;5;66;03m# pragma: no cover\u001B[39;00m\n\u001B[1;32m   1555\u001B[0m \u001B[38;5;250m    \u001B[39m\u001B[38;5;124;03m\"\"\"Query nameservers to find the answer to the question.\u001B[39;00m\n\u001B[1;32m   1556\u001B[0m \n\u001B[1;32m   1557\u001B[0m \u001B[38;5;124;03m    This is a convenience function that uses the default resolver\u001B[39;00m\n\u001B[0;32m   (...)\u001B[0m\n\u001B[1;32m   1561\u001B[0m \u001B[38;5;124;03m    parameters.\u001B[39;00m\n\u001B[1;32m   1562\u001B[0m \u001B[38;5;124;03m    \"\"\"\u001B[39;00m\n\u001B[0;32m-> 1564\u001B[0m     \u001B[38;5;28;01mreturn\u001B[39;00m \u001B[43mget_default_resolver\u001B[49m\u001B[43m(\u001B[49m\u001B[43m)\u001B[49m\u001B[38;5;241;43m.\u001B[39;49m\u001B[43mresolve\u001B[49m\u001B[43m(\u001B[49m\n\u001B[1;32m   1565\u001B[0m \u001B[43m        \u001B[49m\u001B[43mqname\u001B[49m\u001B[43m,\u001B[49m\n\u001B[1;32m   1566\u001B[0m \u001B[43m        \u001B[49m\u001B[43mrdtype\u001B[49m\u001B[43m,\u001B[49m\n\u001B[1;32m   1567\u001B[0m \u001B[43m        \u001B[49m\u001B[43mrdclass\u001B[49m\u001B[43m,\u001B[49m\n\u001B[1;32m   1568\u001B[0m \u001B[43m        \u001B[49m\u001B[43mtcp\u001B[49m\u001B[43m,\u001B[49m\n\u001B[1;32m   1569\u001B[0m \u001B[43m        \u001B[49m\u001B[43msource\u001B[49m\u001B[43m,\u001B[49m\n\u001B[1;32m   1570\u001B[0m \u001B[43m        \u001B[49m\u001B[43mraise_on_no_answer\u001B[49m\u001B[43m,\u001B[49m\n\u001B[1;32m   1571\u001B[0m \u001B[43m        \u001B[49m\u001B[43msource_port\u001B[49m\u001B[43m,\u001B[49m\n\u001B[1;32m   1572\u001B[0m \u001B[43m        \u001B[49m\u001B[43mlifetime\u001B[49m\u001B[43m,\u001B[49m\n\u001B[1;32m   1573\u001B[0m \u001B[43m        \u001B[49m\u001B[43msearch\u001B[49m\u001B[43m,\u001B[49m\n\u001B[1;32m   1574\u001B[0m \u001B[43m    \u001B[49m\u001B[43m)\u001B[49m\n",
      "File \u001B[0;32m/opt/anaconda3/envs/lab_project/lib/python3.10/site-packages/dns/resolver.py:1319\u001B[0m, in \u001B[0;36mResolver.resolve\u001B[0;34m(self, qname, rdtype, rdclass, tcp, source, raise_on_no_answer, source_port, lifetime, search)\u001B[0m\n\u001B[1;32m   1317\u001B[0m (nameserver, tcp, backoff) \u001B[38;5;241m=\u001B[39m resolution\u001B[38;5;241m.\u001B[39mnext_nameserver()\n\u001B[1;32m   1318\u001B[0m \u001B[38;5;28;01mif\u001B[39;00m backoff:\n\u001B[0;32m-> 1319\u001B[0m     \u001B[43mtime\u001B[49m\u001B[38;5;241;43m.\u001B[39;49m\u001B[43msleep\u001B[49m\u001B[43m(\u001B[49m\u001B[43mbackoff\u001B[49m\u001B[43m)\u001B[49m\n\u001B[1;32m   1320\u001B[0m timeout \u001B[38;5;241m=\u001B[39m \u001B[38;5;28mself\u001B[39m\u001B[38;5;241m.\u001B[39m_compute_timeout(start, lifetime, resolution\u001B[38;5;241m.\u001B[39merrors)\n\u001B[1;32m   1321\u001B[0m \u001B[38;5;28;01mtry\u001B[39;00m:\n",
      "\u001B[0;31mKeyboardInterrupt\u001B[0m: "
     ]
    }
   ],
   "execution_count": 59
  },
  {
   "metadata": {
    "ExecuteTime": {
     "end_time": "2024-10-25T13:09:34.734621Z",
     "start_time": "2024-10-25T13:09:34.734563Z"
    }
   },
   "cell_type": "code",
   "source": "full_results.head(20)",
   "id": "bab0f9708fa48fc0",
   "outputs": [],
   "execution_count": null
  },
  {
   "metadata": {},
   "cell_type": "code",
   "source": "db_handler = DBHandler(org_id='maccabi_emb1', user_id='evaluator', search_method='exact')",
   "id": "3a53070ed768a280",
   "outputs": [],
   "execution_count": null
  },
  {
   "metadata": {},
   "cell_type": "code",
   "source": [
    "import pymongo\n",
    "import os\n",
    "\n",
    "client = pymongo.MongoClient(os.getenv(\"MONGODB_CONNECTION_STRING\"))\n",
    "db = client[\"embeddings\"]\n",
    "collection = db[\"maccabi_emb2\"]\n",
    "chunks = collection.find()\n",
    "chunks = list(chunks)"
   ],
   "id": "a5a0ec27133a0bc3",
   "outputs": [],
   "execution_count": null
  },
  {
   "metadata": {},
   "cell_type": "code",
   "source": [
    "files_nums = [10, 32, 34, 87, 122, 137, 161, 171, 176, 229]\n",
    "for file_num in files_nums:\n",
    "\tids = ''\n",
    "\tfor chunk in chunks:\n",
    "\t\tif chunk['origin_file'] == f'section_{file_num}.txt':\n",
    "\t\t\tids += str(chunk['_id']) + ','\n",
    "\tprint(f'file {file_num} chunks ids: {ids[:-1]}\\n')"
   ],
   "id": "577f66502288f1cc",
   "outputs": [],
   "execution_count": null
  },
  {
   "metadata": {},
   "cell_type": "code",
   "source": "",
   "id": "9f69989b562e096c",
   "outputs": [],
   "execution_count": null
  }
 ],
 "metadata": {
  "kernelspec": {
   "display_name": "Python 3",
   "language": "python",
   "name": "python3"
  },
  "language_info": {
   "codemirror_mode": {
    "name": "ipython",
    "version": 2
   },
   "file_extension": ".py",
   "mimetype": "text/x-python",
   "name": "python",
   "nbconvert_exporter": "python",
   "pygments_lexer": "ipython2",
   "version": "2.7.6"
  }
 },
 "nbformat": 4,
 "nbformat_minor": 5
}
