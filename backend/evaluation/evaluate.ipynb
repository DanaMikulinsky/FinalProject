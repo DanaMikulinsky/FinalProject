{
 "cells": [
  {
   "metadata": {},
   "cell_type": "markdown",
   "source": "# Evaluating the chatbot",
   "id": "ba863e86a3c1f395"
  },
  {
   "metadata": {},
   "cell_type": "markdown",
   "source": [
    "The ground truth data was manually created by the team and is stored in an Excel file. The file contains the following information:\n",
    "1. Question\n",
    "2. Correct answer\n",
    "3. The ID's of the relevant chunks that should be returned by the retriever, per each embedding type."
   ],
   "id": "6fc862bb1271f871"
  },
  {
   "cell_type": "code",
   "id": "initial_id",
   "metadata": {
    "collapsed": true,
    "ExecuteTime": {
     "end_time": "2024-10-25T15:19:09.786753Z",
     "start_time": "2024-10-25T15:19:01.420018Z"
    }
   },
   "source": [
    "from backend.evaluation.Evaluator import Evaluator\n",
    "from backend.pipeline.DBHandler import DBHandler\n",
    "\n",
    "import pandas as pd\n",
    "import transformers\n",
    "from retrying import retry\n",
    "\n",
    "transformers.logging.set_verbosity_error()"
   ],
   "outputs": [
    {
     "name": "stdout",
     "output_type": "stream",
     "text": [
      "sagemaker.config INFO - Not applying SDK defaults from location: /etc/xdg/sagemaker/config.yaml\n",
      "sagemaker.config INFO - Not applying SDK defaults from location: /home/student/.config/sagemaker/config.yaml\n"
     ]
    }
   ],
   "execution_count": 1
  },
  {
   "metadata": {
    "ExecuteTime": {
     "end_time": "2024-10-25T15:19:09.792917Z",
     "start_time": "2024-10-25T15:19:09.788838Z"
    }
   },
   "cell_type": "code",
   "source": [
    "@retry(stop_max_attempt_number=3, wait_fixed=60*1000)  # 3 attempts, 60 seconds between retries\n",
    "def get_ground_truth_data(emb, gt_file=\"./FAQ.xlsx\"):\n",
    "\t# Load ground truth data from a file\n",
    "\tdata = pd.read_excel(gt_file)\n",
    "\tQA_list = []\n",
    "\tfor i, row in data.iterrows():\n",
    "\t\tif not row.isnull().values.any():\n",
    "\t\t\trelevant_chunks_id = row[f\"relevant_chunks_id_{emb}\"].strip().split(\",\")\n",
    "\t\t\tQA_list.append((row[\"question\"], row[\"answer\"], relevant_chunks_id))\n",
    "\treturn QA_list\n"
   ],
   "id": "f8bf99d8cc48403",
   "outputs": [],
   "execution_count": 2
  },
  {
   "metadata": {
    "ExecuteTime": {
     "end_time": "2024-10-25T15:19:09.815112Z",
     "start_time": "2024-10-25T15:19:09.794680Z"
    }
   },
   "cell_type": "code",
   "source": [
    "def evaluate_chatbot(ground_truth_data, style, embedding_type, search_method, llm_name):\n",
    "\tdb_handler = DBHandler(org_id=f'maccabi_{embedding_type}', user_id='evaluator', search_method=search_method)\n",
    "\tevaluator = Evaluator(db_handler, style=style, llm_model_name=llm_name, embedding_model_name=embedding_type)\n",
    "\tresults = evaluator.evaluate(ground_truth_data)\n",
    "\tresults['style'] = style if style != '' else 'neutral'\n",
    "\tresults['embedding_type'] = embedding_type\n",
    "\tresults['search_method'] = search_method\n",
    "\tresults['llm_name'] = llm_name\n",
    "\treturn results"
   ],
   "id": "c115af7236ff8243",
   "outputs": [],
   "execution_count": 3
  },
  {
   "metadata": {},
   "cell_type": "markdown",
   "source": [
    "Evaluating the chatbot's answers with the ground truth data. Various configurations are tested:\n",
    "1. 3 llms\n",
    "2. 3 embedding types\n",
    "3. 2 search methods\n",
    "4. 5 styles"
   ],
   "id": "9d05a73ad7cd58b1"
  },
  {
   "metadata": {
    "ExecuteTime": {
     "end_time": "2024-10-25T15:19:17.835822Z",
     "start_time": "2024-10-25T15:19:09.818028Z"
    }
   },
   "cell_type": "code",
   "source": [
    "styles = ['', 'kids', 'elderly', 'emoji', 'rhymes']  # empty string means no style\n",
    "embedding_types = ['emb1',  # models/text-embedding-004\n",
    "\t\t\t\t   'emb2',  # models/embedding-001\n",
    "\t\t\t\t   'emb3']  # from HW1: SentenceTransformer('all-MiniLM-L6-v2')\n",
    "llm_names = ['gemini-1.5-flash',\n",
    "\t\t\t 'meta-llama/Meta-Llama-3.1-8B-Instruct-Turbo',\n",
    "\t\t\t 'mistralai/Mistral-7B-Instruct-v0.1']\n",
    "search_methods = ['approximate', 'exact']\n",
    "\n",
    "full_results = pd.DataFrame(\n",
    "\tcolumns=['style', 'embedding_type', 'search_method', 'llm_name', 'question', 'true_answer', 'chatbot_answer',\n",
    "\t\t\t 'cosine_similarity', 'correctness_score', 'faithfulness_score', 'retriever_scores'])\n",
    "\n",
    "for style in styles:\n",
    "\tstr_style = style if style != '' else 'neutral'\n",
    "\tprint(f\"Style: {str_style}\", end=\" | \")\n",
    "\tfor embedding_type in embedding_types:\n",
    "\t\tground_truth_data = get_ground_truth_data(embedding_type)\n",
    "\t\tprint(f\"embedding_type: {embedding_type}\", end=\" | \")\n",
    "\t\tfor llm_name in llm_names:\n",
    "\t\t\tprint(f\"llm_name: {llm_name}\", end=\" | \")\n",
    "\t\t\tfor search_method in search_methods:\n",
    "\t\t\t\tprint(f\"search_method: {search_method} | \", end=\" Status: \")\n",
    "\t\t\t\ttry:\n",
    "\t\t\t\t\tresults = evaluate_chatbot(ground_truth_data, style, embedding_type, search_method, llm_name)\n",
    "\t\t\t\t\tfull_results = pd.concat([full_results, results], ignore_index=True)\n",
    "\t\t\t\t\tfull_results.to_csv(\"full_results.csv\", index=False)  #re-save after each iteration to be safe :)\n",
    "\t\t\t\t\tprint(\"Done\")\n",
    "\t\t\t\texcept Exception as e:\n",
    "\t\t\t\t\tprint(f\"Configuration failed\")\n",
    "\t\t\t\t\tprint(f\"Error content: {e}\", end=\"\\n\\n\")\n",
    "\t\t\t\t\tcontinue"
   ],
   "id": "130a1b2518ca9041",
   "outputs": [
    {
     "name": "stdout",
     "output_type": "stream",
     "text": [
      "Style: neutral | embedding_type: emb1 | llm_name: gemini-1.5-flash | search_method: approximate |  Status: "
     ]
    },
    {
     "name": "stderr",
     "output_type": "stream",
     "text": [
      "/home/student/finalProject/backend/pipeline/Chatbot.py:212: UserWarning: No relevant context found in the database\n",
      "  warnings.warn('No relevant context found in the database')\n",
      "/home/student/finalProject/backend/pipeline/Chatbot.py:212: UserWarning: No relevant context found in the database\n",
      "  warnings.warn('No relevant context found in the database')\n"
     ]
    },
    {
     "name": "stdout",
     "output_type": "stream",
     "text": [
      "Configuration failed\n",
      "Error content: Error in embedding the text: Invalid input: 'content' argument must not be empty. Please provide a non-empty value.\n",
      "\n",
      "search_method: exact |  Status: "
     ]
    },
    {
     "ename": "KeyboardInterrupt",
     "evalue": "",
     "output_type": "error",
     "traceback": [
      "\u001B[0;31m---------------------------------------------------------------------------\u001B[0m",
      "\u001B[0;31mKeyboardInterrupt\u001B[0m                         Traceback (most recent call last)",
      "Cell \u001B[0;32mIn[4], line 25\u001B[0m\n\u001B[1;32m     23\u001B[0m \u001B[38;5;28mprint\u001B[39m(\u001B[38;5;124mf\u001B[39m\u001B[38;5;124m\"\u001B[39m\u001B[38;5;124msearch_method: \u001B[39m\u001B[38;5;132;01m{\u001B[39;00msearch_method\u001B[38;5;132;01m}\u001B[39;00m\u001B[38;5;124m | \u001B[39m\u001B[38;5;124m\"\u001B[39m, end\u001B[38;5;241m=\u001B[39m\u001B[38;5;124m\"\u001B[39m\u001B[38;5;124m Status: \u001B[39m\u001B[38;5;124m\"\u001B[39m)\n\u001B[1;32m     24\u001B[0m \u001B[38;5;28;01mtry\u001B[39;00m:\n\u001B[0;32m---> 25\u001B[0m \tresults \u001B[38;5;241m=\u001B[39m \u001B[43mevaluate_chatbot\u001B[49m\u001B[43m(\u001B[49m\u001B[43mground_truth_data\u001B[49m\u001B[43m,\u001B[49m\u001B[43m \u001B[49m\u001B[43mstyle\u001B[49m\u001B[43m,\u001B[49m\u001B[43m \u001B[49m\u001B[43membedding_type\u001B[49m\u001B[43m,\u001B[49m\u001B[43m \u001B[49m\u001B[43msearch_method\u001B[49m\u001B[43m,\u001B[49m\u001B[43m \u001B[49m\u001B[43mllm_name\u001B[49m\u001B[43m)\u001B[49m\n\u001B[1;32m     26\u001B[0m \tfull_results \u001B[38;5;241m=\u001B[39m pd\u001B[38;5;241m.\u001B[39mconcat([full_results, results], ignore_index\u001B[38;5;241m=\u001B[39m\u001B[38;5;28;01mTrue\u001B[39;00m)\n\u001B[1;32m     27\u001B[0m \tfull_results\u001B[38;5;241m.\u001B[39mto_csv(\u001B[38;5;124m\"\u001B[39m\u001B[38;5;124mfull_results.csv\u001B[39m\u001B[38;5;124m\"\u001B[39m, index\u001B[38;5;241m=\u001B[39m\u001B[38;5;28;01mFalse\u001B[39;00m)  \u001B[38;5;66;03m#re-save after each iteration to be safe :)\u001B[39;00m\n",
      "Cell \u001B[0;32mIn[3], line 4\u001B[0m, in \u001B[0;36mevaluate_chatbot\u001B[0;34m(ground_truth_data, style, embedding_type, search_method, llm_name)\u001B[0m\n\u001B[1;32m      2\u001B[0m db_handler \u001B[38;5;241m=\u001B[39m DBHandler(org_id\u001B[38;5;241m=\u001B[39m\u001B[38;5;124mf\u001B[39m\u001B[38;5;124m'\u001B[39m\u001B[38;5;124mmaccabi_\u001B[39m\u001B[38;5;132;01m{\u001B[39;00membedding_type\u001B[38;5;132;01m}\u001B[39;00m\u001B[38;5;124m'\u001B[39m, user_id\u001B[38;5;241m=\u001B[39m\u001B[38;5;124m'\u001B[39m\u001B[38;5;124mevaluator\u001B[39m\u001B[38;5;124m'\u001B[39m, search_method\u001B[38;5;241m=\u001B[39msearch_method)\n\u001B[1;32m      3\u001B[0m evaluator \u001B[38;5;241m=\u001B[39m Evaluator(db_handler, style\u001B[38;5;241m=\u001B[39mstyle, llm_model_name\u001B[38;5;241m=\u001B[39mllm_name, embedding_model_name\u001B[38;5;241m=\u001B[39membedding_type)\n\u001B[0;32m----> 4\u001B[0m results \u001B[38;5;241m=\u001B[39m \u001B[43mevaluator\u001B[49m\u001B[38;5;241;43m.\u001B[39;49m\u001B[43mevaluate\u001B[49m\u001B[43m(\u001B[49m\u001B[43mground_truth_data\u001B[49m\u001B[43m)\u001B[49m\n\u001B[1;32m      5\u001B[0m results[\u001B[38;5;124m'\u001B[39m\u001B[38;5;124mstyle\u001B[39m\u001B[38;5;124m'\u001B[39m] \u001B[38;5;241m=\u001B[39m style \u001B[38;5;28;01mif\u001B[39;00m style \u001B[38;5;241m!=\u001B[39m \u001B[38;5;124m'\u001B[39m\u001B[38;5;124m'\u001B[39m \u001B[38;5;28;01melse\u001B[39;00m \u001B[38;5;124m'\u001B[39m\u001B[38;5;124mneutral\u001B[39m\u001B[38;5;124m'\u001B[39m\n\u001B[1;32m      6\u001B[0m results[\u001B[38;5;124m'\u001B[39m\u001B[38;5;124membedding_type\u001B[39m\u001B[38;5;124m'\u001B[39m] \u001B[38;5;241m=\u001B[39m embedding_type\n",
      "File \u001B[0;32m~/finalProject/backend/evaluation/Evaluator.py:24\u001B[0m, in \u001B[0;36mEvaluator.evaluate\u001B[0;34m(self, ground_truth_data)\u001B[0m\n\u001B[1;32m     21\u001B[0m results \u001B[38;5;241m=\u001B[39m pd\u001B[38;5;241m.\u001B[39mDataFrame(columns\u001B[38;5;241m=\u001B[39m[\u001B[38;5;124m'\u001B[39m\u001B[38;5;124mquestion\u001B[39m\u001B[38;5;124m'\u001B[39m, \u001B[38;5;124m'\u001B[39m\u001B[38;5;124mtrue_answer\u001B[39m\u001B[38;5;124m'\u001B[39m, \u001B[38;5;124m'\u001B[39m\u001B[38;5;124mchatbot_answer\u001B[39m\u001B[38;5;124m'\u001B[39m, \u001B[38;5;124m'\u001B[39m\u001B[38;5;124mcosine_similarity\u001B[39m\u001B[38;5;124m'\u001B[39m,\n\u001B[1;32m     22\u001B[0m                                 \u001B[38;5;124m'\u001B[39m\u001B[38;5;124mcorrectness_score\u001B[39m\u001B[38;5;124m'\u001B[39m, \u001B[38;5;124m'\u001B[39m\u001B[38;5;124mfaithfulness_score\u001B[39m\u001B[38;5;124m'\u001B[39m, \u001B[38;5;124m'\u001B[39m\u001B[38;5;124mretriever_scores\u001B[39m\u001B[38;5;124m'\u001B[39m])\n\u001B[1;32m     23\u001B[0m \u001B[38;5;28;01mfor\u001B[39;00m question, true_answer, rel_chunks_ids \u001B[38;5;129;01min\u001B[39;00m ground_truth_data:\n\u001B[0;32m---> 24\u001B[0m     chatbot_answer \u001B[38;5;241m=\u001B[39m \u001B[38;5;28;43mself\u001B[39;49m\u001B[38;5;241;43m.\u001B[39;49m\u001B[43mchatbot\u001B[49m\u001B[38;5;241;43m.\u001B[39;49m\u001B[43manswer_question\u001B[49m\u001B[43m(\u001B[49m\u001B[43mquestion\u001B[49m\u001B[43m)\u001B[49m\n\u001B[1;32m     25\u001B[0m     result \u001B[38;5;241m=\u001B[39m \u001B[38;5;28mself\u001B[39m\u001B[38;5;241m.\u001B[39mcompare_answers(question, true_answer, chatbot_answer, rel_chunks_ids)\n\u001B[1;32m     26\u001B[0m     result[\u001B[38;5;124m'\u001B[39m\u001B[38;5;124mquestion\u001B[39m\u001B[38;5;124m'\u001B[39m] \u001B[38;5;241m=\u001B[39m question\n",
      "File \u001B[0;32m~/finalProject/backend/pipeline/Chatbot.py:224\u001B[0m, in \u001B[0;36mChatbot.answer_question\u001B[0;34m(self, query)\u001B[0m\n\u001B[1;32m    216\u001B[0m \u001B[38;5;28;01mdef\u001B[39;00m \u001B[38;5;21manswer_question\u001B[39m(\u001B[38;5;28mself\u001B[39m, query: \u001B[38;5;28mstr\u001B[39m) \u001B[38;5;241m-\u001B[39m\u001B[38;5;241m>\u001B[39m \u001B[38;5;28mstr\u001B[39m:\n\u001B[1;32m    217\u001B[0m \u001B[38;5;250m\t\u001B[39m\u001B[38;5;124;03m\"\"\"\u001B[39;00m\n\u001B[1;32m    218\u001B[0m \u001B[38;5;124;03m\tRun a user's question through the RAG pipeline and return the answer\u001B[39;00m\n\u001B[1;32m    219\u001B[0m \u001B[38;5;124;03m\tArgs:\u001B[39;00m\n\u001B[0;32m   (...)\u001B[0m\n\u001B[1;32m    222\u001B[0m \u001B[38;5;124;03m\t\tstr: The answer to the user's question\u001B[39;00m\n\u001B[1;32m    223\u001B[0m \u001B[38;5;124;03m\t\"\"\"\u001B[39;00m\n\u001B[0;32m--> 224\u001B[0m \trephrased_query \u001B[38;5;241m=\u001B[39m \u001B[38;5;28;43mself\u001B[39;49m\u001B[38;5;241;43m.\u001B[39;49m\u001B[43mrephrase_question\u001B[49m\u001B[43m(\u001B[49m\u001B[43mquery\u001B[49m\u001B[43m)\u001B[49m\n\u001B[1;32m    225\u001B[0m \tcontext \u001B[38;5;241m=\u001B[39m \u001B[38;5;28mself\u001B[39m\u001B[38;5;241m.\u001B[39mget_relevant_context(rephrased_query)\n\u001B[1;32m    226\u001B[0m \trag_prompt \u001B[38;5;241m=\u001B[39m \u001B[38;5;124mf\u001B[39m\u001B[38;5;124m\"\"\"\u001B[39m\n\u001B[1;32m    227\u001B[0m \u001B[38;5;124m\t\t\t\tYou are a health care provider\u001B[39m\u001B[38;5;124m'\u001B[39m\u001B[38;5;124ms assistant.\u001B[39m\n\u001B[1;32m    228\u001B[0m \u001B[38;5;124m\t\t\t\tAnswer the user\u001B[39m\u001B[38;5;124m'\u001B[39m\u001B[38;5;124ms question based solely on the provided information.\u001B[39m\n\u001B[0;32m   (...)\u001B[0m\n\u001B[1;32m    234\u001B[0m \u001B[38;5;124m\t\t\t\t\u001B[39m\u001B[38;5;132;01m{\u001B[39;00m\u001B[38;5;28mself\u001B[39m\u001B[38;5;241m.\u001B[39mstyle_instructions\u001B[38;5;132;01m}\u001B[39;00m\n\u001B[1;32m    235\u001B[0m \u001B[38;5;124m\t\t\t\t\u001B[39m\u001B[38;5;124m\"\"\"\u001B[39m\n",
      "File \u001B[0;32m~/finalProject/backend/pipeline/Chatbot.py:134\u001B[0m, in \u001B[0;36mChatbot.rephrase_question\u001B[0;34m(self, query, history_length)\u001B[0m\n\u001B[1;32m    131\u001B[0m \u001B[38;5;28;01mif\u001B[39;00m \u001B[38;5;129;01mnot\u001B[39;00m query \u001B[38;5;129;01mor\u001B[39;00m \u001B[38;5;129;01mnot\u001B[39;00m \u001B[38;5;28misinstance\u001B[39m(query, \u001B[38;5;28mstr\u001B[39m):\n\u001B[1;32m    132\u001B[0m \t\u001B[38;5;28;01mraise\u001B[39;00m \u001B[38;5;167;01mValueError\u001B[39;00m(\u001B[38;5;124m'\u001B[39m\u001B[38;5;124mQuery must be a non-empty string\u001B[39m\u001B[38;5;124m'\u001B[39m)\n\u001B[0;32m--> 134\u001B[0m chat_history \u001B[38;5;241m=\u001B[39m \u001B[38;5;28;43mself\u001B[39;49m\u001B[38;5;241;43m.\u001B[39;49m\u001B[43mdb_handler\u001B[49m\u001B[38;5;241;43m.\u001B[39;49m\u001B[43mget_history\u001B[49m\u001B[43m(\u001B[49m\u001B[43m)\u001B[49m\n\u001B[1;32m    135\u001B[0m chat_history\u001B[38;5;241m.\u001B[39mappend(\u001B[38;5;124mf\u001B[39m\u001B[38;5;124m'\u001B[39m\u001B[38;5;124muser: \u001B[39m\u001B[38;5;132;01m{\u001B[39;00mquery\u001B[38;5;132;01m}\u001B[39;00m\u001B[38;5;124m'\u001B[39m)\n\u001B[1;32m    137\u001B[0m \u001B[38;5;66;03m# Only use the last 5 messages in the chat history to keep the context relevant\u001B[39;00m\n",
      "File \u001B[0;32m~/finalProject/backend/pipeline/DBHandler.py:61\u001B[0m, in \u001B[0;36mDBHandler.get_history\u001B[0;34m(self)\u001B[0m\n\u001B[1;32m     58\u001B[0m \t\u001B[38;5;28;01mraise\u001B[39;00m \u001B[38;5;167;01mRuntimeError\u001B[39;00m(\u001B[38;5;124mf\u001B[39m\u001B[38;5;124m'\u001B[39m\u001B[38;5;124mAn error occurred while trying to get the chat history: \u001B[39m\u001B[38;5;132;01m{\u001B[39;00me\u001B[38;5;132;01m}\u001B[39;00m\u001B[38;5;124m'\u001B[39m)\n\u001B[1;32m     60\u001B[0m \u001B[38;5;66;03m# Format the messages in the desired 'role: content' format\u001B[39;00m\n\u001B[0;32m---> 61\u001B[0m formatted_messages \u001B[38;5;241m=\u001B[39m [\u001B[38;5;124mf\u001B[39m\u001B[38;5;124m\"\u001B[39m\u001B[38;5;132;01m{\u001B[39;00mmessage[\u001B[38;5;124m'\u001B[39m\u001B[38;5;124mrole\u001B[39m\u001B[38;5;124m'\u001B[39m]\u001B[38;5;132;01m}\u001B[39;00m\u001B[38;5;124m: \u001B[39m\u001B[38;5;132;01m{\u001B[39;00mmessage[\u001B[38;5;124m'\u001B[39m\u001B[38;5;124mcontent\u001B[39m\u001B[38;5;124m'\u001B[39m]\u001B[38;5;132;01m}\u001B[39;00m\u001B[38;5;124m\"\u001B[39m \u001B[38;5;28;01mfor\u001B[39;00m message \u001B[38;5;129;01min\u001B[39;00m messages]\n\u001B[1;32m     62\u001B[0m \u001B[38;5;28;01mreturn\u001B[39;00m formatted_messages\n",
      "File \u001B[0;32m~/finalProject/backend/pipeline/DBHandler.py:61\u001B[0m, in \u001B[0;36m<listcomp>\u001B[0;34m(.0)\u001B[0m\n\u001B[1;32m     58\u001B[0m \t\u001B[38;5;28;01mraise\u001B[39;00m \u001B[38;5;167;01mRuntimeError\u001B[39;00m(\u001B[38;5;124mf\u001B[39m\u001B[38;5;124m'\u001B[39m\u001B[38;5;124mAn error occurred while trying to get the chat history: \u001B[39m\u001B[38;5;132;01m{\u001B[39;00me\u001B[38;5;132;01m}\u001B[39;00m\u001B[38;5;124m'\u001B[39m)\n\u001B[1;32m     60\u001B[0m \u001B[38;5;66;03m# Format the messages in the desired 'role: content' format\u001B[39;00m\n\u001B[0;32m---> 61\u001B[0m formatted_messages \u001B[38;5;241m=\u001B[39m [\u001B[38;5;124mf\u001B[39m\u001B[38;5;124m\"\u001B[39m\u001B[38;5;132;01m{\u001B[39;00mmessage[\u001B[38;5;124m'\u001B[39m\u001B[38;5;124mrole\u001B[39m\u001B[38;5;124m'\u001B[39m]\u001B[38;5;132;01m}\u001B[39;00m\u001B[38;5;124m: \u001B[39m\u001B[38;5;132;01m{\u001B[39;00mmessage[\u001B[38;5;124m'\u001B[39m\u001B[38;5;124mcontent\u001B[39m\u001B[38;5;124m'\u001B[39m]\u001B[38;5;132;01m}\u001B[39;00m\u001B[38;5;124m\"\u001B[39m \u001B[38;5;28;01mfor\u001B[39;00m message \u001B[38;5;129;01min\u001B[39;00m messages]\n\u001B[1;32m     62\u001B[0m \u001B[38;5;28;01mreturn\u001B[39;00m formatted_messages\n",
      "File \u001B[0;32m/anaconda/envs/finalProject/lib/python3.10/site-packages/pymongo/synchronous/cursor.py:1281\u001B[0m, in \u001B[0;36mCursor.__next__\u001B[0;34m(self)\u001B[0m\n\u001B[1;32m   1280\u001B[0m \u001B[38;5;28;01mdef\u001B[39;00m \u001B[38;5;21m__next__\u001B[39m(\u001B[38;5;28mself\u001B[39m) \u001B[38;5;241m-\u001B[39m\u001B[38;5;241m>\u001B[39m _DocumentType:\n\u001B[0;32m-> 1281\u001B[0m     \u001B[38;5;28;01mreturn\u001B[39;00m \u001B[38;5;28;43mself\u001B[39;49m\u001B[38;5;241;43m.\u001B[39;49m\u001B[43mnext\u001B[49m\u001B[43m(\u001B[49m\u001B[43m)\u001B[49m\n",
      "File \u001B[0;32m/anaconda/envs/finalProject/lib/python3.10/site-packages/pymongo/synchronous/cursor.py:1257\u001B[0m, in \u001B[0;36mCursor.next\u001B[0;34m(self)\u001B[0m\n\u001B[1;32m   1255\u001B[0m \u001B[38;5;28;01mif\u001B[39;00m \u001B[38;5;28mself\u001B[39m\u001B[38;5;241m.\u001B[39m_empty:\n\u001B[1;32m   1256\u001B[0m     \u001B[38;5;28;01mraise\u001B[39;00m \u001B[38;5;167;01mStopIteration\u001B[39;00m\n\u001B[0;32m-> 1257\u001B[0m \u001B[38;5;28;01mif\u001B[39;00m \u001B[38;5;28mlen\u001B[39m(\u001B[38;5;28mself\u001B[39m\u001B[38;5;241m.\u001B[39m_data) \u001B[38;5;129;01mor\u001B[39;00m \u001B[38;5;28;43mself\u001B[39;49m\u001B[38;5;241;43m.\u001B[39;49m\u001B[43m_refresh\u001B[49m\u001B[43m(\u001B[49m\u001B[43m)\u001B[49m:\n\u001B[1;32m   1258\u001B[0m     \u001B[38;5;28;01mreturn\u001B[39;00m \u001B[38;5;28mself\u001B[39m\u001B[38;5;241m.\u001B[39m_data\u001B[38;5;241m.\u001B[39mpopleft()\n\u001B[1;32m   1259\u001B[0m \u001B[38;5;28;01melse\u001B[39;00m:\n",
      "File \u001B[0;32m/anaconda/envs/finalProject/lib/python3.10/site-packages/pymongo/synchronous/cursor.py:1205\u001B[0m, in \u001B[0;36mCursor._refresh\u001B[0;34m(self)\u001B[0m\n\u001B[1;32m   1183\u001B[0m         \u001B[38;5;28;01mraise\u001B[39;00m InvalidOperation(\n\u001B[1;32m   1184\u001B[0m             \u001B[38;5;124m\"\u001B[39m\u001B[38;5;124mPassing a \u001B[39m\u001B[38;5;124m'\u001B[39m\u001B[38;5;124mhint\u001B[39m\u001B[38;5;124m'\u001B[39m\u001B[38;5;124m is required when using the min/max query\u001B[39m\u001B[38;5;124m\"\u001B[39m\n\u001B[1;32m   1185\u001B[0m             \u001B[38;5;124m\"\u001B[39m\u001B[38;5;124m option to ensure the query utilizes the correct index\u001B[39m\u001B[38;5;124m\"\u001B[39m\n\u001B[1;32m   1186\u001B[0m         )\n\u001B[1;32m   1187\u001B[0m     q \u001B[38;5;241m=\u001B[39m \u001B[38;5;28mself\u001B[39m\u001B[38;5;241m.\u001B[39m_query_class(\n\u001B[1;32m   1188\u001B[0m         \u001B[38;5;28mself\u001B[39m\u001B[38;5;241m.\u001B[39m_query_flags,\n\u001B[1;32m   1189\u001B[0m         \u001B[38;5;28mself\u001B[39m\u001B[38;5;241m.\u001B[39m_collection\u001B[38;5;241m.\u001B[39mdatabase\u001B[38;5;241m.\u001B[39mname,\n\u001B[0;32m   (...)\u001B[0m\n\u001B[1;32m   1203\u001B[0m         \u001B[38;5;28mself\u001B[39m\u001B[38;5;241m.\u001B[39m_exhaust,\n\u001B[1;32m   1204\u001B[0m     )\n\u001B[0;32m-> 1205\u001B[0m     \u001B[38;5;28;43mself\u001B[39;49m\u001B[38;5;241;43m.\u001B[39;49m\u001B[43m_send_message\u001B[49m\u001B[43m(\u001B[49m\u001B[43mq\u001B[49m\u001B[43m)\u001B[49m\n\u001B[1;32m   1206\u001B[0m \u001B[38;5;28;01melif\u001B[39;00m \u001B[38;5;28mself\u001B[39m\u001B[38;5;241m.\u001B[39m_id:  \u001B[38;5;66;03m# Get More\u001B[39;00m\n\u001B[1;32m   1207\u001B[0m     \u001B[38;5;28;01mif\u001B[39;00m \u001B[38;5;28mself\u001B[39m\u001B[38;5;241m.\u001B[39m_limit:\n",
      "File \u001B[0;32m/anaconda/envs/finalProject/lib/python3.10/site-packages/pymongo/synchronous/cursor.py:1100\u001B[0m, in \u001B[0;36mCursor._send_message\u001B[0;34m(self, operation)\u001B[0m\n\u001B[1;32m   1097\u001B[0m     \u001B[38;5;28;01mraise\u001B[39;00m InvalidOperation(\u001B[38;5;124m\"\u001B[39m\u001B[38;5;124mexhaust cursors do not support auto encryption\u001B[39m\u001B[38;5;124m\"\u001B[39m)\n\u001B[1;32m   1099\u001B[0m \u001B[38;5;28;01mtry\u001B[39;00m:\n\u001B[0;32m-> 1100\u001B[0m     response \u001B[38;5;241m=\u001B[39m \u001B[43mclient\u001B[49m\u001B[38;5;241;43m.\u001B[39;49m\u001B[43m_run_operation\u001B[49m\u001B[43m(\u001B[49m\n\u001B[1;32m   1101\u001B[0m \u001B[43m        \u001B[49m\u001B[43moperation\u001B[49m\u001B[43m,\u001B[49m\u001B[43m \u001B[49m\u001B[38;5;28;43mself\u001B[39;49m\u001B[38;5;241;43m.\u001B[39;49m\u001B[43m_unpack_response\u001B[49m\u001B[43m,\u001B[49m\u001B[43m \u001B[49m\u001B[43maddress\u001B[49m\u001B[38;5;241;43m=\u001B[39;49m\u001B[38;5;28;43mself\u001B[39;49m\u001B[38;5;241;43m.\u001B[39;49m\u001B[43m_address\u001B[49m\n\u001B[1;32m   1102\u001B[0m \u001B[43m    \u001B[49m\u001B[43m)\u001B[49m\n\u001B[1;32m   1103\u001B[0m \u001B[38;5;28;01mexcept\u001B[39;00m OperationFailure \u001B[38;5;28;01mas\u001B[39;00m exc:\n\u001B[1;32m   1104\u001B[0m     \u001B[38;5;28;01mif\u001B[39;00m exc\u001B[38;5;241m.\u001B[39mcode \u001B[38;5;129;01min\u001B[39;00m _CURSOR_CLOSED_ERRORS \u001B[38;5;129;01mor\u001B[39;00m \u001B[38;5;28mself\u001B[39m\u001B[38;5;241m.\u001B[39m_exhaust:\n\u001B[1;32m   1105\u001B[0m         \u001B[38;5;66;03m# Don't send killCursors because the cursor is already closed.\u001B[39;00m\n",
      "File \u001B[0;32m/anaconda/envs/finalProject/lib/python3.10/site-packages/pymongo/_csot.py:119\u001B[0m, in \u001B[0;36mapply.<locals>.csot_wrapper\u001B[0;34m(self, *args, **kwargs)\u001B[0m\n\u001B[1;32m    117\u001B[0m         \u001B[38;5;28;01mwith\u001B[39;00m _TimeoutContext(timeout):\n\u001B[1;32m    118\u001B[0m             \u001B[38;5;28;01mreturn\u001B[39;00m func(\u001B[38;5;28mself\u001B[39m, \u001B[38;5;241m*\u001B[39margs, \u001B[38;5;241m*\u001B[39m\u001B[38;5;241m*\u001B[39mkwargs)\n\u001B[0;32m--> 119\u001B[0m \u001B[38;5;28;01mreturn\u001B[39;00m \u001B[43mfunc\u001B[49m\u001B[43m(\u001B[49m\u001B[38;5;28;43mself\u001B[39;49m\u001B[43m,\u001B[49m\u001B[43m \u001B[49m\u001B[38;5;241;43m*\u001B[39;49m\u001B[43margs\u001B[49m\u001B[43m,\u001B[49m\u001B[43m \u001B[49m\u001B[38;5;241;43m*\u001B[39;49m\u001B[38;5;241;43m*\u001B[39;49m\u001B[43mkwargs\u001B[49m\u001B[43m)\u001B[49m\n",
      "File \u001B[0;32m/anaconda/envs/finalProject/lib/python3.10/site-packages/pymongo/synchronous/mongo_client.py:1754\u001B[0m, in \u001B[0;36mMongoClient._run_operation\u001B[0;34m(self, operation, unpack_res, address)\u001B[0m\n\u001B[1;32m   1744\u001B[0m     operation\u001B[38;5;241m.\u001B[39mreset()  \u001B[38;5;66;03m# Reset op in case of retry.\u001B[39;00m\n\u001B[1;32m   1745\u001B[0m     \u001B[38;5;28;01mreturn\u001B[39;00m server\u001B[38;5;241m.\u001B[39mrun_operation(\n\u001B[1;32m   1746\u001B[0m         conn,\n\u001B[1;32m   1747\u001B[0m         operation,\n\u001B[0;32m   (...)\u001B[0m\n\u001B[1;32m   1751\u001B[0m         \u001B[38;5;28mself\u001B[39m,\n\u001B[1;32m   1752\u001B[0m     )\n\u001B[0;32m-> 1754\u001B[0m \u001B[38;5;28;01mreturn\u001B[39;00m \u001B[38;5;28;43mself\u001B[39;49m\u001B[38;5;241;43m.\u001B[39;49m\u001B[43m_retryable_read\u001B[49m\u001B[43m(\u001B[49m\n\u001B[1;32m   1755\u001B[0m \u001B[43m    \u001B[49m\u001B[43m_cmd\u001B[49m\u001B[43m,\u001B[49m\n\u001B[1;32m   1756\u001B[0m \u001B[43m    \u001B[49m\u001B[43moperation\u001B[49m\u001B[38;5;241;43m.\u001B[39;49m\u001B[43mread_preference\u001B[49m\u001B[43m,\u001B[49m\n\u001B[1;32m   1757\u001B[0m \u001B[43m    \u001B[49m\u001B[43moperation\u001B[49m\u001B[38;5;241;43m.\u001B[39;49m\u001B[43msession\u001B[49m\u001B[43m,\u001B[49m\u001B[43m  \u001B[49m\u001B[38;5;66;43;03m# type: ignore[arg-type]\u001B[39;49;00m\n\u001B[1;32m   1758\u001B[0m \u001B[43m    \u001B[49m\u001B[43maddress\u001B[49m\u001B[38;5;241;43m=\u001B[39;49m\u001B[43maddress\u001B[49m\u001B[43m,\u001B[49m\n\u001B[1;32m   1759\u001B[0m \u001B[43m    \u001B[49m\u001B[43mretryable\u001B[49m\u001B[38;5;241;43m=\u001B[39;49m\u001B[38;5;28;43misinstance\u001B[39;49m\u001B[43m(\u001B[49m\u001B[43moperation\u001B[49m\u001B[43m,\u001B[49m\u001B[43m \u001B[49m\u001B[43m_Query\u001B[49m\u001B[43m)\u001B[49m\u001B[43m,\u001B[49m\n\u001B[1;32m   1760\u001B[0m \u001B[43m    \u001B[49m\u001B[43moperation\u001B[49m\u001B[38;5;241;43m=\u001B[39;49m\u001B[43moperation\u001B[49m\u001B[38;5;241;43m.\u001B[39;49m\u001B[43mname\u001B[49m\u001B[43m,\u001B[49m\n\u001B[1;32m   1761\u001B[0m \u001B[43m\u001B[49m\u001B[43m)\u001B[49m\n",
      "File \u001B[0;32m/anaconda/envs/finalProject/lib/python3.10/site-packages/pymongo/synchronous/mongo_client.py:1863\u001B[0m, in \u001B[0;36mMongoClient._retryable_read\u001B[0;34m(self, func, read_pref, session, operation, address, retryable, operation_id)\u001B[0m\n\u001B[1;32m   1858\u001B[0m \u001B[38;5;66;03m# Ensure that the client supports retrying on reads and there is no session in\u001B[39;00m\n\u001B[1;32m   1859\u001B[0m \u001B[38;5;66;03m# transaction, otherwise, we will not support retry behavior for this call.\u001B[39;00m\n\u001B[1;32m   1860\u001B[0m retryable \u001B[38;5;241m=\u001B[39m \u001B[38;5;28mbool\u001B[39m(\n\u001B[1;32m   1861\u001B[0m     retryable \u001B[38;5;129;01mand\u001B[39;00m \u001B[38;5;28mself\u001B[39m\u001B[38;5;241m.\u001B[39moptions\u001B[38;5;241m.\u001B[39mretry_reads \u001B[38;5;129;01mand\u001B[39;00m \u001B[38;5;129;01mnot\u001B[39;00m (session \u001B[38;5;129;01mand\u001B[39;00m session\u001B[38;5;241m.\u001B[39min_transaction)\n\u001B[1;32m   1862\u001B[0m )\n\u001B[0;32m-> 1863\u001B[0m \u001B[38;5;28;01mreturn\u001B[39;00m \u001B[38;5;28;43mself\u001B[39;49m\u001B[38;5;241;43m.\u001B[39;49m\u001B[43m_retry_internal\u001B[49m\u001B[43m(\u001B[49m\n\u001B[1;32m   1864\u001B[0m \u001B[43m    \u001B[49m\u001B[43mfunc\u001B[49m\u001B[43m,\u001B[49m\n\u001B[1;32m   1865\u001B[0m \u001B[43m    \u001B[49m\u001B[43msession\u001B[49m\u001B[43m,\u001B[49m\n\u001B[1;32m   1866\u001B[0m \u001B[43m    \u001B[49m\u001B[38;5;28;43;01mNone\u001B[39;49;00m\u001B[43m,\u001B[49m\n\u001B[1;32m   1867\u001B[0m \u001B[43m    \u001B[49m\u001B[43moperation\u001B[49m\u001B[43m,\u001B[49m\n\u001B[1;32m   1868\u001B[0m \u001B[43m    \u001B[49m\u001B[43mis_read\u001B[49m\u001B[38;5;241;43m=\u001B[39;49m\u001B[38;5;28;43;01mTrue\u001B[39;49;00m\u001B[43m,\u001B[49m\n\u001B[1;32m   1869\u001B[0m \u001B[43m    \u001B[49m\u001B[43maddress\u001B[49m\u001B[38;5;241;43m=\u001B[39;49m\u001B[43maddress\u001B[49m\u001B[43m,\u001B[49m\n\u001B[1;32m   1870\u001B[0m \u001B[43m    \u001B[49m\u001B[43mread_pref\u001B[49m\u001B[38;5;241;43m=\u001B[39;49m\u001B[43mread_pref\u001B[49m\u001B[43m,\u001B[49m\n\u001B[1;32m   1871\u001B[0m \u001B[43m    \u001B[49m\u001B[43mretryable\u001B[49m\u001B[38;5;241;43m=\u001B[39;49m\u001B[43mretryable\u001B[49m\u001B[43m,\u001B[49m\n\u001B[1;32m   1872\u001B[0m \u001B[43m    \u001B[49m\u001B[43moperation_id\u001B[49m\u001B[38;5;241;43m=\u001B[39;49m\u001B[43moperation_id\u001B[49m\u001B[43m,\u001B[49m\n\u001B[1;32m   1873\u001B[0m \u001B[43m\u001B[49m\u001B[43m)\u001B[49m\n",
      "File \u001B[0;32m/anaconda/envs/finalProject/lib/python3.10/site-packages/pymongo/_csot.py:119\u001B[0m, in \u001B[0;36mapply.<locals>.csot_wrapper\u001B[0;34m(self, *args, **kwargs)\u001B[0m\n\u001B[1;32m    117\u001B[0m         \u001B[38;5;28;01mwith\u001B[39;00m _TimeoutContext(timeout):\n\u001B[1;32m    118\u001B[0m             \u001B[38;5;28;01mreturn\u001B[39;00m func(\u001B[38;5;28mself\u001B[39m, \u001B[38;5;241m*\u001B[39margs, \u001B[38;5;241m*\u001B[39m\u001B[38;5;241m*\u001B[39mkwargs)\n\u001B[0;32m--> 119\u001B[0m \u001B[38;5;28;01mreturn\u001B[39;00m \u001B[43mfunc\u001B[49m\u001B[43m(\u001B[49m\u001B[38;5;28;43mself\u001B[39;49m\u001B[43m,\u001B[49m\u001B[43m \u001B[49m\u001B[38;5;241;43m*\u001B[39;49m\u001B[43margs\u001B[49m\u001B[43m,\u001B[49m\u001B[43m \u001B[49m\u001B[38;5;241;43m*\u001B[39;49m\u001B[38;5;241;43m*\u001B[39;49m\u001B[43mkwargs\u001B[49m\u001B[43m)\u001B[49m\n",
      "File \u001B[0;32m/anaconda/envs/finalProject/lib/python3.10/site-packages/pymongo/synchronous/mongo_client.py:1830\u001B[0m, in \u001B[0;36mMongoClient._retry_internal\u001B[0;34m(self, func, session, bulk, operation, is_read, address, read_pref, retryable, operation_id)\u001B[0m\n\u001B[1;32m   1793\u001B[0m \u001B[38;5;129m@_csot\u001B[39m\u001B[38;5;241m.\u001B[39mapply\n\u001B[1;32m   1794\u001B[0m \u001B[38;5;28;01mdef\u001B[39;00m \u001B[38;5;21m_retry_internal\u001B[39m(\n\u001B[1;32m   1795\u001B[0m     \u001B[38;5;28mself\u001B[39m,\n\u001B[0;32m   (...)\u001B[0m\n\u001B[1;32m   1804\u001B[0m     operation_id: Optional[\u001B[38;5;28mint\u001B[39m] \u001B[38;5;241m=\u001B[39m \u001B[38;5;28;01mNone\u001B[39;00m,\n\u001B[1;32m   1805\u001B[0m ) \u001B[38;5;241m-\u001B[39m\u001B[38;5;241m>\u001B[39m T:\n\u001B[1;32m   1806\u001B[0m \u001B[38;5;250m    \u001B[39m\u001B[38;5;124;03m\"\"\"Internal retryable helper for all client transactions.\u001B[39;00m\n\u001B[1;32m   1807\u001B[0m \n\u001B[1;32m   1808\u001B[0m \u001B[38;5;124;03m    :param func: Callback function we want to retry\u001B[39;00m\n\u001B[0;32m   (...)\u001B[0m\n\u001B[1;32m   1817\u001B[0m \u001B[38;5;124;03m    :return: Output of the calling func()\u001B[39;00m\n\u001B[1;32m   1818\u001B[0m \u001B[38;5;124;03m    \"\"\"\u001B[39;00m\n\u001B[1;32m   1819\u001B[0m     \u001B[38;5;28;01mreturn\u001B[39;00m \u001B[43m_ClientConnectionRetryable\u001B[49m\u001B[43m(\u001B[49m\n\u001B[1;32m   1820\u001B[0m \u001B[43m        \u001B[49m\u001B[43mmongo_client\u001B[49m\u001B[38;5;241;43m=\u001B[39;49m\u001B[38;5;28;43mself\u001B[39;49m\u001B[43m,\u001B[49m\n\u001B[1;32m   1821\u001B[0m \u001B[43m        \u001B[49m\u001B[43mfunc\u001B[49m\u001B[38;5;241;43m=\u001B[39;49m\u001B[43mfunc\u001B[49m\u001B[43m,\u001B[49m\n\u001B[1;32m   1822\u001B[0m \u001B[43m        \u001B[49m\u001B[43mbulk\u001B[49m\u001B[38;5;241;43m=\u001B[39;49m\u001B[43mbulk\u001B[49m\u001B[43m,\u001B[49m\n\u001B[1;32m   1823\u001B[0m \u001B[43m        \u001B[49m\u001B[43moperation\u001B[49m\u001B[38;5;241;43m=\u001B[39;49m\u001B[43moperation\u001B[49m\u001B[43m,\u001B[49m\n\u001B[1;32m   1824\u001B[0m \u001B[43m        \u001B[49m\u001B[43mis_read\u001B[49m\u001B[38;5;241;43m=\u001B[39;49m\u001B[43mis_read\u001B[49m\u001B[43m,\u001B[49m\n\u001B[1;32m   1825\u001B[0m \u001B[43m        \u001B[49m\u001B[43msession\u001B[49m\u001B[38;5;241;43m=\u001B[39;49m\u001B[43msession\u001B[49m\u001B[43m,\u001B[49m\n\u001B[1;32m   1826\u001B[0m \u001B[43m        \u001B[49m\u001B[43mread_pref\u001B[49m\u001B[38;5;241;43m=\u001B[39;49m\u001B[43mread_pref\u001B[49m\u001B[43m,\u001B[49m\n\u001B[1;32m   1827\u001B[0m \u001B[43m        \u001B[49m\u001B[43maddress\u001B[49m\u001B[38;5;241;43m=\u001B[39;49m\u001B[43maddress\u001B[49m\u001B[43m,\u001B[49m\n\u001B[1;32m   1828\u001B[0m \u001B[43m        \u001B[49m\u001B[43mretryable\u001B[49m\u001B[38;5;241;43m=\u001B[39;49m\u001B[43mretryable\u001B[49m\u001B[43m,\u001B[49m\n\u001B[1;32m   1829\u001B[0m \u001B[43m        \u001B[49m\u001B[43moperation_id\u001B[49m\u001B[38;5;241;43m=\u001B[39;49m\u001B[43moperation_id\u001B[49m\u001B[43m,\u001B[49m\n\u001B[0;32m-> 1830\u001B[0m \u001B[43m    \u001B[49m\u001B[43m)\u001B[49m\u001B[38;5;241;43m.\u001B[39;49m\u001B[43mrun\u001B[49m\u001B[43m(\u001B[49m\u001B[43m)\u001B[49m\n",
      "File \u001B[0;32m/anaconda/envs/finalProject/lib/python3.10/site-packages/pymongo/synchronous/mongo_client.py:2554\u001B[0m, in \u001B[0;36m_ClientConnectionRetryable.run\u001B[0;34m(self)\u001B[0m\n\u001B[1;32m   2552\u001B[0m \u001B[38;5;28mself\u001B[39m\u001B[38;5;241m.\u001B[39m_check_last_error(check_csot\u001B[38;5;241m=\u001B[39m\u001B[38;5;28;01mTrue\u001B[39;00m)\n\u001B[1;32m   2553\u001B[0m \u001B[38;5;28;01mtry\u001B[39;00m:\n\u001B[0;32m-> 2554\u001B[0m     \u001B[38;5;28;01mreturn\u001B[39;00m \u001B[38;5;28;43mself\u001B[39;49m\u001B[38;5;241;43m.\u001B[39;49m\u001B[43m_read\u001B[49m\u001B[43m(\u001B[49m\u001B[43m)\u001B[49m \u001B[38;5;28;01mif\u001B[39;00m \u001B[38;5;28mself\u001B[39m\u001B[38;5;241m.\u001B[39m_is_read \u001B[38;5;28;01melse\u001B[39;00m \u001B[38;5;28mself\u001B[39m\u001B[38;5;241m.\u001B[39m_write()\n\u001B[1;32m   2555\u001B[0m \u001B[38;5;28;01mexcept\u001B[39;00m ServerSelectionTimeoutError:\n\u001B[1;32m   2556\u001B[0m     \u001B[38;5;66;03m# The application may think the write was never attempted\u001B[39;00m\n\u001B[1;32m   2557\u001B[0m     \u001B[38;5;66;03m# if we raise ServerSelectionTimeoutError on the retry\u001B[39;00m\n\u001B[1;32m   2558\u001B[0m     \u001B[38;5;66;03m# attempt. Raise the original exception instead.\u001B[39;00m\n\u001B[1;32m   2559\u001B[0m     \u001B[38;5;28mself\u001B[39m\u001B[38;5;241m.\u001B[39m_check_last_error()\n",
      "File \u001B[0;32m/anaconda/envs/finalProject/lib/python3.10/site-packages/pymongo/synchronous/mongo_client.py:2691\u001B[0m, in \u001B[0;36m_ClientConnectionRetryable._read\u001B[0;34m(self)\u001B[0m\n\u001B[1;32m   2689\u001B[0m \u001B[38;5;28mself\u001B[39m\u001B[38;5;241m.\u001B[39m_server \u001B[38;5;241m=\u001B[39m \u001B[38;5;28mself\u001B[39m\u001B[38;5;241m.\u001B[39m_get_server()\n\u001B[1;32m   2690\u001B[0m \u001B[38;5;28;01massert\u001B[39;00m \u001B[38;5;28mself\u001B[39m\u001B[38;5;241m.\u001B[39m_read_pref \u001B[38;5;129;01mis\u001B[39;00m \u001B[38;5;129;01mnot\u001B[39;00m \u001B[38;5;28;01mNone\u001B[39;00m, \u001B[38;5;124m\"\u001B[39m\u001B[38;5;124mRead Preference required on read calls\u001B[39m\u001B[38;5;124m\"\u001B[39m\n\u001B[0;32m-> 2691\u001B[0m \u001B[38;5;28;01mwith\u001B[39;00m \u001B[38;5;28mself\u001B[39m\u001B[38;5;241m.\u001B[39m_client\u001B[38;5;241m.\u001B[39m_conn_from_server(\u001B[38;5;28mself\u001B[39m\u001B[38;5;241m.\u001B[39m_read_pref, \u001B[38;5;28mself\u001B[39m\u001B[38;5;241m.\u001B[39m_server, \u001B[38;5;28mself\u001B[39m\u001B[38;5;241m.\u001B[39m_session) \u001B[38;5;28;01mas\u001B[39;00m (\n\u001B[1;32m   2692\u001B[0m     conn,\n\u001B[1;32m   2693\u001B[0m     read_pref,\n\u001B[1;32m   2694\u001B[0m ):\n\u001B[1;32m   2695\u001B[0m     \u001B[38;5;28;01mif\u001B[39;00m \u001B[38;5;28mself\u001B[39m\u001B[38;5;241m.\u001B[39m_retrying \u001B[38;5;129;01mand\u001B[39;00m \u001B[38;5;129;01mnot\u001B[39;00m \u001B[38;5;28mself\u001B[39m\u001B[38;5;241m.\u001B[39m_retryable:\n\u001B[1;32m   2696\u001B[0m         \u001B[38;5;28mself\u001B[39m\u001B[38;5;241m.\u001B[39m_check_last_error()\n",
      "File \u001B[0;32m/anaconda/envs/finalProject/lib/python3.10/contextlib.py:135\u001B[0m, in \u001B[0;36m_GeneratorContextManager.__enter__\u001B[0;34m(self)\u001B[0m\n\u001B[1;32m    133\u001B[0m \u001B[38;5;28;01mdel\u001B[39;00m \u001B[38;5;28mself\u001B[39m\u001B[38;5;241m.\u001B[39margs, \u001B[38;5;28mself\u001B[39m\u001B[38;5;241m.\u001B[39mkwds, \u001B[38;5;28mself\u001B[39m\u001B[38;5;241m.\u001B[39mfunc\n\u001B[1;32m    134\u001B[0m \u001B[38;5;28;01mtry\u001B[39;00m:\n\u001B[0;32m--> 135\u001B[0m     \u001B[38;5;28;01mreturn\u001B[39;00m \u001B[38;5;28;43mnext\u001B[39;49m\u001B[43m(\u001B[49m\u001B[38;5;28;43mself\u001B[39;49m\u001B[38;5;241;43m.\u001B[39;49m\u001B[43mgen\u001B[49m\u001B[43m)\u001B[49m\n\u001B[1;32m    136\u001B[0m \u001B[38;5;28;01mexcept\u001B[39;00m \u001B[38;5;167;01mStopIteration\u001B[39;00m:\n\u001B[1;32m    137\u001B[0m     \u001B[38;5;28;01mraise\u001B[39;00m \u001B[38;5;167;01mRuntimeError\u001B[39;00m(\u001B[38;5;124m\"\u001B[39m\u001B[38;5;124mgenerator didn\u001B[39m\u001B[38;5;124m'\u001B[39m\u001B[38;5;124mt yield\u001B[39m\u001B[38;5;124m\"\u001B[39m) \u001B[38;5;28;01mfrom\u001B[39;00m \u001B[38;5;28;01mNone\u001B[39;00m\n",
      "File \u001B[0;32m/anaconda/envs/finalProject/lib/python3.10/site-packages/pymongo/synchronous/mongo_client.py:1683\u001B[0m, in \u001B[0;36mMongoClient._conn_from_server\u001B[0;34m(self, read_preference, server, session)\u001B[0m\n\u001B[1;32m   1674\u001B[0m \u001B[38;5;66;03m# Get a connection for a server matching the read preference, and yield\u001B[39;00m\n\u001B[1;32m   1675\u001B[0m \u001B[38;5;66;03m# conn with the effective read preference. The Server Selection\u001B[39;00m\n\u001B[1;32m   1676\u001B[0m \u001B[38;5;66;03m# Spec says not to send any $readPreference to standalones and to\u001B[39;00m\n\u001B[0;32m   (...)\u001B[0m\n\u001B[1;32m   1680\u001B[0m \u001B[38;5;66;03m# NOTE: We already opened the Topology when selecting a server so there's no need\u001B[39;00m\n\u001B[1;32m   1681\u001B[0m \u001B[38;5;66;03m# to call _get_topology() again.\u001B[39;00m\n\u001B[1;32m   1682\u001B[0m single \u001B[38;5;241m=\u001B[39m \u001B[38;5;28mself\u001B[39m\u001B[38;5;241m.\u001B[39m_topology\u001B[38;5;241m.\u001B[39mdescription\u001B[38;5;241m.\u001B[39mtopology_type \u001B[38;5;241m==\u001B[39m TOPOLOGY_TYPE\u001B[38;5;241m.\u001B[39mSingle\n\u001B[0;32m-> 1683\u001B[0m \u001B[38;5;28;01mwith\u001B[39;00m \u001B[38;5;28mself\u001B[39m\u001B[38;5;241m.\u001B[39m_checkout(server, session) \u001B[38;5;28;01mas\u001B[39;00m conn:\n\u001B[1;32m   1684\u001B[0m     \u001B[38;5;28;01mif\u001B[39;00m single:\n\u001B[1;32m   1685\u001B[0m         \u001B[38;5;28;01mif\u001B[39;00m conn\u001B[38;5;241m.\u001B[39mis_repl \u001B[38;5;129;01mand\u001B[39;00m \u001B[38;5;129;01mnot\u001B[39;00m (session \u001B[38;5;129;01mand\u001B[39;00m session\u001B[38;5;241m.\u001B[39min_transaction):\n\u001B[1;32m   1686\u001B[0m             \u001B[38;5;66;03m# Use primary preferred to ensure any repl set member\u001B[39;00m\n\u001B[1;32m   1687\u001B[0m             \u001B[38;5;66;03m# can handle the request.\u001B[39;00m\n",
      "File \u001B[0;32m/anaconda/envs/finalProject/lib/python3.10/contextlib.py:135\u001B[0m, in \u001B[0;36m_GeneratorContextManager.__enter__\u001B[0;34m(self)\u001B[0m\n\u001B[1;32m    133\u001B[0m \u001B[38;5;28;01mdel\u001B[39;00m \u001B[38;5;28mself\u001B[39m\u001B[38;5;241m.\u001B[39margs, \u001B[38;5;28mself\u001B[39m\u001B[38;5;241m.\u001B[39mkwds, \u001B[38;5;28mself\u001B[39m\u001B[38;5;241m.\u001B[39mfunc\n\u001B[1;32m    134\u001B[0m \u001B[38;5;28;01mtry\u001B[39;00m:\n\u001B[0;32m--> 135\u001B[0m     \u001B[38;5;28;01mreturn\u001B[39;00m \u001B[38;5;28;43mnext\u001B[39;49m\u001B[43m(\u001B[49m\u001B[38;5;28;43mself\u001B[39;49m\u001B[38;5;241;43m.\u001B[39;49m\u001B[43mgen\u001B[49m\u001B[43m)\u001B[49m\n\u001B[1;32m    136\u001B[0m \u001B[38;5;28;01mexcept\u001B[39;00m \u001B[38;5;167;01mStopIteration\u001B[39;00m:\n\u001B[1;32m    137\u001B[0m     \u001B[38;5;28;01mraise\u001B[39;00m \u001B[38;5;167;01mRuntimeError\u001B[39;00m(\u001B[38;5;124m\"\u001B[39m\u001B[38;5;124mgenerator didn\u001B[39m\u001B[38;5;124m'\u001B[39m\u001B[38;5;124mt yield\u001B[39m\u001B[38;5;124m\"\u001B[39m) \u001B[38;5;28;01mfrom\u001B[39;00m \u001B[38;5;28;01mNone\u001B[39;00m\n",
      "File \u001B[0;32m/anaconda/envs/finalProject/lib/python3.10/site-packages/pymongo/synchronous/mongo_client.py:1593\u001B[0m, in \u001B[0;36mMongoClient._checkout\u001B[0;34m(self, server, session)\u001B[0m\n\u001B[1;32m   1591\u001B[0m     \u001B[38;5;28;01myield\u001B[39;00m session\u001B[38;5;241m.\u001B[39m_pinned_connection\n\u001B[1;32m   1592\u001B[0m     \u001B[38;5;28;01mreturn\u001B[39;00m\n\u001B[0;32m-> 1593\u001B[0m \u001B[38;5;28;01mwith\u001B[39;00m server\u001B[38;5;241m.\u001B[39mcheckout(handler\u001B[38;5;241m=\u001B[39merr_handler) \u001B[38;5;28;01mas\u001B[39;00m conn:\n\u001B[1;32m   1594\u001B[0m     \u001B[38;5;66;03m# Pin this session to the selected server or connection.\u001B[39;00m\n\u001B[1;32m   1595\u001B[0m     \u001B[38;5;28;01mif\u001B[39;00m (\n\u001B[1;32m   1596\u001B[0m         in_txn\n\u001B[1;32m   1597\u001B[0m         \u001B[38;5;129;01mand\u001B[39;00m session\n\u001B[0;32m   (...)\u001B[0m\n\u001B[1;32m   1602\u001B[0m         )\n\u001B[1;32m   1603\u001B[0m     ):\n\u001B[1;32m   1604\u001B[0m         session\u001B[38;5;241m.\u001B[39m_pin(server, conn)\n",
      "File \u001B[0;32m/anaconda/envs/finalProject/lib/python3.10/contextlib.py:135\u001B[0m, in \u001B[0;36m_GeneratorContextManager.__enter__\u001B[0;34m(self)\u001B[0m\n\u001B[1;32m    133\u001B[0m \u001B[38;5;28;01mdel\u001B[39;00m \u001B[38;5;28mself\u001B[39m\u001B[38;5;241m.\u001B[39margs, \u001B[38;5;28mself\u001B[39m\u001B[38;5;241m.\u001B[39mkwds, \u001B[38;5;28mself\u001B[39m\u001B[38;5;241m.\u001B[39mfunc\n\u001B[1;32m    134\u001B[0m \u001B[38;5;28;01mtry\u001B[39;00m:\n\u001B[0;32m--> 135\u001B[0m     \u001B[38;5;28;01mreturn\u001B[39;00m \u001B[38;5;28;43mnext\u001B[39;49m\u001B[43m(\u001B[49m\u001B[38;5;28;43mself\u001B[39;49m\u001B[38;5;241;43m.\u001B[39;49m\u001B[43mgen\u001B[49m\u001B[43m)\u001B[49m\n\u001B[1;32m    136\u001B[0m \u001B[38;5;28;01mexcept\u001B[39;00m \u001B[38;5;167;01mStopIteration\u001B[39;00m:\n\u001B[1;32m    137\u001B[0m     \u001B[38;5;28;01mraise\u001B[39;00m \u001B[38;5;167;01mRuntimeError\u001B[39;00m(\u001B[38;5;124m\"\u001B[39m\u001B[38;5;124mgenerator didn\u001B[39m\u001B[38;5;124m'\u001B[39m\u001B[38;5;124mt yield\u001B[39m\u001B[38;5;124m\"\u001B[39m) \u001B[38;5;28;01mfrom\u001B[39;00m \u001B[38;5;28;01mNone\u001B[39;00m\n",
      "File \u001B[0;32m/anaconda/envs/finalProject/lib/python3.10/site-packages/pymongo/synchronous/pool.py:1336\u001B[0m, in \u001B[0;36mPool.checkout\u001B[0;34m(self, handler)\u001B[0m\n\u001B[1;32m   1327\u001B[0m \u001B[38;5;28;01mif\u001B[39;00m \u001B[38;5;28mself\u001B[39m\u001B[38;5;241m.\u001B[39menabled_for_logging \u001B[38;5;129;01mand\u001B[39;00m _CONNECTION_LOGGER\u001B[38;5;241m.\u001B[39misEnabledFor(logging\u001B[38;5;241m.\u001B[39mDEBUG):\n\u001B[1;32m   1328\u001B[0m     _debug_log(\n\u001B[1;32m   1329\u001B[0m         _CONNECTION_LOGGER,\n\u001B[1;32m   1330\u001B[0m         clientId\u001B[38;5;241m=\u001B[39m\u001B[38;5;28mself\u001B[39m\u001B[38;5;241m.\u001B[39m_client_id,\n\u001B[0;32m   (...)\u001B[0m\n\u001B[1;32m   1333\u001B[0m         serverPort\u001B[38;5;241m=\u001B[39m\u001B[38;5;28mself\u001B[39m\u001B[38;5;241m.\u001B[39maddress[\u001B[38;5;241m1\u001B[39m],\n\u001B[1;32m   1334\u001B[0m     )\n\u001B[0;32m-> 1336\u001B[0m conn \u001B[38;5;241m=\u001B[39m \u001B[38;5;28;43mself\u001B[39;49m\u001B[38;5;241;43m.\u001B[39;49m\u001B[43m_get_conn\u001B[49m\u001B[43m(\u001B[49m\u001B[43mcheckout_started_time\u001B[49m\u001B[43m,\u001B[49m\u001B[43m \u001B[49m\u001B[43mhandler\u001B[49m\u001B[38;5;241;43m=\u001B[39;49m\u001B[43mhandler\u001B[49m\u001B[43m)\u001B[49m\n\u001B[1;32m   1338\u001B[0m duration \u001B[38;5;241m=\u001B[39m time\u001B[38;5;241m.\u001B[39mmonotonic() \u001B[38;5;241m-\u001B[39m checkout_started_time\n\u001B[1;32m   1339\u001B[0m \u001B[38;5;28;01mif\u001B[39;00m \u001B[38;5;28mself\u001B[39m\u001B[38;5;241m.\u001B[39menabled_for_cmap:\n",
      "File \u001B[0;32m/anaconda/envs/finalProject/lib/python3.10/site-packages/pymongo/synchronous/pool.py:1495\u001B[0m, in \u001B[0;36mPool._get_conn\u001B[0;34m(self, checkout_started_time, handler)\u001B[0m\n\u001B[1;32m   1493\u001B[0m \u001B[38;5;28;01melse\u001B[39;00m:  \u001B[38;5;66;03m# We need to create a new connection\u001B[39;00m\n\u001B[1;32m   1494\u001B[0m     \u001B[38;5;28;01mtry\u001B[39;00m:\n\u001B[0;32m-> 1495\u001B[0m         conn \u001B[38;5;241m=\u001B[39m \u001B[38;5;28;43mself\u001B[39;49m\u001B[38;5;241;43m.\u001B[39;49m\u001B[43mconnect\u001B[49m\u001B[43m(\u001B[49m\u001B[43mhandler\u001B[49m\u001B[38;5;241;43m=\u001B[39;49m\u001B[43mhandler\u001B[49m\u001B[43m)\u001B[49m\n\u001B[1;32m   1496\u001B[0m     \u001B[38;5;28;01mfinally\u001B[39;00m:\n\u001B[1;32m   1497\u001B[0m         \u001B[38;5;28;01mwith\u001B[39;00m \u001B[38;5;28mself\u001B[39m\u001B[38;5;241m.\u001B[39m_max_connecting_cond:\n",
      "File \u001B[0;32m/anaconda/envs/finalProject/lib/python3.10/site-packages/pymongo/synchronous/pool.py:1288\u001B[0m, in \u001B[0;36mPool.connect\u001B[0;34m(self, handler)\u001B[0m\n\u001B[1;32m   1286\u001B[0m conn \u001B[38;5;241m=\u001B[39m Connection(sock, \u001B[38;5;28mself\u001B[39m, \u001B[38;5;28mself\u001B[39m\u001B[38;5;241m.\u001B[39maddress, conn_id)  \u001B[38;5;66;03m# type: ignore[arg-type]\u001B[39;00m\n\u001B[1;32m   1287\u001B[0m \u001B[38;5;28;01mwith\u001B[39;00m \u001B[38;5;28mself\u001B[39m\u001B[38;5;241m.\u001B[39mlock:\n\u001B[0;32m-> 1288\u001B[0m     \u001B[38;5;28;43mself\u001B[39;49m\u001B[38;5;241;43m.\u001B[39;49m\u001B[43mactive_contexts\u001B[49m\u001B[38;5;241;43m.\u001B[39;49m\u001B[43madd\u001B[49m\u001B[43m(\u001B[49m\u001B[43mconn\u001B[49m\u001B[38;5;241;43m.\u001B[39;49m\u001B[43mcancel_context\u001B[49m\u001B[43m)\u001B[49m\n\u001B[1;32m   1289\u001B[0m \u001B[38;5;28;01mtry\u001B[39;00m:\n\u001B[1;32m   1290\u001B[0m     \u001B[38;5;28;01mif\u001B[39;00m \u001B[38;5;28mself\u001B[39m\u001B[38;5;241m.\u001B[39mhandshake:\n",
      "\u001B[0;31mKeyboardInterrupt\u001B[0m: "
     ]
    }
   ],
   "execution_count": 4
  },
  {
   "metadata": {},
   "cell_type": "code",
   "source": "full_results.head(20)",
   "id": "bab0f9708fa48fc0",
   "outputs": [],
   "execution_count": null
  },
  {
   "metadata": {},
   "cell_type": "code",
   "source": "#db_handler = DBHandler(org_id='maccabi_emb1', user_id='evaluator', search_method='exact')",
   "id": "3a53070ed768a280",
   "outputs": [],
   "execution_count": null
  },
  {
   "metadata": {},
   "cell_type": "code",
   "source": [
    "# import pymongo\n",
    "# import os\n",
    "# \n",
    "# client = pymongo.MongoClient(os.getenv(\"MONGODB_CONNECTION_STRING\"))\n",
    "# db = client[\"embeddings\"]\n",
    "# collection = db[\"maccabi_emb2\"]\n",
    "# chunks = collection.find()\n",
    "# chunks = list(chunks)"
   ],
   "id": "a5a0ec27133a0bc3",
   "outputs": [],
   "execution_count": null
  },
  {
   "metadata": {},
   "cell_type": "code",
   "source": [
    "# files_nums = [10, 32, 34, 87, 122, 137, 161, 171, 176, 229]\n",
    "# for file_num in files_nums:\n",
    "# \tids = ''\n",
    "# \tfor chunk in chunks:\n",
    "# \t\tif chunk['origin_file'] == f'section_{file_num}.txt':\n",
    "# \t\t\tids += str(chunk['_id']) + ','\n",
    "# \tprint(f'file {file_num} chunks ids: {ids[:-1]}\\n')"
   ],
   "id": "577f66502288f1cc",
   "outputs": [],
   "execution_count": null
  },
  {
   "metadata": {},
   "cell_type": "code",
   "source": "",
   "id": "9f69989b562e096c",
   "outputs": [],
   "execution_count": null
  }
 ],
 "metadata": {
  "kernelspec": {
   "display_name": "Python 3",
   "language": "python",
   "name": "python3"
  },
  "language_info": {
   "codemirror_mode": {
    "name": "ipython",
    "version": 2
   },
   "file_extension": ".py",
   "mimetype": "text/x-python",
   "name": "python",
   "nbconvert_exporter": "python",
   "pygments_lexer": "ipython2",
   "version": "2.7.6"
  }
 },
 "nbformat": 4,
 "nbformat_minor": 5
}
