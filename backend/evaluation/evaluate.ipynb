{
 "cells": [
  {
   "cell_type": "code",
   "id": "initial_id",
   "metadata": {
    "collapsed": true,
    "ExecuteTime": {
     "end_time": "2024-10-23T09:56:05.709995Z",
     "start_time": "2024-10-23T09:55:58.560287Z"
    }
   },
   "source": [
    "import pandas as pd\n",
    "import transformers\n",
    "transformers.logging.set_verbosity_error()\n",
    "from backend.evaluation.evaluation import Evaluator\n",
    "from backend.pipeline.DBHandler import DBHandler"
   ],
   "outputs": [
    {
     "name": "stdout",
     "output_type": "stream",
     "text": [
      "sagemaker.config INFO - Not applying SDK defaults from location: /etc/xdg/sagemaker/config.yaml\n",
      "sagemaker.config INFO - Not applying SDK defaults from location: /home/student/.config/sagemaker/config.yaml\n"
     ]
    }
   ],
   "execution_count": 1
  },
  {
   "metadata": {
    "ExecuteTime": {
     "end_time": "2024-10-23T09:56:05.715638Z",
     "start_time": "2024-10-23T09:56:05.711834Z"
    }
   },
   "cell_type": "code",
   "source": [
    "def get_ground_truth_data(gt_file=\"./FAQ.xlsx\"):\n",
    "    # Load ground truth data from a file\n",
    "    data = pd.read_excel(gt_file)\n",
    "    QA_list = []\n",
    "    for i, row in data.iterrows():\n",
    "        if i == 3:\n",
    "            break\n",
    "        QA_list.append((row[\"question\"], row[\"answer\"]))\n",
    "    return QA_list"
   ],
   "id": "f8bf99d8cc48403",
   "outputs": [],
   "execution_count": 2
  },
  {
   "metadata": {
    "ExecuteTime": {
     "end_time": "2024-10-23T09:56:06.031638Z",
     "start_time": "2024-10-23T09:56:05.717232Z"
    }
   },
   "cell_type": "code",
   "source": [
    "ground_truth_data = get_ground_truth_data()\n",
    "db_handler = DBHandler(org_id='maccabi', user_id='evaluator')"
   ],
   "id": "8d39e990ab64a525",
   "outputs": [],
   "execution_count": 3
  },
  {
   "metadata": {
    "ExecuteTime": {
     "end_time": "2024-10-23T09:56:47.824114Z",
     "start_time": "2024-10-23T09:56:06.034166Z"
    }
   },
   "cell_type": "code",
   "source": [
    "evaluator = Evaluator(db_handler)\n",
    "results = evaluator.evaluate(ground_truth_data)"
   ],
   "id": "130a1b2518ca9041",
   "outputs": [
    {
     "name": "stdout",
     "output_type": "stream",
     "text": [
      "Processing question 1/11\n",
      "Processing question 2/11\n",
      "Processing question 3/11\n",
      "Processing question 4/11\n",
      "Processing question 5/11\n",
      "Processing question 6/11\n",
      "Processing question 7/11\n",
      "Processing question 8/11\n",
      "Processing question 9/11\n",
      "An error occurred while processing question 9: division by zero\n",
      "Processing question 10/11\n",
      "Processing question 11/11\n"
     ]
    }
   ],
   "execution_count": 4
  },
  {
   "metadata": {
    "ExecuteTime": {
     "end_time": "2024-10-23T09:56:47.844659Z",
     "start_time": "2024-10-23T09:56:47.825603Z"
    }
   },
   "cell_type": "code",
   "source": [
    "pd.set_option('display.max_colwidth',1)\n",
    "results.to_csv(\"results.csv\")\n",
    "results.head(10)"
   ],
   "id": "bab0f9708fa48fc0",
   "outputs": [
    {
     "data": {
      "text/plain": [
       "                                                                                                         question  \\\n",
       "0  Who is eligible to transportation for treatments and examinations for dialysis patients up to 18 years of age?   \n",
       "1  How much Examination and treatment for vision focus cost?                                                        \n",
       "2  Where Psychodiagnostic diagnosis is provided?                                                                    \n",
       "3  Does doctor's referral is necessary to do a test in order toidentify my blood type?                              \n",
       "4  Can I come to a health institutions with a service animal?                                                       \n",
       "5  Where can I vaccinate my baby for \"Pent-up\"?                                                                     \n",
       "6  I want to do clinical mammography, but I don't have any medical need. Where can I do it?                         \n",
       "7  What is the entitlement for wrist sheild?                                                                        \n",
       "8  What is a “home visit”?                                                                                          \n",
       "9  What is the quarterly cost to visit a specialist?                                                                \n",
       "\n",
       "                                                                                                                                                                                                                                                                                                                                                                                                                                                                                                                                                                                                                                                                                      true_answer  \\\n",
       "0  Children and youth members of the Maccabi are dialysis patients who are not yet 18 years old, traveling for treatment in a hospital, at a dedicated dialysis institute for children. Eligibility for dialysis patients under the age of 18                                                                                                                                                                                                                                                                                                                                                                                                                                                       \n",
       "1  The price varies depending on the medical institution that performs the tests and treatments\\n At the Maccabi Eye Institute in Assuta Shalom in Tel Aviv or with therapists who have an agreement with Maccabi - 72₪ deductible for evaluation tests, 55₪ deductible for each orthopedic treatment.\\nIn a public hospital - Pledge with deduction of 72₪ deductible for evaluation tests and pledge with deduction of 55₪ deductible for each orthopedic treatment.\\nIn remote areas for patients who do not have an agreement with Maccabi - 50% reimbursement of the rate of the Ministry of Health and offset of a deductible of 72₪ for evaluation tests and 55₪ for orthopedic treatment.   \n",
       "2  At Maccabi Mental Health Clinics.                                                                                                                                                                                                                                                                                                                                                                                                                                                                                                                                                                                                                                                                \n",
       "3  A doctor's referral is necessary.                                                                                                                                                                                                                                                                                                                                                                                                                                                                                                                                                                                                                                                                \n",
       "4   In accordance with the Law on the Rights of Persons with Disabilities, there is an obligation on service providers in health institutions to allow a person with a disability to receive service while assisting a service animal. A service animal is any animal whose owner carries a certificate or marking attesting to being a “service animal”.                                                                                                                                                                                                                                                                                                                                           \n",
       "5  At milk drop stations of Maccabi\\nIf your village does not have a Maccabi milk drop station, you can locate a nearby milk drop station on the website of the Ministry of Health.                                                                                                                                                                                                                                                                                                                                                                                                                                                                                                                 \n",
       "6  My Maccabi, gold and silver companies interested in examination without medical need - in Asuta salons only.                                                                                                                                                                                                                                                                                                                                                                                                                                                                                                                                                                                     \n",
       "7  Only one accessory per limb (for example, one per hand), once a calendar year with agreed suppliers.Seniority is required in the insurance plan\\nThe service is given to Maccabi Shelli and Maccabi Gold members after 12 months from the date of joining the program.                                                                                                                                                                                                                                                                                                                                                                                                                           \n",
       "8  Maccabi members are entitled to video medical advice -- a “home visit” by doctors and therapists via video, without having to go to the clinic.                                                                                                                                                                                                                                                                                                                                                                                                                                                                                                                                                  \n",
       "9  Visit to a specialist - 36₪ quarterly deductible                                                                                                                                                                                                                                                                                                                                                                                                                                                                                                                                                                                                                                                 \n",
       "\n",
       "                                                                                                                  chatbot_answer  \\\n",
       "0  Children and youth members of the Maccabi who are dialysis patients and not yet 18 years old are eligible for transportation.   \n",
       "1  The cost varies depending on the medical institution that performs the tests and treatments.                                    \n",
       "2  At Maccabi Mental Health Clinics.                                                                                               \n",
       "3  A doctor's referral is necessary.                                                                                               \n",
       "4  Generally, service animals are allowed in most health institutions. However, there are some exceptions.                         \n",
       "5  You can vaccinate your baby for \"Pent-up\" at Maccabi milk drop stations.                                                        \n",
       "6  Asuta salons.                                                                                                                   \n",
       "7  Only one wrist shield per limb, once per calendar year with agreed suppliers.                                                   \n",
       "8  A \"home visit\" is a video call with a doctor or therapist using a personal computer or smartphone.                              \n",
       "9  The quarterly cost to visit a specialist is 36₪.                                                                                \n",
       "\n",
       "   cosine_similarity  correctness_score  faithfulness_score  \n",
       "0  0.894024           0.520230           0.822125            \n",
       "1  0.765652           0.255217           0.701821            \n",
       "2  1.000000           0.666667           0.743116            \n",
       "3  1.000000           0.666667           0.637192            \n",
       "4  0.880600           0.626867           0.770856            \n",
       "5  0.812320           0.437440           0.838165            \n",
       "6  0.778071           0.259357           0.581229            \n",
       "7  0.753938           0.317979           0.675956            \n",
       "8  0.809305           0.269768           0.712754            \n",
       "9  0.908935           0.636312           0.694263            "
      ],
      "text/html": [
       "<div>\n",
       "<style scoped>\n",
       "    .dataframe tbody tr th:only-of-type {\n",
       "        vertical-align: middle;\n",
       "    }\n",
       "\n",
       "    .dataframe tbody tr th {\n",
       "        vertical-align: top;\n",
       "    }\n",
       "\n",
       "    .dataframe thead th {\n",
       "        text-align: right;\n",
       "    }\n",
       "</style>\n",
       "<table border=\"1\" class=\"dataframe\">\n",
       "  <thead>\n",
       "    <tr style=\"text-align: right;\">\n",
       "      <th></th>\n",
       "      <th>question</th>\n",
       "      <th>true_answer</th>\n",
       "      <th>chatbot_answer</th>\n",
       "      <th>cosine_similarity</th>\n",
       "      <th>correctness_score</th>\n",
       "      <th>faithfulness_score</th>\n",
       "    </tr>\n",
       "  </thead>\n",
       "  <tbody>\n",
       "    <tr>\n",
       "      <th>0</th>\n",
       "      <td>Who is eligible to transportation for treatments and examinations for dialysis patients up to 18 years of age?</td>\n",
       "      <td>Children and youth members of the Maccabi are dialysis patients who are not yet 18 years old, traveling for treatment in a hospital, at a dedicated dialysis institute for children. Eligibility for dialysis patients under the age of 18</td>\n",
       "      <td>Children and youth members of the Maccabi who are dialysis patients and not yet 18 years old are eligible for transportation.</td>\n",
       "      <td>0.894024</td>\n",
       "      <td>0.520230</td>\n",
       "      <td>0.822125</td>\n",
       "    </tr>\n",
       "    <tr>\n",
       "      <th>1</th>\n",
       "      <td>How much Examination and treatment for vision focus cost?</td>\n",
       "      <td>The price varies depending on the medical institution that performs the tests and treatments\\n At the Maccabi Eye Institute in Assuta Shalom in Tel Aviv or with therapists who have an agreement with Maccabi - 72₪ deductible for evaluation tests, 55₪ deductible for each orthopedic treatment.\\nIn a public hospital - Pledge with deduction of 72₪ deductible for evaluation tests and pledge with deduction of 55₪ deductible for each orthopedic treatment.\\nIn remote areas for patients who do not have an agreement with Maccabi - 50% reimbursement of the rate of the Ministry of Health and offset of a deductible of 72₪ for evaluation tests and 55₪ for orthopedic treatment.</td>\n",
       "      <td>The cost varies depending on the medical institution that performs the tests and treatments.</td>\n",
       "      <td>0.765652</td>\n",
       "      <td>0.255217</td>\n",
       "      <td>0.701821</td>\n",
       "    </tr>\n",
       "    <tr>\n",
       "      <th>2</th>\n",
       "      <td>Where Psychodiagnostic diagnosis is provided?</td>\n",
       "      <td>At Maccabi Mental Health Clinics.</td>\n",
       "      <td>At Maccabi Mental Health Clinics.</td>\n",
       "      <td>1.000000</td>\n",
       "      <td>0.666667</td>\n",
       "      <td>0.743116</td>\n",
       "    </tr>\n",
       "    <tr>\n",
       "      <th>3</th>\n",
       "      <td>Does doctor's referral is necessary to do a test in order toidentify my blood type?</td>\n",
       "      <td>A doctor's referral is necessary.</td>\n",
       "      <td>A doctor's referral is necessary.</td>\n",
       "      <td>1.000000</td>\n",
       "      <td>0.666667</td>\n",
       "      <td>0.637192</td>\n",
       "    </tr>\n",
       "    <tr>\n",
       "      <th>4</th>\n",
       "      <td>Can I come to a health institutions with a service animal?</td>\n",
       "      <td>In accordance with the Law on the Rights of Persons with Disabilities, there is an obligation on service providers in health institutions to allow a person with a disability to receive service while assisting a service animal. A service animal is any animal whose owner carries a certificate or marking attesting to being a “service animal”.</td>\n",
       "      <td>Generally, service animals are allowed in most health institutions. However, there are some exceptions.</td>\n",
       "      <td>0.880600</td>\n",
       "      <td>0.626867</td>\n",
       "      <td>0.770856</td>\n",
       "    </tr>\n",
       "    <tr>\n",
       "      <th>5</th>\n",
       "      <td>Where can I vaccinate my baby for \"Pent-up\"?</td>\n",
       "      <td>At milk drop stations of Maccabi\\nIf your village does not have a Maccabi milk drop station, you can locate a nearby milk drop station on the website of the Ministry of Health.</td>\n",
       "      <td>You can vaccinate your baby for \"Pent-up\" at Maccabi milk drop stations.</td>\n",
       "      <td>0.812320</td>\n",
       "      <td>0.437440</td>\n",
       "      <td>0.838165</td>\n",
       "    </tr>\n",
       "    <tr>\n",
       "      <th>6</th>\n",
       "      <td>I want to do clinical mammography, but I don't have any medical need. Where can I do it?</td>\n",
       "      <td>My Maccabi, gold and silver companies interested in examination without medical need - in Asuta salons only.</td>\n",
       "      <td>Asuta salons.</td>\n",
       "      <td>0.778071</td>\n",
       "      <td>0.259357</td>\n",
       "      <td>0.581229</td>\n",
       "    </tr>\n",
       "    <tr>\n",
       "      <th>7</th>\n",
       "      <td>What is the entitlement for wrist sheild?</td>\n",
       "      <td>Only one accessory per limb (for example, one per hand), once a calendar year with agreed suppliers.Seniority is required in the insurance plan\\nThe service is given to Maccabi Shelli and Maccabi Gold members after 12 months from the date of joining the program.</td>\n",
       "      <td>Only one wrist shield per limb, once per calendar year with agreed suppliers.</td>\n",
       "      <td>0.753938</td>\n",
       "      <td>0.317979</td>\n",
       "      <td>0.675956</td>\n",
       "    </tr>\n",
       "    <tr>\n",
       "      <th>8</th>\n",
       "      <td>What is a “home visit”?</td>\n",
       "      <td>Maccabi members are entitled to video medical advice -- a “home visit” by doctors and therapists via video, without having to go to the clinic.</td>\n",
       "      <td>A \"home visit\" is a video call with a doctor or therapist using a personal computer or smartphone.</td>\n",
       "      <td>0.809305</td>\n",
       "      <td>0.269768</td>\n",
       "      <td>0.712754</td>\n",
       "    </tr>\n",
       "    <tr>\n",
       "      <th>9</th>\n",
       "      <td>What is the quarterly cost to visit a specialist?</td>\n",
       "      <td>Visit to a specialist - 36₪ quarterly deductible</td>\n",
       "      <td>The quarterly cost to visit a specialist is 36₪.</td>\n",
       "      <td>0.908935</td>\n",
       "      <td>0.636312</td>\n",
       "      <td>0.694263</td>\n",
       "    </tr>\n",
       "  </tbody>\n",
       "</table>\n",
       "</div>"
      ]
     },
     "execution_count": 5,
     "metadata": {},
     "output_type": "execute_result"
    }
   ],
   "execution_count": 5
  }
 ],
 "metadata": {
  "kernelspec": {
   "display_name": "Python 3",
   "language": "python",
   "name": "python3"
  },
  "language_info": {
   "codemirror_mode": {
    "name": "ipython",
    "version": 2
   },
   "file_extension": ".py",
   "mimetype": "text/x-python",
   "name": "python",
   "nbconvert_exporter": "python",
   "pygments_lexer": "ipython2",
   "version": "2.7.6"
  }
 },
 "nbformat": 4,
 "nbformat_minor": 5
}
