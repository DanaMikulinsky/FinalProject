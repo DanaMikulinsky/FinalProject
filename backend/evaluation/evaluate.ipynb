{
 "cells": [
  {
   "metadata": {},
   "cell_type": "markdown",
   "source": "# Evaluating the chatbot",
   "id": "ba863e86a3c1f395"
  },
  {
   "metadata": {},
   "cell_type": "markdown",
   "source": [
    "The ground truth data was manually created by the team and is stored in an Excel file. The file contains the following information:\n",
    "1. Question\n",
    "2. Correct answer\n",
    "3. The ID's of the relevant chunks that should be returned by the retriever"
   ],
   "id": "6fc862bb1271f871"
  },
  {
   "cell_type": "code",
   "id": "initial_id",
   "metadata": {
    "collapsed": true,
    "ExecuteTime": {
     "end_time": "2024-10-25T07:36:24.332093Z",
     "start_time": "2024-10-25T07:34:58.402725Z"
    }
   },
   "source": [
    "import pandas as pd\n",
    "import transformers\n",
    "from retrying import retry\n",
    "transformers.logging.set_verbosity_error()\n",
    "from backend.evaluation.Evaluator import Evaluator\n",
    "from backend.pipeline.DBHandler import DBHandler"
   ],
   "outputs": [
    {
     "name": "stdout",
     "output_type": "stream",
     "text": [
      "sagemaker.config INFO - Not applying SDK defaults from location: /etc/xdg/sagemaker/config.yaml\n",
      "sagemaker.config INFO - Not applying SDK defaults from location: /home/student/.config/sagemaker/config.yaml\n"
     ]
    }
   ],
   "execution_count": 1
  },
  {
   "metadata": {
    "ExecuteTime": {
     "end_time": "2024-10-25T07:36:29.874928Z",
     "start_time": "2024-10-25T07:36:29.870754Z"
    }
   },
   "cell_type": "code",
   "source": [
    "#@retry(stop_max_attempt_number=3, wait_fixed=60*1000)  # 3 attempts, 60 seconds between retries\n",
    "def get_ground_truth_data(emb, gt_file=\"./FAQ.xlsx\"):\n",
    "    # Load ground truth data from a file\n",
    "    data = pd.read_excel(gt_file)\n",
    "    QA_list = []\n",
    "    for i, row in data.iterrows():\n",
    "        relevant_chunks_id = row[f\"relevant_chunks_id_{emb}\"].strip().split(\",\")\n",
    "        QA_list.append((row[\"question\"], row[\"answer\"], relevant_chunks_id))\n",
    "    return QA_list\n"
   ],
   "id": "f8bf99d8cc48403",
   "outputs": [],
   "execution_count": 2
  },
  {
   "metadata": {
    "ExecuteTime": {
     "end_time": "2024-10-25T07:36:32.875851Z",
     "start_time": "2024-10-25T07:36:32.871040Z"
    }
   },
   "cell_type": "code",
   "source": [
    "def evaluate_chatbot(ground_truth_data, style, embedding_type, search_method, llm_name):\n",
    "    db_handler = DBHandler(org_id=f'maccabi_{embedding_type}', user_id='evaluator', search_method=search_method)\n",
    "    evaluator = Evaluator(db_handler, style=style, llm_model_name=llm_name)\n",
    "    results = evaluator.evaluate(ground_truth_data)\n",
    "    results['style'] = style if style != '' else 'neutral'\n",
    "    results['embedding_type'] = embedding_type\n",
    "    results['search_method'] = search_method\n",
    "    results['llm_name'] = llm_name\n",
    "    return results"
   ],
   "id": "c115af7236ff8243",
   "outputs": [],
   "execution_count": 3
  },
  {
   "metadata": {},
   "cell_type": "markdown",
   "source": [
    "Evaluating the chatbot's answers with the ground truth data. Various configurations are tested:\n",
    "1. 3 llms\n",
    "2. 3 embedding types\n",
    "3. 2 search methods\n",
    "4. 5 styles"
   ],
   "id": "9d05a73ad7cd58b1"
  },
  {
   "metadata": {},
   "cell_type": "code",
   "source": [
    "styles = ['', 'kids', 'elderly', 'emoji', 'rhymes'] # empty string means no style\n",
    "embedding_types = ['emb1', # models/text-embedding-004\n",
    "                   'emb2', # models/embedding-001\n",
    "                   'emb3'] # from HW1: SentenceTransformer('all-MiniLM-L6-v2')\n",
    "llm_names = ['gemini-1.5-flash', \n",
    "             'meta-llama/Meta-Llama-3.1-8B-Instruct-Turbo', \n",
    "             'mistralai/Mistral-7B-Instruct-v0.1']\n",
    "search_methods = ['approximate', 'exact'] \n",
    "\n",
    "full_results = pd.DataFrame(columns=['style', 'embedding_type', 'search_method', 'llm_name', 'question', 'true_answer', 'chatbot_answer', 'cosine_similarity', 'correctness_score', 'faithfulness_score', 'retriever_scores'])\n",
    "\n",
    "for style in styles:\n",
    "    str_style = style if style != '' else 'neutral'\n",
    "    print(f\"Style: {str_style}\", end=\" | \")\n",
    "    for embedding_type in embedding_types:\n",
    "        ground_truth_data = get_ground_truth_data(embedding_type)\n",
    "        print(f\"embedding_type: {embedding_type}\", end=\" | \")\n",
    "        for llm_name in llm_names:\n",
    "            print(f\"llm_name: {llm_name}\", end=\" | \")\n",
    "            for search_method in search_methods:\n",
    "                print(f\"search_method: {search_method} | \", end=\" Status: \")\n",
    "                try:\n",
    "                    results = evaluate_chatbot(ground_truth_data, style, embedding_type, search_method, llm_name)\n",
    "                    full_results = pd.concat([full_results, results], ignore_index=True)\n",
    "                    full_results.to_csv(\"full_results.csv\", index=False) #re-save after each iteration to be safe :)\n",
    "                    print(\"Done\")\n",
    "                except Exception as e:\n",
    "                    print(f\"Configuration failed\")\n",
    "                    print(f\"Error content: {e}\") \n",
    "                    continue"
   ],
   "id": "130a1b2518ca9041",
   "outputs": [],
   "execution_count": null
  },
  {
   "metadata": {},
   "cell_type": "code",
   "source": "full_results.head(20)",
   "id": "bab0f9708fa48fc0",
   "outputs": [],
   "execution_count": null
  }
 ],
 "metadata": {
  "kernelspec": {
   "display_name": "Python 3",
   "language": "python",
   "name": "python3"
  },
  "language_info": {
   "codemirror_mode": {
    "name": "ipython",
    "version": 2
   },
   "file_extension": ".py",
   "mimetype": "text/x-python",
   "name": "python",
   "nbconvert_exporter": "python",
   "pygments_lexer": "ipython2",
   "version": "2.7.6"
  }
 },
 "nbformat": 4,
 "nbformat_minor": 5
}
