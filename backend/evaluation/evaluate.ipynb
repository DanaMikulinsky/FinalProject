{
 "cells": [
  {
   "cell_type": "code",
   "id": "initial_id",
   "metadata": {
    "collapsed": true,
    "ExecuteTime": {
     "end_time": "2024-10-22T12:50:42.177889Z",
     "start_time": "2024-10-22T12:50:34.722934Z"
    }
   },
   "source": [
    "import pandas as pd\n",
    "import transformers\n",
    "transformers.logging.set_verbosity_error()\n",
    "from backend.evaluation.evaluation import Evaluator\n",
    "from backend.pipeline.DBHandler import DBHandler"
   ],
   "execution_count": 1,
   "outputs": []
  },
  {
   "metadata": {
    "ExecuteTime": {
     "end_time": "2024-10-22T12:50:42.881903Z",
     "start_time": "2024-10-22T12:50:42.878122Z"
    }
   },
   "cell_type": "code",
   "source": [
    "def get_ground_truth_data(gt_file=\"./FAQ.xlsx\"):\n",
    "    # Load ground truth data from a file\n",
    "    data = pd.read_excel(gt_file)\n",
    "    QA_list = []\n",
    "    for i, row in data.iterrows():\n",
    "        if i == 1:\n",
    "            break\n",
    "        relevant_chunks_id = row[\"relevant_chunks_id\"].strip().split(\",\")\n",
    "        QA_list.append((row[\"question\"], row[\"answer\"], relevant_chunks_id))\n",
    "    return QA_list"
   ],
   "id": "f8bf99d8cc48403",
   "execution_count": 2,
   "outputs": []
  },
  {
   "metadata": {
    "ExecuteTime": {
     "end_time": "2024-10-22T12:50:52.024360Z",
     "start_time": "2024-10-22T12:50:43.432784Z"
    }
   },
   "cell_type": "code",
   "source": [
    "ground_truth_data = get_ground_truth_data()\n",
    "db_handler = DBHandler(org_id='maccabi', user_id='evaluator')\n",
    "evaluator = Evaluator(db_handler)\n",
    "results = evaluator.evaluate(ground_truth_data)"
   ],
   "id": "130a1b2518ca9041",
   "execution_count": 3,
   "outputs": []
  },
  {
   "metadata": {},
   "cell_type": "code",
   "source": [
    "pd.set_option('display.max_colwidth',1)\n",
    "results.to_csv(\"results.csv\")\n",
    "results.head(10)"
   ],
   "id": "bab0f9708fa48fc0",
   "execution_count": null,
   "outputs": []
  }
 ],
 "metadata": {
  "kernelspec": {
   "display_name": "Python 3",
   "language": "python",
   "name": "python3"
  },
  "language_info": {
   "codemirror_mode": {
    "name": "ipython",
    "version": 2
   },
   "file_extension": ".py",
   "mimetype": "text/x-python",
   "name": "python",
   "nbconvert_exporter": "python",
   "pygments_lexer": "ipython2",
   "version": "2.7.6"
  }
 },
 "nbformat": 4,
 "nbformat_minor": 5
}
